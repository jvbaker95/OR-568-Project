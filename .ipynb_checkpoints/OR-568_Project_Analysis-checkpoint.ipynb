{
 "cells": [
  {
   "cell_type": "markdown",
   "metadata": {
    "id": "gdH9IFA9k9ZM"
   },
   "source": [
    "# OR 568 - Rogers Rangers\n",
    "## NYC Rolling Sales Dataset\n",
    "\n",
    "James Baker\n",
    "\n",
    "Arturo Davila-Andino\n",
    "\n",
    "Gridihar Kaushik Ramachandran (GK)\n",
    "\n",
    "Andrew So"
   ]
  },
  {
   "cell_type": "markdown",
   "metadata": {
    "id": "cnbbh4XKk9ZO"
   },
   "source": [
    "## Developer Notes\n",
    "\n",
    "*James B*: For tables, I generally build them in excel and then convert them into Markdown tables at these two links:\n",
    "* https://tableconvert.com/\n",
    "* https://www.tablesgenerator.com/markdown_tables"
   ]
  },
  {
   "cell_type": "markdown",
   "metadata": {
    "id": "vQN3hhBXk9ZO"
   },
   "source": [
    "# Initial Setup / Package Imports"
   ]
  },
  {
   "cell_type": "code",
   "execution_count": 2,
   "metadata": {
    "colab": {
     "base_uri": "https://localhost:8080/",
     "height": 1000
    },
    "id": "XOUWagt-k9ZP",
    "outputId": "0e882913-2873-49cf-db91-7c74aca69593",
    "scrolled": true
   },
   "outputs": [
    {
     "name": "stderr",
     "output_type": "stream",
     "text": [
      "Loading required package: ggplot2\n",
      "\n",
      "Loading required package: plyr\n",
      "\n",
      "Loading required package: mlbench\n",
      "\n",
      "Loading required package: e1071\n",
      "\n",
      "Loading required package: dplyr\n",
      "\n",
      "\n",
      "Attaching package: 'dplyr'\n",
      "\n",
      "\n",
      "The following objects are masked from 'package:plyr':\n",
      "\n",
      "    arrange, count, desc, failwith, id, mutate, rename, summarise,\n",
      "    summarize\n",
      "\n",
      "\n",
      "The following objects are masked from 'package:stats':\n",
      "\n",
      "    filter, lag\n",
      "\n",
      "\n",
      "The following objects are masked from 'package:base':\n",
      "\n",
      "    intersect, setdiff, setequal, union\n",
      "\n",
      "\n",
      "Loading required package: caret\n",
      "\n",
      "Loading required package: lattice\n",
      "\n",
      "Loading required package: pls\n",
      "\n",
      "\n",
      "Attaching package: 'pls'\n",
      "\n",
      "\n",
      "The following object is masked from 'package:caret':\n",
      "\n",
      "    R2\n",
      "\n",
      "\n",
      "The following object is masked from 'package:stats':\n",
      "\n",
      "    loadings\n",
      "\n",
      "\n",
      "Loading required package: lars\n",
      "\n",
      "Loaded lars 1.2\n",
      "\n",
      "\n",
      "Loading required package: elasticnet\n",
      "\n",
      "Loading required package: AppliedPredictiveModeling\n",
      "\n",
      "Loading required package: tidyr\n",
      "\n",
      "Loading required package: magrittr\n",
      "\n",
      "\n",
      "Attaching package: 'magrittr'\n",
      "\n",
      "\n",
      "The following object is masked from 'package:tidyr':\n",
      "\n",
      "    extract\n",
      "\n",
      "\n",
      "Loading required package: stringr\n",
      "\n",
      "Loading required package: readr\n",
      "\n",
      "Loading required package: nortest\n",
      "\n",
      "Warning message:\n",
      "\"package 'nortest' was built under R version 4.0.3\"\n",
      "Loading required package: epiDisplay\n",
      "\n",
      "Warning message:\n",
      "\"package 'epiDisplay' was built under R version 4.0.3\"\n",
      "Loading required package: foreign\n",
      "\n",
      "Loading required package: survival\n",
      "\n",
      "\n",
      "Attaching package: 'survival'\n",
      "\n",
      "\n",
      "The following object is masked from 'package:caret':\n",
      "\n",
      "    cluster\n",
      "\n",
      "\n",
      "Loading required package: MASS\n",
      "\n",
      "\n",
      "Attaching package: 'MASS'\n",
      "\n",
      "\n",
      "The following object is masked from 'package:dplyr':\n",
      "\n",
      "    select\n",
      "\n",
      "\n",
      "Loading required package: nnet\n",
      "\n",
      "\n",
      "Attaching package: 'epiDisplay'\n",
      "\n",
      "\n",
      "The following object is masked from 'package:lattice':\n",
      "\n",
      "    dotplot\n",
      "\n",
      "\n",
      "The following object is masked from 'package:ggplot2':\n",
      "\n",
      "    alpha\n",
      "\n",
      "\n",
      "Loading required package: corrplot\n",
      "\n",
      "Warning message:\n",
      "\"package 'corrplot' was built under R version 4.0.3\"\n",
      "corrplot 0.84 loaded\n",
      "\n",
      "\n",
      "Attaching package: 'corrplot'\n",
      "\n",
      "\n",
      "The following object is masked from 'package:pls':\n",
      "\n",
      "    corrplot\n",
      "\n",
      "\n",
      "Loading required package: RColorBrewer\n",
      "\n",
      "Loading required package: bestNormalize\n",
      "\n",
      "Warning message:\n",
      "\"package 'bestNormalize' was built under R version 4.0.3\"\n",
      "\n",
      "Attaching package: 'bestNormalize'\n",
      "\n",
      "\n",
      "The following object is masked from 'package:MASS':\n",
      "\n",
      "    boxcox\n",
      "\n",
      "\n",
      "Loading required package: randomForest\n",
      "\n",
      "randomForest 4.6-14\n",
      "\n",
      "Type rfNews() to see new features/changes/bug fixes.\n",
      "\n",
      "\n",
      "Attaching package: 'randomForest'\n",
      "\n",
      "\n",
      "The following object is masked from 'package:dplyr':\n",
      "\n",
      "    combine\n",
      "\n",
      "\n",
      "The following object is masked from 'package:ggplot2':\n",
      "\n",
      "    margin\n",
      "\n",
      "\n",
      "Loading required package: earth\n",
      "\n",
      "Loading required package: Formula\n",
      "\n",
      "Loading required package: plotmo\n",
      "\n",
      "Loading required package: plotrix\n",
      "\n",
      "Loading required package: TeachingDemos\n",
      "\n"
     ]
    },
    {
     "data": {
      "text/html": [
       "<style>\n",
       ".dl-inline {width: auto; margin:0; padding: 0}\n",
       ".dl-inline>dt, .dl-inline>dd {float: none; width: auto; display: inline-block}\n",
       ".dl-inline>dt::after {content: \":\\0020\"; padding-right: .5ex}\n",
       ".dl-inline>dt:not(:first-of-type) {padding-left: .5ex}\n",
       "</style><dl class=dl-inline><dt>ggplot2</dt><dd>TRUE</dd><dt>plyr</dt><dd>TRUE</dd><dt>mlbench</dt><dd>TRUE</dd><dt>e1071</dt><dd>TRUE</dd><dt>dplyr</dt><dd>TRUE</dd><dt>caret</dt><dd>TRUE</dd><dt>pls</dt><dd>TRUE</dd><dt>lars</dt><dd>TRUE</dd><dt>elasticnet</dt><dd>TRUE</dd><dt>AppliedPredictiveModeling</dt><dd>TRUE</dd><dt>tidyr</dt><dd>TRUE</dd><dt>magrittr</dt><dd>TRUE</dd><dt>stringr</dt><dd>TRUE</dd><dt>readr</dt><dd>TRUE</dd><dt>nortest</dt><dd>TRUE</dd><dt>epiDisplay</dt><dd>TRUE</dd><dt>corrplot</dt><dd>TRUE</dd><dt>RColorBrewer</dt><dd>TRUE</dd><dt>bestNormalize</dt><dd>TRUE</dd><dt>randomForest</dt><dd>TRUE</dd><dt>earth</dt><dd>TRUE</dd><dt>plotmo</dt><dd>TRUE</dd><dt>plotrix</dt><dd>TRUE</dd><dt>TeachingDemos</dt><dd>TRUE</dd></dl>\n"
      ],
      "text/latex": [
       "\\begin{description*}\n",
       "\\item[ggplot2] TRUE\n",
       "\\item[plyr] TRUE\n",
       "\\item[mlbench] TRUE\n",
       "\\item[e1071] TRUE\n",
       "\\item[dplyr] TRUE\n",
       "\\item[caret] TRUE\n",
       "\\item[pls] TRUE\n",
       "\\item[lars] TRUE\n",
       "\\item[elasticnet] TRUE\n",
       "\\item[AppliedPredictiveModeling] TRUE\n",
       "\\item[tidyr] TRUE\n",
       "\\item[magrittr] TRUE\n",
       "\\item[stringr] TRUE\n",
       "\\item[readr] TRUE\n",
       "\\item[nortest] TRUE\n",
       "\\item[epiDisplay] TRUE\n",
       "\\item[corrplot] TRUE\n",
       "\\item[RColorBrewer] TRUE\n",
       "\\item[bestNormalize] TRUE\n",
       "\\item[randomForest] TRUE\n",
       "\\item[earth] TRUE\n",
       "\\item[plotmo] TRUE\n",
       "\\item[plotrix] TRUE\n",
       "\\item[TeachingDemos] TRUE\n",
       "\\end{description*}\n"
      ],
      "text/markdown": [
       "ggplot2\n",
       ":   TRUEplyr\n",
       ":   TRUEmlbench\n",
       ":   TRUEe1071\n",
       ":   TRUEdplyr\n",
       ":   TRUEcaret\n",
       ":   TRUEpls\n",
       ":   TRUElars\n",
       ":   TRUEelasticnet\n",
       ":   TRUEAppliedPredictiveModeling\n",
       ":   TRUEtidyr\n",
       ":   TRUEmagrittr\n",
       ":   TRUEstringr\n",
       ":   TRUEreadr\n",
       ":   TRUEnortest\n",
       ":   TRUEepiDisplay\n",
       ":   TRUEcorrplot\n",
       ":   TRUERColorBrewer\n",
       ":   TRUEbestNormalize\n",
       ":   TRUErandomForest\n",
       ":   TRUEearth\n",
       ":   TRUEplotmo\n",
       ":   TRUEplotrix\n",
       ":   TRUETeachingDemos\n",
       ":   TRUE\n",
       "\n"
      ],
      "text/plain": [
       "                  ggplot2                      plyr                   mlbench \n",
       "                     TRUE                      TRUE                      TRUE \n",
       "                    e1071                     dplyr                     caret \n",
       "                     TRUE                      TRUE                      TRUE \n",
       "                      pls                      lars                elasticnet \n",
       "                     TRUE                      TRUE                      TRUE \n",
       "AppliedPredictiveModeling                     tidyr                  magrittr \n",
       "                     TRUE                      TRUE                      TRUE \n",
       "                  stringr                     readr                   nortest \n",
       "                     TRUE                      TRUE                      TRUE \n",
       "               epiDisplay                  corrplot              RColorBrewer \n",
       "                     TRUE                      TRUE                      TRUE \n",
       "            bestNormalize              randomForest                     earth \n",
       "                     TRUE                      TRUE                      TRUE \n",
       "                   plotmo                   plotrix             TeachingDemos \n",
       "                     TRUE                      TRUE                      TRUE "
      ]
     },
     "metadata": {},
     "output_type": "display_data"
    }
   ],
   "source": [
    "# ipak function: install and load multiple R packages.\n",
    "# check to see if packages are installed. Install them if they are not, then load them into the R session.\n",
    "ipak <- function(pkg){\n",
    "    new.pkg <- pkg[!(pkg %in% installed.packages()[, \"Package\"])]\n",
    "    if (length(new.pkg)) \n",
    "        install.packages(new.pkg, dependencies = TRUE)\n",
    "    sapply(pkg, require, character.only = TRUE)\n",
    "}\n",
    "\n",
    "# usage\n",
    "packages <- c(\n",
    "    \"ggplot2\", \n",
    "    \"plyr\", \n",
    "    \"mlbench\", \n",
    "    \"e1071\", \n",
    "    \"dplyr\", \n",
    "    \"caret\", #  Contains functions to streamline the model training process for complex regression and classification problems\n",
    "    \"pls\", # For Partial Least Squares \n",
    "    \"lars\", # For Penalized Models \n",
    "    \"elasticnet\", # For Penalized Models\n",
    "    \"AppliedPredictiveModeling\",\n",
    "    \"tidyr\",\n",
    "    \"magrittr\",\n",
    "    \"stringr\",\n",
    "    \"readr\",\n",
    "    \"nortest\",\n",
    "    \"epiDisplay\",\n",
    "    \"corrplot\",\n",
    "    \"RColorBrewer\", \n",
    "    \"bestNormalize\",\n",
    "    \"randomForest\",\n",
    "    \"earth\", # For MARS\n",
    "    \"plotmo\", # For MARS\n",
    "    \"plotrix\", # For MARS\n",
    "    \"TeachingDemos\" # For MARS\n",
    ")\n",
    "ipak(packages)"
   ]
  },
  {
   "cell_type": "markdown",
   "metadata": {
    "id": "bDiPAe3Hk9ZV"
   },
   "source": [
    "## Dataset Import\n",
    "Dataset found at: https://www.kaggle.com/new-york-city/nyc-property-sales#\n",
    "\n",
    "\n",
    "We use a a try-catch block in an attempt to find the NYC Rolling Sales data locally; if it doesn't exist, then read it from the hardcoded Google Drive link."
   ]
  },
  {
   "cell_type": "markdown",
   "metadata": {
    "id": "LGpj8MnC1n3B"
   },
   "source": [
    "**Note** We used a variety of both manual and automated methods to massage the data before it hits the R pipeline:\n",
    "\n",
    "* We used a web-facing API called [Geocod.io](https://www.geocod.io/) to add associated latitude/longitudal data for potential use in the model.\n",
    "\n",
    "* In addition, we used a PowerShell Script `Process-Address.ps1` in an attempt to strip house numbers from the address in an attempt to categorize records by street name (e.g., properties on Broadway, 5th Avenue, 1st Street, etc.)\n",
    "\n",
    "**These changes resulted in our using a new dataset called `nyc-rolling-sales-latlong-streets.csv`, which the project will attempt to source locally (if it exists) or via an open endpoint on the Team's Google Drive.**"
   ]
  },
  {
   "cell_type": "code",
   "execution_count": 3,
   "metadata": {
    "colab": {
     "base_uri": "https://localhost:8080/",
     "height": 365
    },
    "id": "PYQ57dgIk9ZW",
    "outputId": "daf30ca5-2061-47c5-eaa9-ca71ce6c4da4"
   },
   "outputs": [
    {
     "name": "stderr",
     "output_type": "stream",
     "text": [
      "Attempting to read `nyc-rolling-sales-latlong-streets.csv` locally...\n",
      "\n"
     ]
    },
    {
     "name": "stdout",
     "output_type": "stream",
     "text": [
      "Number of Rows:  84548 \n",
      "Number of Cols:  25 \n",
      "Showing first 2 rows..."
     ]
    },
    {
     "data": {
      "text/html": [
       "<table>\n",
       "<caption>A data.frame: 2 × 25</caption>\n",
       "<thead>\n",
       "\t<tr><th></th><th scope=col>NUM</th><th scope=col>BOROUGH</th><th scope=col>NEIGHBORHOOD</th><th scope=col>BUILDING.CLASS.CATEGORY</th><th scope=col>TAX.CLASS.AT.PRESENT</th><th scope=col>BLOCK</th><th scope=col>LOT</th><th scope=col>EASE.MENT</th><th scope=col>BUILDING.CLASS.AT.PRESENT</th><th scope=col>ADDRESS</th><th scope=col>...</th><th scope=col>RESIDENTIAL.UNITS</th><th scope=col>COMMERCIAL.UNITS</th><th scope=col>TOTAL.UNITS</th><th scope=col>LAND.SQUARE.FEET</th><th scope=col>GROSS.SQUARE.FEET</th><th scope=col>YEAR.BUILT</th><th scope=col>TAX.CLASS.AT.TIME.OF.SALE</th><th scope=col>BUILDING.CLASS.AT.TIME.OF.SALE</th><th scope=col>SALE.PRICE</th><th scope=col>SALE.DATE</th></tr>\n",
       "\t<tr><th></th><th scope=col>&lt;int&gt;</th><th scope=col>&lt;int&gt;</th><th scope=col>&lt;chr&gt;</th><th scope=col>&lt;chr&gt;</th><th scope=col>&lt;chr&gt;</th><th scope=col>&lt;int&gt;</th><th scope=col>&lt;int&gt;</th><th scope=col>&lt;lgl&gt;</th><th scope=col>&lt;chr&gt;</th><th scope=col>&lt;chr&gt;</th><th scope=col>...</th><th scope=col>&lt;int&gt;</th><th scope=col>&lt;int&gt;</th><th scope=col>&lt;int&gt;</th><th scope=col>&lt;chr&gt;</th><th scope=col>&lt;chr&gt;</th><th scope=col>&lt;int&gt;</th><th scope=col>&lt;int&gt;</th><th scope=col>&lt;chr&gt;</th><th scope=col>&lt;chr&gt;</th><th scope=col>&lt;chr&gt;</th></tr>\n",
       "</thead>\n",
       "<tbody>\n",
       "\t<tr><th scope=row>1</th><td>4</td><td>1</td><td>ALPHABET CITY</td><td>07 RENTALS - WALKUP APARTMENTS             </td><td>2A</td><td>392</td><td> 6</td><td>NA</td><td>C2</td><td>153 AVENUE B         </td><td>...</td><td> 5</td><td>0</td><td> 5</td><td>1633</td><td>6440 </td><td>1900</td><td>2</td><td>C2</td><td>6625000</td><td>7/19/2017 0:00 </td></tr>\n",
       "\t<tr><th scope=row>2</th><td>5</td><td>1</td><td>ALPHABET CITY</td><td>07 RENTALS - WALKUP APARTMENTS             </td><td>2 </td><td>399</td><td>26</td><td>NA</td><td>C7</td><td>234 EAST 4TH   STREET</td><td>...</td><td>28</td><td>3</td><td>31</td><td>4616</td><td>18690</td><td>1900</td><td>2</td><td>C7</td><td> -     </td><td>12/14/2016 0:00</td></tr>\n",
       "</tbody>\n",
       "</table>\n"
      ],
      "text/latex": [
       "A data.frame: 2 × 25\n",
       "\\begin{tabular}{r|lllllllllllllllllllll}\n",
       "  & NUM & BOROUGH & NEIGHBORHOOD & BUILDING.CLASS.CATEGORY & TAX.CLASS.AT.PRESENT & BLOCK & LOT & EASE.MENT & BUILDING.CLASS.AT.PRESENT & ADDRESS & ... & RESIDENTIAL.UNITS & COMMERCIAL.UNITS & TOTAL.UNITS & LAND.SQUARE.FEET & GROSS.SQUARE.FEET & YEAR.BUILT & TAX.CLASS.AT.TIME.OF.SALE & BUILDING.CLASS.AT.TIME.OF.SALE & SALE.PRICE & SALE.DATE\\\\\n",
       "  & <int> & <int> & <chr> & <chr> & <chr> & <int> & <int> & <lgl> & <chr> & <chr> & ... & <int> & <int> & <int> & <chr> & <chr> & <int> & <int> & <chr> & <chr> & <chr>\\\\\n",
       "\\hline\n",
       "\t1 & 4 & 1 & ALPHABET CITY & 07 RENTALS - WALKUP APARTMENTS              & 2A & 392 &  6 & NA & C2 & 153 AVENUE B          & ... &  5 & 0 &  5 & 1633 & 6440  & 1900 & 2 & C2 & 6625000 & 7/19/2017 0:00 \\\\\n",
       "\t2 & 5 & 1 & ALPHABET CITY & 07 RENTALS - WALKUP APARTMENTS              & 2  & 399 & 26 & NA & C7 & 234 EAST 4TH   STREET & ... & 28 & 3 & 31 & 4616 & 18690 & 1900 & 2 & C7 &  -      & 12/14/2016 0:00\\\\\n",
       "\\end{tabular}\n"
      ],
      "text/markdown": [
       "\n",
       "A data.frame: 2 × 25\n",
       "\n",
       "| <!--/--> | NUM &lt;int&gt; | BOROUGH &lt;int&gt; | NEIGHBORHOOD &lt;chr&gt; | BUILDING.CLASS.CATEGORY &lt;chr&gt; | TAX.CLASS.AT.PRESENT &lt;chr&gt; | BLOCK &lt;int&gt; | LOT &lt;int&gt; | EASE.MENT &lt;lgl&gt; | BUILDING.CLASS.AT.PRESENT &lt;chr&gt; | ADDRESS &lt;chr&gt; | ... ... | RESIDENTIAL.UNITS &lt;int&gt; | COMMERCIAL.UNITS &lt;int&gt; | TOTAL.UNITS &lt;int&gt; | LAND.SQUARE.FEET &lt;chr&gt; | GROSS.SQUARE.FEET &lt;chr&gt; | YEAR.BUILT &lt;int&gt; | TAX.CLASS.AT.TIME.OF.SALE &lt;int&gt; | BUILDING.CLASS.AT.TIME.OF.SALE &lt;chr&gt; | SALE.PRICE &lt;chr&gt; | SALE.DATE &lt;chr&gt; |\n",
       "|---|---|---|---|---|---|---|---|---|---|---|---|---|---|---|---|---|---|---|---|---|---|\n",
       "| 1 | 4 | 1 | ALPHABET CITY | 07 RENTALS - WALKUP APARTMENTS              | 2A | 392 |  6 | NA | C2 | 153 AVENUE B          | ... |  5 | 0 |  5 | 1633 | 6440  | 1900 | 2 | C2 | 6625000 | 7/19/2017 0:00  |\n",
       "| 2 | 5 | 1 | ALPHABET CITY | 07 RENTALS - WALKUP APARTMENTS              | 2  | 399 | 26 | NA | C7 | 234 EAST 4TH   STREET | ... | 28 | 3 | 31 | 4616 | 18690 | 1900 | 2 | C7 |  -      | 12/14/2016 0:00 |\n",
       "\n"
      ],
      "text/plain": [
       "  NUM BOROUGH NEIGHBORHOOD  BUILDING.CLASS.CATEGORY                    \n",
       "1 4   1       ALPHABET CITY 07 RENTALS - WALKUP APARTMENTS             \n",
       "2 5   1       ALPHABET CITY 07 RENTALS - WALKUP APARTMENTS             \n",
       "  TAX.CLASS.AT.PRESENT BLOCK LOT EASE.MENT BUILDING.CLASS.AT.PRESENT\n",
       "1 2A                   392    6  NA        C2                       \n",
       "2 2                    399   26  NA        C7                       \n",
       "  ADDRESS               ... RESIDENTIAL.UNITS COMMERCIAL.UNITS TOTAL.UNITS\n",
       "1 153 AVENUE B          ...  5                0                 5         \n",
       "2 234 EAST 4TH   STREET ... 28                3                31         \n",
       "  LAND.SQUARE.FEET GROSS.SQUARE.FEET YEAR.BUILT TAX.CLASS.AT.TIME.OF.SALE\n",
       "1 1633             6440              1900       2                        \n",
       "2 4616             18690             1900       2                        \n",
       "  BUILDING.CLASS.AT.TIME.OF.SALE SALE.PRICE SALE.DATE      \n",
       "1 C2                             6625000    7/19/2017 0:00 \n",
       "2 C7                              -         12/14/2016 0:00"
      ]
     },
     "metadata": {},
     "output_type": "display_data"
    }
   ],
   "source": [
    "# The filepath on Google Drive.\n",
    "drive.fileID <- \"1E8NdpOww8IKdN1Kw0NcDPQxycU__hsVu\" \n",
    "drive.filePath <- sprintf(\"https://drive.google.com/uc?id=%s\",drive.fileID)\n",
    "file.name <- \"nyc-rolling-sales-latlong-streets.csv\"\n",
    "\n",
    "# This is a try-catch block in an attempt to find the NYC Rolling Sales data\n",
    "# locally; if it doesn't exist, then read it from the hardcoded Google Drive link.\n",
    "nyc.data <- tryCatch(\n",
    "    # Try\n",
    "    {\n",
    "      message(sprintf(\"Attempting to read `%s` locally...\",file.name))\n",
    "      read.csv(file.name)\n",
    "    },\n",
    "    # Catch\n",
    "    error = function(cond) {\n",
    "      message(sprintf(\"Will use Google Drive Version instead at %s...\", drive.filePath))\n",
    "      return( read.csv(drive.filePath) )\n",
    "    },\n",
    "    # Finally\n",
    "    finally = function(cond) {\n",
    "      return(message(\"Unknown error occured!\"))\n",
    "    }\n",
    ")\n",
    "\n",
    "cat(\"Number of Rows: \",nrow(nyc.data), \"\\nNumber of Cols: \", ncol(nyc.data),\"\\nShowing first 2 rows...\")\n",
    "head(nyc.data, 2)"
   ]
  },
  {
   "cell_type": "markdown",
   "metadata": {
    "id": "4eWXG6eJk9Za"
   },
   "source": [
    "## Data Dictionary\n",
    "\n",
    "https://www1.nyc.gov/assets/finance/downloads/pdf/07pdf/glossary_rsf071607.pdf"
   ]
  },
  {
   "cell_type": "markdown",
   "metadata": {},
   "source": [
    "|    <br>         \t|    <br>Field                                          \t|    <br>Description                                                                                                                                                                                                                                                                                                                                                                                                                                                                                                                                                                                                                                                                                                                                                                                                                                                                                                                                                                                        \t|\n",
    "|-----------------\t|-------------------------------------------------------\t|-----------------------------------------------------------------------------------------------------------------------------------------------------------------------------------------------------------------------------------------------------------------------------------------------------------------------------------------------------------------------------------------------------------------------------------------------------------------------------------------------------------------------------------------------------------------------------------------------------------------------------------------------------------------------------------------------------------------------------------------------------------------------------------------------------------------------------------------------------------------------------------------------------------------------------------------------------------------------------------------------------------\t|\n",
    "|    <br>1        \t|    <br>ADDRESS                                        \t|    <br>The street   address of the property as listed on the Sales File. Coop sales include the   apartment number in the address field.                                                                                                                                                                                                                                                                                                                                                                                                                                                                                                                                                                                                                                                                                                                                                                                                                                                                  \t|\n",
    "|    <br>2        \t|    <br>APARTMENT NUMBER                               \t|    <br>The apartment   number of the property (if applicable)                                                                                                                                                                                                                                                                                                                                                                                                                                                                                                                                                                                                                                                                                                                                                                                                                                                                                                                                             \t|\n",
    "|    <br>3        \t|    <br>BLOCK                                          \t|    <br>The   block number (up to 5 digits)                                                                                                                                                                                                                                                                                                                                                                                                                                                                                                                                                                                                                                                                                                                                                                                                                                                                                                                                                                \t|\n",
    "|    <br>4        \t|    <br>BOROUGH                                        \t|    <br>A   digit code for the borough the property is located in.<br>   In order, these are:<br>   (1) Manhattan,<br>   (2) Bronx,<br>   (3) Brooklyn,<br>   (4) Queens, and<br>   (5) Staten Island.                                                                                                                                                                                                                                                                                                                                                                                                                                                                                                                                                                                                                                                                                                                                                                                                     \t|\n",
    "|    <br>5/6      \t|    <br>BUILDING CLASS (AT PRESENT/ TIME   OF SALE)    \t|    <br>The   Building Classification is used to describe a property’s constructive use.   The first position of the Building Class is a letter that is used to describe   a general class of properties (for example “A” signifies one-family homes,   “O” signifies office buildings. “R” signifies condominiums). The second   position, a number, adds more specific information about the property’s use   or construction style (using our previous examples “A0” is a Cape Cod style   one family home, “O4” is a tower type office building and “R5” is a   commercial condominium unit). The term ‘Building Class’ as used by the   Department of Finance is interchangeable with the term Building Code as used   by the Department of Buildings.<br>   <br> <br>   <br>Refer   to code here:<br>   https://www1.nyc.gov/assets/finance/jump/hlpbldgcode.html                                                                                                                                    \t|\n",
    "|    <br>7        \t|    <br>BUILDING CLASS CATEGORY                        \t|    <br>Refer   to code here:<br>   https://www1.nyc.gov/assets/finance/jump/hlpbldgcode.html                                                                                                                                                                                                                                                                                                                                                                                                                                                                                                                                                                                                                                                                                                                                                                                                                                                                                                              \t|\n",
    "|    <br>8        \t|    <br>COMMERCIAL UNITS                               \t|    <br>The number   of commercial units at the listed property.                                                                                                                                                                                                                                                                                                                                                                                                                                                                                                                                                                                                                                                                                                                                                                                                                                                                                                                                           \t|\n",
    "|    <br>9        \t|    <br>EASE-MENT                                      \t|    <br>An   easement is a right, such as a right of way, which allows an entity to make   limited use of another’s real property. For example: MTA railroad tracks that   run across a portion of another property.                                                                                                                                                                                                                                                                                                                                                                                                                                                                                                                                                                                                                                                                                                                                                                                       \t|\n",
    "|    <br>10       \t|    <br>GROSS SQUARE FEET                              \t|    <br>The total   area of all the floors of a building as measured from the exterior surfaces   of the outside walls of the building, including the land area and space   within any building or structure on the property.                                                                                                                                                                                                                                                                                                                                                                                                                                                                                                                                                                                                                                                                                                                                                                              \t|\n",
    "|    <br>11       \t|    <br>LAND SQUARE FEET                               \t|    <br>The land   area of the property listed in square feet.                                                                                                                                                                                                                                                                                                                                                                                                                                                                                                                                                                                                                                                                                                                                                                                                                                                                                                                                             \t|\n",
    "|    <br>12       \t|    <br>LOT                                            \t|    <br>The   lot number (up to 4 digits)                                                                                                                                                                                                                                                                                                                                                                                                                                                                                                                                                                                                                                                                                                                                                                                                                                                                                                                                                                  \t|\n",
    "|    <br>13       \t|    <br>NEIGHBORHOOD                                   \t|    <br>Department   of Finance assessors determine the neighborhood name in the course of valuing   properties. The common name of the neighborhood is generally the same as the   name Finance designates. However, there may be slight differences in   neighborhood boundary lines and some sub-neighborhoods may not be included                                                                                                                                                                                                                                                                                                                                                                                                                                                                                                                                                                                                                                                                      \t|\n",
    "|    <br>14       \t|    <br>RESIDENTIAL UNITS                              \t|    <br>The   number of houses/apartments intended for use as a place of residence at the   address.<br>   (https://www.lawinsider.com/dictionary/residential-unit)                                                                                                                                                                                                                                                                                                                                                                                                                                                                                                                                                                                                                                                                                                                                                                                                                                        \t|\n",
    "|    <br>15       \t|    <br>SALE DATE                                      \t|    <br>Date the   property sold.                                                                                                                                                                                                                                                                                                                                                                                                                                                                                                                                                                                                                                                                                                                                                                                                                                                                                                                                                                          \t|\n",
    "|    <br>16       \t|    <br>SALE PRICE                                     \t|    <br>Price paid   for the property.                                                                                                                                                                                                                                                                                                                                                                                                                                                                                                                                                                                                                                                                                                                                                                                                                                                                                                                                                                     \t|\n",
    "|    <br>17/18    \t|    <br>TAX CLASS (AT PRESENT/TIME OF   SALE)          \t|    <br>Property   in NYC is divided into 4 classes:<br>   Class 1: Most residential property of up to three units<br>   (family homes and small stores or offices with one or two apartments   attached),<br>   and most condominiums that are not more than three stories.<br>   <br>   Class 2: All other property that is not in Class 1 and is primarily   residential<br>   (rentals, cooperatives and condominiums). Class 2 includes:<br>   • Sub-Class 2a (4 - 6 unit rental building);<br>   • Sub-Class 2b (7 - 10 unit rental building);<br>   • Sub-Class 2c (2 - 10 unit cooperative or condominium); and<br>   • Class 2 (11 units or more).<br>   <br>   Class 3: Most utility property.<br>   <br>   Class 4: All commercial and industrial properties, such as office, retail,<br>   factory buildings and all other properties not included in tax classes 1, 2   or 3.<br>   <br>   SOURCE:   https://www1.nyc.gov/site/finance/taxes/definitions-of-property-assessment-terms.page    \t|"
   ]
  },
  {
   "cell_type": "markdown",
   "metadata": {
    "id": "8us7lG8gMRNQ"
   },
   "source": [
    "# Data Processing"
   ]
  },
  {
   "cell_type": "markdown",
   "metadata": {
    "id": "68QLTxGT8So8"
   },
   "source": [
    "## Initial Exploration"
   ]
  },
  {
   "cell_type": "markdown",
   "metadata": {
    "id": "JnysmMU61n3P"
   },
   "source": [
    "First, we examine the head of the data to get an idea of the structure."
   ]
  },
  {
   "cell_type": "code",
   "execution_count": 4,
   "metadata": {
    "colab": {
     "base_uri": "https://localhost:8080/",
     "height": 209
    },
    "id": "ktqZoiu91n3Q",
    "outputId": "47cafe4e-3a06-41f2-a99f-a41fa7816ad7"
   },
   "outputs": [
    {
     "data": {
      "text/html": [
       "<table>\n",
       "<caption>A data.frame: 2 × 25</caption>\n",
       "<thead>\n",
       "\t<tr><th></th><th scope=col>NUM</th><th scope=col>BOROUGH</th><th scope=col>NEIGHBORHOOD</th><th scope=col>BUILDING.CLASS.CATEGORY</th><th scope=col>TAX.CLASS.AT.PRESENT</th><th scope=col>BLOCK</th><th scope=col>LOT</th><th scope=col>EASE.MENT</th><th scope=col>BUILDING.CLASS.AT.PRESENT</th><th scope=col>ADDRESS</th><th scope=col>...</th><th scope=col>RESIDENTIAL.UNITS</th><th scope=col>COMMERCIAL.UNITS</th><th scope=col>TOTAL.UNITS</th><th scope=col>LAND.SQUARE.FEET</th><th scope=col>GROSS.SQUARE.FEET</th><th scope=col>YEAR.BUILT</th><th scope=col>TAX.CLASS.AT.TIME.OF.SALE</th><th scope=col>BUILDING.CLASS.AT.TIME.OF.SALE</th><th scope=col>SALE.PRICE</th><th scope=col>SALE.DATE</th></tr>\n",
       "\t<tr><th></th><th scope=col>&lt;int&gt;</th><th scope=col>&lt;int&gt;</th><th scope=col>&lt;chr&gt;</th><th scope=col>&lt;chr&gt;</th><th scope=col>&lt;chr&gt;</th><th scope=col>&lt;int&gt;</th><th scope=col>&lt;int&gt;</th><th scope=col>&lt;lgl&gt;</th><th scope=col>&lt;chr&gt;</th><th scope=col>&lt;chr&gt;</th><th scope=col>...</th><th scope=col>&lt;int&gt;</th><th scope=col>&lt;int&gt;</th><th scope=col>&lt;int&gt;</th><th scope=col>&lt;chr&gt;</th><th scope=col>&lt;chr&gt;</th><th scope=col>&lt;int&gt;</th><th scope=col>&lt;int&gt;</th><th scope=col>&lt;chr&gt;</th><th scope=col>&lt;chr&gt;</th><th scope=col>&lt;chr&gt;</th></tr>\n",
       "</thead>\n",
       "<tbody>\n",
       "\t<tr><th scope=row>1</th><td>4</td><td>1</td><td>ALPHABET CITY</td><td>07 RENTALS - WALKUP APARTMENTS             </td><td>2A</td><td>392</td><td> 6</td><td>NA</td><td>C2</td><td>153 AVENUE B         </td><td>...</td><td> 5</td><td>0</td><td> 5</td><td>1633</td><td>6440 </td><td>1900</td><td>2</td><td>C2</td><td>6625000</td><td>7/19/2017 0:00 </td></tr>\n",
       "\t<tr><th scope=row>2</th><td>5</td><td>1</td><td>ALPHABET CITY</td><td>07 RENTALS - WALKUP APARTMENTS             </td><td>2 </td><td>399</td><td>26</td><td>NA</td><td>C7</td><td>234 EAST 4TH   STREET</td><td>...</td><td>28</td><td>3</td><td>31</td><td>4616</td><td>18690</td><td>1900</td><td>2</td><td>C7</td><td> -     </td><td>12/14/2016 0:00</td></tr>\n",
       "</tbody>\n",
       "</table>\n"
      ],
      "text/latex": [
       "A data.frame: 2 × 25\n",
       "\\begin{tabular}{r|lllllllllllllllllllll}\n",
       "  & NUM & BOROUGH & NEIGHBORHOOD & BUILDING.CLASS.CATEGORY & TAX.CLASS.AT.PRESENT & BLOCK & LOT & EASE.MENT & BUILDING.CLASS.AT.PRESENT & ADDRESS & ... & RESIDENTIAL.UNITS & COMMERCIAL.UNITS & TOTAL.UNITS & LAND.SQUARE.FEET & GROSS.SQUARE.FEET & YEAR.BUILT & TAX.CLASS.AT.TIME.OF.SALE & BUILDING.CLASS.AT.TIME.OF.SALE & SALE.PRICE & SALE.DATE\\\\\n",
       "  & <int> & <int> & <chr> & <chr> & <chr> & <int> & <int> & <lgl> & <chr> & <chr> & ... & <int> & <int> & <int> & <chr> & <chr> & <int> & <int> & <chr> & <chr> & <chr>\\\\\n",
       "\\hline\n",
       "\t1 & 4 & 1 & ALPHABET CITY & 07 RENTALS - WALKUP APARTMENTS              & 2A & 392 &  6 & NA & C2 & 153 AVENUE B          & ... &  5 & 0 &  5 & 1633 & 6440  & 1900 & 2 & C2 & 6625000 & 7/19/2017 0:00 \\\\\n",
       "\t2 & 5 & 1 & ALPHABET CITY & 07 RENTALS - WALKUP APARTMENTS              & 2  & 399 & 26 & NA & C7 & 234 EAST 4TH   STREET & ... & 28 & 3 & 31 & 4616 & 18690 & 1900 & 2 & C7 &  -      & 12/14/2016 0:00\\\\\n",
       "\\end{tabular}\n"
      ],
      "text/markdown": [
       "\n",
       "A data.frame: 2 × 25\n",
       "\n",
       "| <!--/--> | NUM &lt;int&gt; | BOROUGH &lt;int&gt; | NEIGHBORHOOD &lt;chr&gt; | BUILDING.CLASS.CATEGORY &lt;chr&gt; | TAX.CLASS.AT.PRESENT &lt;chr&gt; | BLOCK &lt;int&gt; | LOT &lt;int&gt; | EASE.MENT &lt;lgl&gt; | BUILDING.CLASS.AT.PRESENT &lt;chr&gt; | ADDRESS &lt;chr&gt; | ... ... | RESIDENTIAL.UNITS &lt;int&gt; | COMMERCIAL.UNITS &lt;int&gt; | TOTAL.UNITS &lt;int&gt; | LAND.SQUARE.FEET &lt;chr&gt; | GROSS.SQUARE.FEET &lt;chr&gt; | YEAR.BUILT &lt;int&gt; | TAX.CLASS.AT.TIME.OF.SALE &lt;int&gt; | BUILDING.CLASS.AT.TIME.OF.SALE &lt;chr&gt; | SALE.PRICE &lt;chr&gt; | SALE.DATE &lt;chr&gt; |\n",
       "|---|---|---|---|---|---|---|---|---|---|---|---|---|---|---|---|---|---|---|---|---|---|\n",
       "| 1 | 4 | 1 | ALPHABET CITY | 07 RENTALS - WALKUP APARTMENTS              | 2A | 392 |  6 | NA | C2 | 153 AVENUE B          | ... |  5 | 0 |  5 | 1633 | 6440  | 1900 | 2 | C2 | 6625000 | 7/19/2017 0:00  |\n",
       "| 2 | 5 | 1 | ALPHABET CITY | 07 RENTALS - WALKUP APARTMENTS              | 2  | 399 | 26 | NA | C7 | 234 EAST 4TH   STREET | ... | 28 | 3 | 31 | 4616 | 18690 | 1900 | 2 | C7 |  -      | 12/14/2016 0:00 |\n",
       "\n"
      ],
      "text/plain": [
       "  NUM BOROUGH NEIGHBORHOOD  BUILDING.CLASS.CATEGORY                    \n",
       "1 4   1       ALPHABET CITY 07 RENTALS - WALKUP APARTMENTS             \n",
       "2 5   1       ALPHABET CITY 07 RENTALS - WALKUP APARTMENTS             \n",
       "  TAX.CLASS.AT.PRESENT BLOCK LOT EASE.MENT BUILDING.CLASS.AT.PRESENT\n",
       "1 2A                   392    6  NA        C2                       \n",
       "2 2                    399   26  NA        C7                       \n",
       "  ADDRESS               ... RESIDENTIAL.UNITS COMMERCIAL.UNITS TOTAL.UNITS\n",
       "1 153 AVENUE B          ...  5                0                 5         \n",
       "2 234 EAST 4TH   STREET ... 28                3                31         \n",
       "  LAND.SQUARE.FEET GROSS.SQUARE.FEET YEAR.BUILT TAX.CLASS.AT.TIME.OF.SALE\n",
       "1 1633             6440              1900       2                        \n",
       "2 4616             18690             1900       2                        \n",
       "  BUILDING.CLASS.AT.TIME.OF.SALE SALE.PRICE SALE.DATE      \n",
       "1 C2                             6625000    7/19/2017 0:00 \n",
       "2 C7                              -         12/14/2016 0:00"
      ]
     },
     "metadata": {},
     "output_type": "display_data"
    }
   ],
   "source": [
    "# First, we examine the head of the data to get an idea of the structure.\n",
    "head(nyc.data,2)\n",
    "\n",
    "# Make all columns lowercase for consistency's sake\n",
    "colnames(nyc.data) %<>% str_replace_all(\"\\\\s\", \"_\") %>% tolower()"
   ]
  },
  {
   "cell_type": "markdown",
   "metadata": {
    "id": "BmRnO7PH1n3X"
   },
   "source": [
    "To further supplement information gathering, we observe how many predictors there are."
   ]
  },
  {
   "cell_type": "code",
   "execution_count": 5,
   "metadata": {
    "id": "FSQHMJNJ1n3b"
   },
   "outputs": [],
   "source": [
    "# Helper function to pretty print column names for a dataframe\n",
    "prettyPrintCols <- function(data.frame) {\n",
    "     print(colnames(data.frame) %<>% str_replace_all(\"\\\\s\", \"_\") %>% tolower())\n",
    "}"
   ]
  },
  {
   "cell_type": "code",
   "execution_count": 6,
   "metadata": {
    "colab": {
     "base_uri": "https://localhost:8080/",
     "height": 260
    },
    "id": "y1DYIgsq8OPi",
    "outputId": "712907b3-2735-4896-fbc6-a871d77ccbc0"
   },
   "outputs": [
    {
     "data": {
      "text/html": [
       "'There are 25 cols in nyc.data:'"
      ],
      "text/latex": [
       "'There are 25 cols in nyc.data:'"
      ],
      "text/markdown": [
       "'There are 25 cols in nyc.data:'"
      ],
      "text/plain": [
       "[1] \"There are 25 cols in nyc.data:\""
      ]
     },
     "metadata": {},
     "output_type": "display_data"
    },
    {
     "name": "stdout",
     "output_type": "stream",
     "text": [
      " [1] \"num\"                            \"borough\"                       \n",
      " [3] \"neighborhood\"                   \"building.class.category\"       \n",
      " [5] \"tax.class.at.present\"           \"block\"                         \n",
      " [7] \"lot\"                            \"ease.ment\"                     \n",
      " [9] \"building.class.at.present\"      \"address\"                       \n",
      "[11] \"street\"                         \"latitude\"                      \n",
      "[13] \"longitude\"                      \"apartment.number\"              \n",
      "[15] \"zip.code\"                       \"residential.units\"             \n",
      "[17] \"commercial.units\"               \"total.units\"                   \n",
      "[19] \"land.square.feet\"               \"gross.square.feet\"             \n",
      "[21] \"year.built\"                     \"tax.class.at.time.of.sale\"     \n",
      "[23] \"building.class.at.time.of.sale\" \"sale.price\"                    \n",
      "[25] \"sale.date\"                     \n"
     ]
    }
   ],
   "source": [
    "# To further supplement information gathering, we observe how many predictors there are.\n",
    "sprintf(\"There are %s cols in nyc.data:\", ncol(nyc.data))\n",
    "prettyPrintCols(nyc.data)"
   ]
  },
  {
   "cell_type": "markdown",
   "metadata": {
    "id": "ANqWHGKX1n3j"
   },
   "source": [
    "Then, we observe the current structure:"
   ]
  },
  {
   "cell_type": "code",
   "execution_count": 7,
   "metadata": {
    "colab": {
     "base_uri": "https://localhost:8080/"
    },
    "id": "nJNWv9mm1n3n",
    "outputId": "9119e9db-36bf-4799-f57b-aefb7a644d2b",
    "scrolled": true
   },
   "outputs": [
    {
     "name": "stdout",
     "output_type": "stream",
     "text": [
      "'data.frame':\t84548 obs. of  25 variables:\n",
      " $ num                           : int  4 5 6 7 8 9 10 11 12 13 ...\n",
      " $ borough                       : int  1 1 1 1 1 1 1 1 1 1 ...\n",
      " $ neighborhood                  : chr  \"ALPHABET CITY\" \"ALPHABET CITY\" \"ALPHABET CITY\" \"ALPHABET CITY\" ...\n",
      " $ building.class.category       : chr  \"07 RENTALS - WALKUP APARTMENTS             \" \"07 RENTALS - WALKUP APARTMENTS             \" \"07 RENTALS - WALKUP APARTMENTS             \" \"07 RENTALS - WALKUP APARTMENTS             \" ...\n",
      " $ tax.class.at.present          : chr  \"2A\" \"2\" \"2\" \"2B\" ...\n",
      " $ block                         : int  392 399 399 402 404 405 406 407 379 387 ...\n",
      " $ lot                           : int  6 26 39 21 55 16 32 18 34 153 ...\n",
      " $ ease.ment                     : logi  NA NA NA NA NA NA ...\n",
      " $ building.class.at.present     : chr  \"C2\" \"C7\" \"C7\" \"C4\" ...\n",
      " $ address                       : chr  \"153 AVENUE B\" \"234 EAST 4TH   STREET\" \"197 EAST 3RD   STREET\" \"154 EAST 7TH STREET\" ...\n",
      " $ street                        : chr  \"AVENUE B \" \"EAST 4TH STREET \" \"EAST 3RD STREET \" \"EAST 7TH STREET \" ...\n",
      " $ latitude                      : num  NA 40.7 40.7 40.7 40.7 ...\n",
      " $ longitude                     : num  NA -74 -74 -74 -74 ...\n",
      " $ apartment.number              : chr  \" \" \" \" \" \" \" \" ...\n",
      " $ zip.code                      : int  10009 10009 10009 10009 10009 10009 10009 10009 10009 10009 ...\n",
      " $ residential.units             : int  5 28 16 10 6 20 8 44 15 24 ...\n",
      " $ commercial.units              : int  0 3 1 0 0 0 0 2 0 0 ...\n",
      " $ total.units                   : int  5 31 17 10 6 20 8 46 15 24 ...\n",
      " $ land.square.feet              : chr  \"1633\" \"4616\" \"2212\" \"2272\" ...\n",
      " $ gross.square.feet             : chr  \"6440\" \"18690\" \"7803\" \"6794\" ...\n",
      " $ year.built                    : int  1900 1900 1900 1913 1900 1900 1920 1900 1920 1920 ...\n",
      " $ tax.class.at.time.of.sale     : int  2 2 2 2 2 2 2 2 2 2 ...\n",
      " $ building.class.at.time.of.sale: chr  \"C2\" \"C7\" \"C7\" \"C4\" ...\n",
      " $ sale.price                    : chr  \"6625000\" \" -  \" \" -  \" \"3936272\" ...\n",
      " $ sale.date                     : chr  \"7/19/2017 0:00\" \"12/14/2016 0:00\" \"12/9/2016 0:00\" \"9/23/2016 0:00\" ...\n"
     ]
    }
   ],
   "source": [
    "str(nyc.data)"
   ]
  },
  {
   "cell_type": "markdown",
   "metadata": {
    "id": "iLmyx3wr1n3v"
   },
   "source": [
    "Based on manual observation and what we see in the data here, we observe the following:\n",
    "\n",
    "* `ease.ment` is 100% null.\n",
    "* `land.square.feet`, `gross.square.feet`, and `sale.price` are chars when they should be numeric vectors.\n",
    "\n",
    "So, we will clean the data in the next section."
   ]
  },
  {
   "cell_type": "markdown",
   "metadata": {
    "id": "HVHoUDnU8aOy"
   },
   "source": [
    "## Data Cleaning/Transformations in R"
   ]
  },
  {
   "cell_type": "markdown",
   "metadata": {
    "id": "RMCd5JxR1n3w"
   },
   "source": [
    "### Deep Copy\n",
    "\n",
    "To begin, we will no longer use `nyc.data` as the dataset for processing in R; we will use a copy to work over and retain the original."
   ]
  },
  {
   "cell_type": "code",
   "execution_count": 8,
   "metadata": {
    "id": "7WH_QUph1n3x"
   },
   "outputs": [],
   "source": [
    "# Begin with creating a deep copy of the nyc.data Dataframe for use onwards.\n",
    "\n",
    "df <- nyc.data\n",
    "\n",
    "#TODO: Be sure to split Y from the data BEFORE we boxcox/preprocess.\n",
    "# df <- subset(nyc.data, select = -c(sale.price))\n",
    "# df.y <- nyc.data$sale.price\n",
    "\n",
    "# Maintain an internal switch to use the STREET and LATLONG predictors.\n",
    "useStreet <- TRUE\n",
    "useLatLongs <- FALSE"
   ]
  },
  {
   "cell_type": "markdown",
   "metadata": {
    "id": "KFqkgC901n31"
   },
   "source": [
    "### Nulling unused predictors\n",
    "\n",
    "`ease.ment`, `apartment.number`, `sale.date` will not be used in the model because they either \n",
    "\n",
    "* Do not fit the purpose of the model, or\n",
    "* Do not have data that can contribute to the model.\n",
    "\n",
    "This will also NULL out any other predictors that will not be used in the model."
   ]
  },
  {
   "cell_type": "code",
   "execution_count": 9,
   "metadata": {
    "colab": {
     "base_uri": "https://localhost:8080/"
    },
    "id": "x21QCrML1n32",
    "outputId": "b245377e-f090-41a3-9a70-46d6aac80502"
   },
   "outputs": [
    {
     "name": "stdout",
     "output_type": "stream",
     "text": [
      "[1] \"UseLATLONGS is DISABLED.\"\n",
      " [1] \"num\"                            \"borough\"                       \n",
      " [3] \"neighborhood\"                   \"building.class.category\"       \n",
      " [5] \"tax.class.at.present\"           \"block\"                         \n",
      " [7] \"lot\"                            \"building.class.at.present\"     \n",
      " [9] \"address\"                        \"street\"                        \n",
      "[11] \"zip.code\"                       \"residential.units\"             \n",
      "[13] \"commercial.units\"               \"total.units\"                   \n",
      "[15] \"land.square.feet\"               \"gross.square.feet\"             \n",
      "[17] \"year.built\"                     \"tax.class.at.time.of.sale\"     \n",
      "[19] \"building.class.at.time.of.sale\" \"sale.price\"                    \n"
     ]
    }
   ],
   "source": [
    "# ### Nulling unused predictors\n",
    "# `ease.ment`, `apartment.number`, `sale.date` will not be used in the model because they either \n",
    "# * Do not fit the purpose of the model, or\n",
    "# * Do not have data that can contribute to the model.\n",
    "# This will also NULL out any other predictors\" that will not be used in the model.\n",
    "\n",
    "df$ease.ment <- NULL\n",
    "df$apartment.number <- NULL\n",
    "df$sale.date <- NULL\n",
    "\n",
    "# This is a control function to allow usage of the STREET and\n",
    "# LATLONG predictors within the data set.\n",
    "if (!useStreet) {\n",
    "    print(\"UseStreet is DISABLED.\")\n",
    "    df$street <- NULL\n",
    "}\n",
    "\n",
    "if (!useLatLongs) {\n",
    "    print(\"UseLATLONGS is DISABLED.\")\n",
    "    df$latitude <- NULL\n",
    "    df$longitude <- NULL\n",
    "}\n",
    "prettyPrintCols(df)"
   ]
  },
  {
   "cell_type": "markdown",
   "metadata": {
    "id": "Z-Sojkd91n39"
   },
   "source": [
    "### Recasting predictors"
   ]
  },
  {
   "cell_type": "markdown",
   "metadata": {
    "id": "lcoAab151n3-"
   },
   "source": [
    "#### Numerics\n",
    "`sale.price`, `land.square.feet`, and `gross.square.feet` were identified to have been malformed, so they will be re-cast as numeric vectors."
   ]
  },
  {
   "cell_type": "markdown",
   "metadata": {
    "id": "KYTNlHT91n3_"
   },
   "source": [
    "##### Price and Square Footage"
   ]
  },
  {
   "cell_type": "code",
   "execution_count": 10,
   "metadata": {
    "colab": {
     "base_uri": "https://localhost:8080/"
    },
    "id": "m5rUkbgk1n3_",
    "outputId": "08a72b18-e769-429c-8ee8-ec69d7e305c0"
   },
   "outputs": [
    {
     "name": "stderr",
     "output_type": "stream",
     "text": [
      "Warning message in eval(expr, envir, enclos):\n",
      "\"NAs introduced by coercion\"\n",
      "Warning message in eval(expr, envir, enclos):\n",
      "\"NAs introduced by coercion\"\n",
      "Warning message in eval(expr, envir, enclos):\n",
      "\"NAs introduced by coercion\"\n"
     ]
    }
   ],
   "source": [
    "# #### Numerics\n",
    "# `sale.price`, `land.square.feet`, and `gross.square.feet` were identified to have been malformed, \n",
    "# so they will be re-cast as numeric vectors.\n",
    "\n",
    "##### Price and Square Footage\n",
    "df$sale.price <- as.numeric(as.character(df$sale.price))\n",
    "df$land.square.feet <- as.numeric(as.character(df$land.square.feet))\n",
    "df$gross.square.feet <- as.numeric(as.character(df$gross.square.feet))"
   ]
  },
  {
   "cell_type": "markdown",
   "metadata": {
    "id": "X4hp1o4V1n4D"
   },
   "source": [
    "#### Factors\n",
    "The following predictors can be factorized (made into categories):"
   ]
  },
  {
   "cell_type": "code",
   "execution_count": 11,
   "metadata": {
    "id": "nEMCZ7C51n4E"
   },
   "outputs": [],
   "source": [
    "# #### Factors\n",
    "# The following predictors can be factorized (made into categories):\n",
    "df$borough <- as.factor(df$borough)\n",
    "df$neighborhood <- as.factor(df$neighborhood)\n",
    "df$building.class.category <- as.factor(df$building.class.category)\n",
    "\n",
    "# PRESENT CATEGORIES\n",
    "df$tax.class.at.present <- as.factor(df$tax.class.at.present)\n",
    "df$building.class.at.present <- as.factor(df$building.class.at.present)\n",
    "\n",
    "# TIME OF SALE\n",
    "df$tax.class.at.time.of.sale <- as.factor(df$tax.class.at.time.of.sale)\n",
    "df$building.class.at.time.of.sale <- as.factor(df$building.class.at.time.of.sale) \n",
    "\n",
    "# ZIP CODE\n",
    "df$zip.code <- as.factor(df$zip.code)\n",
    "\n",
    "# Logic to use Street; if so, then remove the Address since it has no \n",
    "# utility here.\n",
    "if (useStreet) {\n",
    "    df$street <- as.factor(df$street)\n",
    "    df$address <- NULL\n",
    "}"
   ]
  },
  {
   "cell_type": "markdown",
   "metadata": {
    "id": "FP3hdZvm1n4P"
   },
   "source": [
    "#### Factorizing building age\n",
    "\n",
    "There are a few options that we can do here with respect to the building's age:\n",
    "We can:\n",
    "1. Convert to `age` by subtracting from 2017\n",
    "2. Convert to intervals\n",
    "3. Convert to factor and leave as is\n",
    "\n",
    "**The team chooses option 3.**"
   ]
  },
  {
   "cell_type": "code",
   "execution_count": 12,
   "metadata": {
    "id": "p-BY2Ptw1n4Q"
   },
   "outputs": [],
   "source": [
    "#doing option 3\n",
    "df$year.built <- as.factor(df$year.built)\n",
    "# df$sale.price = as.numeric(df$sale.price) # ??? This seems redundant"
   ]
  },
  {
   "cell_type": "markdown",
   "metadata": {
    "id": "2HQZT9cY1n4V"
   },
   "source": [
    "#### Data Filtering"
   ]
  },
  {
   "cell_type": "code",
   "execution_count": 13,
   "metadata": {
    "colab": {
     "base_uri": "https://localhost:8080/",
     "height": 437
    },
    "id": "K8ROkGeY1n4W",
    "outputId": "7a1a68ef-6a2d-444e-9c9a-58ec830c7298"
   },
   "outputs": [
    {
     "data": {
      "image/png": "[encoded data removed]",
      "text/plain": [
       "plot without title"
      ]
     },
     "metadata": {
      "image/png": {
       "height": 420,
       "width": 420
      }
     },
     "output_type": "display_data"
    }
   ],
   "source": [
    "missRow <- colSums(is.na(df))\n",
    "plot(missRow)"
   ]
  },
  {
   "cell_type": "markdown",
   "metadata": {
    "id": "kcu5Zt9O1n4h"
   },
   "source": [
    "##### Before Dropping Nulls\n",
    "\n",
    "We apply a filter to the dataset to do the following:\n",
    "* Remove observations with incomplete results (lack of dimensions + sale price)"
   ]
  },
  {
   "cell_type": "markdown",
   "metadata": {
    "id": "xMlilIiM1n4i"
   },
   "source": [
    "##### Applying filters\n",
    "The following filters are applied to the dataset:\n",
    "* Eliminate incomplete observations by dropping records with NULL values in square footage and sale price.\n",
    "* Reining in gross and land square feet to properties > 100 square feet.\n",
    " * This is done to remove records that are either too dirty or have no significant contribution with respect to real estate\n",
    "* Using only sale prices greater than \\\\$100,000\n",
    " * This is done because price per square foot *realistically* would be (extremely optimistically) $1000/sq. ft in NYC; a minimum"
   ]
  },
  {
   "cell_type": "code",
   "execution_count": 14,
   "metadata": {
    "id": "-DaJms4w1n4i"
   },
   "outputs": [],
   "source": [
    "# drop NA's that were created during the conversion from the \"-\" value\n",
    "df <- df %>% drop_na(c(gross.square.feet,land.square.feet, sale.price))\n",
    "\n",
    "# removing datapoints whose sqftage is less than 100\n",
    "# removing datapoints whose sale price is <100k. Since median price @nyc is around 1.8k\n",
    "df <- df %>% filter(land.square.feet>100) \n",
    "df <- df %>% filter(gross.square.feet >100)\n",
    "df <- df %>% filter(sale.price>100000)"
   ]
  },
  {
   "cell_type": "code",
   "execution_count": 15,
   "metadata": {
    "colab": {
     "base_uri": "https://localhost:8080/"
    },
    "id": "ZiDzY38A1n4k",
    "outputId": "64b43a86-648f-416e-a6b0-fbcce7b7cadd"
   },
   "outputs": [
    {
     "name": "stderr",
     "output_type": "stream",
     "text": [
      "`summarise()` ungrouping output (override with `.groups` argument)\n",
      "\n",
      "`summarise()` ungrouping output (override with `.groups` argument)\n",
      "\n",
      "`summarise()` ungrouping output (override with `.groups` argument)\n",
      "\n",
      "`summarise()` ungrouping output (override with `.groups` argument)\n",
      "\n",
      "`summarise()` ungrouping output (override with `.groups` argument)\n",
      "\n",
      "`summarise()` ungrouping output (override with `.groups` argument)\n",
      "\n"
     ]
    }
   ],
   "source": [
    "freq_dist_sale_price <- df %>% group_by(sale.price) %>% summarize(Freq = n())\n",
    "freq_dist_land_square_feet <- df %>% group_by(land.square.feet) %>% summarize(Freq = n())\n",
    "freq_dist_gross_square_feet <- df %>% group_by(gross.square.feet) %>% summarize(Freq = n())\n",
    "\n",
    "# TODO: Add additional filters here? As it is, data is heavily skewed towards commercial properties\n",
    "\n",
    "new_freq_dist_sale_price <- df %>% group_by(sale.price) %>% summarize(Freq = n())\n",
    "new_freq_dist_land_square_feet <- df %>% group_by(land.square.feet) %>% summarize(Freq = n())\n",
    "new_freq_dist_gross_square_feet <- df %>% group_by(gross.square.feet) %>% summarize(Freq = n())"
   ]
  },
  {
   "cell_type": "code",
   "execution_count": 16,
   "metadata": {
    "id": "sXOb86nE8Zf-"
   },
   "outputs": [],
   "source": [
    "# df <- nyc.data\n",
    "# df$sale.price <- as.numeric(as.character(df$sale.price))\n",
    "# df$land.square.feet <- as.numeric(as.character(df$land.square.feet))\n",
    "# df$gross.square.feet <- as.numeric(as.character(df$gross.square.feet))\n",
    "\n",
    "# df$ease.ment = NULL\n",
    "# df$apartment.number = NULL\n",
    "# df$sale.date = NULL\n",
    "\n",
    "# df$borough = as.factor(df$borough)\n",
    "# df$neighborhood = as.factor(df$neighborhood)\n",
    "# df$building.class.category = as.factor(df$building.class.category)\n",
    "# df$tax.class.at.present = as.factor(df$tax.class.at.present )\n",
    "\n",
    "#block and lot\n",
    "\n",
    "# df$building.class.at.present = as.factor(df$building.class.at.present)\n",
    "\n",
    "#address needs to be feature engineered\n",
    "# avenue, broadway etc.\n",
    "\n",
    "# df$zip.code = as.factor(df$zip.code)\n",
    "\n",
    "#total units is a calculated field. can be ignored\n",
    "\n",
    "#convert sqftage to numeric\n",
    "# df$land.square.feet = as.numeric(df$land.square.feet)\n",
    "# df$gross.square.feet = as.numeric(df$gross.square.feet)\n",
    "\n",
    "#need to feature engineer year built- \n",
    "# option 1- convert to 'age' by subtracting from 2017\n",
    "# option 2- convert to intervals\n",
    "# option 3- convert to factor and leave as is\n",
    "\n",
    "#doing option 3\n",
    "# df$year.built <- as.factor(df$year.built)\n",
    "\n",
    "# df$tax.class.at.time.of.sale = as.factor(df$tax.class.at.time.of.sale)\n",
    "# df$building.class.at.time.of.sale = as.factor(df$building.class.at.time.of.sale)\n",
    "\n",
    "# df$sale.price = as.numeric(df$sale.price) \n",
    "\n",
    "# removed NA and keep only distinct records\n",
    "# df <- df %>% distinct() %>% drop_na(c(gross.square.feet,land.square.feet, sale.price))\n",
    "\n",
    "# #drop NA's that were created during the conversion from the \"-\" value\n",
    "# df <- df %>% drop_na(c(gross.square.feet,land.square.feet, sale.price))\n",
    "\n",
    "# freq_dist_sale_price <- df %>% group_by(sale.price) %>% summarize(Freq = n())\n",
    "# freq_dist_land_square_feet <- df %>% group_by(land.square.feet) %>% summarize(Freq = n())\n",
    "# freq_dist_gross_square_feet <- df %>% group_by(gross.square.feet) %>% summarize(Freq = n())\n",
    "\n",
    "# removing datapoints whose sqftage is less than 100\n",
    "# removing datapoints whose sale price is <100k. Since median price @nyc is around 1.8k\n",
    "\n",
    "# df <- df %>% filter(land.square.feet>100) \n",
    "# df <- df %>% filter(gross.square.feet >100)\n",
    "# df <- df %>% filter(sale.price>100000)\n",
    "\n",
    "# TODO: Add additional filters here? As it is, data is heavily skewed towards commercial properties\n",
    "\n",
    "# new_freq_dist_sale_price <- df %>% group_by(sale.price) %>% summarize(Freq = n())\n",
    "# new_freq_dist_land_square_feet <- df %>% group_by(land.square.feet) %>% summarize(Freq = n())\n",
    "# new_freq_dist_gross_square_feet <- df %>% group_by(gross.square.feet) %>% summarize(Freq = n())"
   ]
  },
  {
   "cell_type": "markdown",
   "metadata": {
    "id": "NdKX5jra9ALM"
   },
   "source": [
    "## Descriptive Stats for Price and Square Footage"
   ]
  },
  {
   "cell_type": "code",
   "execution_count": 17,
   "metadata": {
    "colab": {
     "base_uri": "https://localhost:8080/",
     "height": 243
    },
    "id": "l1m4qEym84CP",
    "outputId": "26ce0c13-dc5a-4c35-d14f-b7370720122a"
   },
   "outputs": [
    {
     "name": "stdout",
     "output_type": "stream",
     "text": [
      "[1] \"For `sale.price`...\"\n"
     ]
    },
    {
     "data": {
      "text/html": [
       "2.21e+09"
      ],
      "text/latex": [
       "2.21e+09"
      ],
      "text/markdown": [
       "2.21e+09"
      ],
      "text/plain": [
       "[1] 2.21e+09"
      ]
     },
     "metadata": {},
     "output_type": "display_data"
    },
    {
     "data": {
      "text/html": [
       "'numeric'"
      ],
      "text/latex": [
       "'numeric'"
      ],
      "text/markdown": [
       "'numeric'"
      ],
      "text/plain": [
       "[1] \"numeric\""
      ]
     },
     "metadata": {},
     "output_type": "display_data"
    },
    {
     "data": {
      "text/html": [
       "2.21e+09"
      ],
      "text/latex": [
       "2.21e+09"
      ],
      "text/markdown": [
       "2.21e+09"
      ],
      "text/plain": [
       "[1] 2.21e+09"
      ]
     },
     "metadata": {},
     "output_type": "display_data"
    },
    {
     "data": {
      "text/html": [
       "100700"
      ],
      "text/latex": [
       "100700"
      ],
      "text/markdown": [
       "100700"
      ],
      "text/plain": [
       "[1] 100700"
      ]
     },
     "metadata": {},
     "output_type": "display_data"
    },
    {
     "name": "stdout",
     "output_type": "stream",
     "text": [
      "\n",
      "[1] \"For `gross.square.feet`...\"\n"
     ]
    },
    {
     "data": {
      "text/html": [
       "3750565"
      ],
      "text/latex": [
       "3750565"
      ],
      "text/markdown": [
       "3750565"
      ],
      "text/plain": [
       "[1] 3750565"
      ]
     },
     "metadata": {},
     "output_type": "display_data"
    },
    {
     "data": {
      "text/html": [
       "120"
      ],
      "text/latex": [
       "120"
      ],
      "text/markdown": [
       "120"
      ],
      "text/plain": [
       "[1] 120"
      ]
     },
     "metadata": {},
     "output_type": "display_data"
    },
    {
     "name": "stdout",
     "output_type": "stream",
     "text": [
      "\n",
      "[1] \"For `land.square.feet`...\"\n"
     ]
    },
    {
     "data": {
      "text/html": [
       "4228300"
      ],
      "text/latex": [
       "4228300"
      ],
      "text/markdown": [
       "4228300"
      ],
      "text/plain": [
       "[1] 4228300"
      ]
     },
     "metadata": {},
     "output_type": "display_data"
    },
    {
     "data": {
      "text/html": [
       "200"
      ],
      "text/latex": [
       "200"
      ],
      "text/markdown": [
       "200"
      ],
      "text/plain": [
       "[1] 200"
      ]
     },
     "metadata": {},
     "output_type": "display_data"
    }
   ],
   "source": [
    "# Descriptive Stats\n",
    "print(\"For `sale.price`...\")\n",
    "max(df$sale.price)\n",
    "class(df$sale.price)\n",
    "max(df$sale.price)\n",
    "min(df$sale.price)\n",
    "\n",
    "cat(\"\\n\")\n",
    "print(\"For `gross.square.feet`...\")\n",
    "max(df$gross.square.feet)\n",
    "min(df$gross.square.feet)\n",
    "\n",
    "cat(\"\\n\")\n",
    "print(\"For `land.square.feet`...\")\n",
    "max(df$land.square.feet)\n",
    "min(df$land.square.feet)"
   ]
  },
  {
   "cell_type": "markdown",
   "metadata": {
    "id": "HEgIwIDK9g07"
   },
   "source": [
    "## Adjusting the data for skewness\n",
    "\n",
    "To get an idea of the skewness of the data, we will produce a histogram.\n",
    "\n",
    "We choose `gross.square.feet` arbitrarily."
   ]
  },
  {
   "cell_type": "code",
   "execution_count": 18,
   "metadata": {
    "colab": {
     "base_uri": "https://localhost:8080/",
     "height": 437
    },
    "id": "BSc2O-0E89EG",
    "outputId": "c5d04e0a-9e2d-44f3-9a8a-5757078f6da5"
   },
   "outputs": [
    {
     "data": {
      "image/png": "[encoded data removed]",
      "text/plain": [
       "Plot with title \"Histogram of df$gross.square.feet\""
      ]
     },
     "metadata": {
      "image/png": {
       "height": 420,
       "width": 420
      }
     },
     "output_type": "display_data"
    }
   ],
   "source": [
    "# hist(df$sale.price)\n",
    "hist(df$gross.square.feet)"
   ]
  },
  {
   "cell_type": "markdown",
   "metadata": {
    "id": "YSjpow7i1n47"
   },
   "source": [
    "Based on the histogram above for gross square feet, we observed that the data was heavily skewed and can benefit from a Box Cox + Center/Scaling transformation for improved model performance.\n",
    "\n",
    "BEFORE we do that though, we will separate `sale.price` from the dataframe to prevent the same transformation from applying to the response."
   ]
  },
  {
   "cell_type": "code",
   "execution_count": 19,
   "metadata": {
    "colab": {
     "base_uri": "https://localhost:8080/"
    },
    "id": "hqP_lVaT1n48",
    "outputId": "bafbe119-b9ea-45be-8be3-31b5cab17137"
   },
   "outputs": [
    {
     "name": "stdout",
     "output_type": "stream",
     "text": [
      " [1] \"num\"                            \"borough\"                       \n",
      " [3] \"neighborhood\"                   \"building.class.category\"       \n",
      " [5] \"tax.class.at.present\"           \"block\"                         \n",
      " [7] \"lot\"                            \"building.class.at.present\"     \n",
      " [9] \"street\"                         \"zip.code\"                      \n",
      "[11] \"residential.units\"              \"commercial.units\"              \n",
      "[13] \"total.units\"                    \"land.square.feet\"              \n",
      "[15] \"gross.square.feet\"              \"year.built\"                    \n",
      "[17] \"tax.class.at.time.of.sale\"      \"building.class.at.time.of.sale\"\n"
     ]
    }
   ],
   "source": [
    "# Based on the histogram above for gross square feet, we observed that the data was heavily skewed and can benefit \n",
    "# from a Box Cox + Center/Scaling transformation for improved model performance.\n",
    "# BEFORE we do that though, we will separate `sale.price` from the dataframe to \n",
    "# prevent the same transformation from applying to the response.\n",
    "df.y <- as.data.frame(df$sale.price)\n",
    "colnames(df.y) <- c(\"sale.price\")\n",
    "\n",
    "df <- subset(df, select = -c(sale.price))\n",
    "\n",
    "# Validate that sale.price has been removed from the structure of the main data frame.\n",
    "prettyPrintCols(df)"
   ]
  },
  {
   "cell_type": "markdown",
   "metadata": {
    "id": "WwlKhPMZ1n5D"
   },
   "source": [
    "### BoxCox / Centering / Scaling\n",
    "\n",
    "We use the `preProcess()` method to prep a boxcox /centering / scaling routine against the dataset."
   ]
  },
  {
   "cell_type": "code",
   "execution_count": 20,
   "metadata": {
    "id": "AmCaMh6p1n5E"
   },
   "outputs": [],
   "source": [
    "# Preload a preprocessing routine\n",
    "df.preProc <- preProcess(\n",
    "    df,\n",
    "    method = c(\"BoxCox\", \"center\", \"scale\")\n",
    ")"
   ]
  },
  {
   "cell_type": "code",
   "execution_count": 21,
   "metadata": {
    "id": "1NhZCKN41n5G"
   },
   "outputs": [],
   "source": [
    "## Apply the transformations\n",
    "df.trans <- predict(df.preProc, df)"
   ]
  },
  {
   "cell_type": "code",
   "execution_count": 22,
   "metadata": {
    "colab": {
     "base_uri": "https://localhost:8080/",
     "height": 437
    },
    "id": "NbGfbgLQ1n5N",
    "outputId": "3f1ffb34-72a3-46d7-f3fc-e5bf716acb8d"
   },
   "outputs": [
    {
     "data": {
      "image/png": "[encoded data removed]",
      "text/plain": [
       "Plot with title \"Histogram of df.trans$gross.square.feet\""
      ]
     },
     "metadata": {
      "image/png": {
       "height": 420,
       "width": 420
      }
     },
     "output_type": "display_data"
    }
   ],
   "source": [
    "hist(df.trans$gross.square.feet)"
   ]
  },
  {
   "cell_type": "markdown",
   "metadata": {
    "id": "ob3D_g92-IPe"
   },
   "source": [
    "## Multicollinearity Test"
   ]
  },
  {
   "cell_type": "code",
   "execution_count": 23,
   "metadata": {
    "id": "yzCGkRa--Kw7"
   },
   "outputs": [],
   "source": [
    "# # check multicollinearity\n",
    "# numericpredictors <- c('residential.units','commercial.units','total.units','land.square.feet','gross.square.feet','sale.price')\n",
    "# df_numpreds <- subset(df, select= numericpredictors)\n",
    "# corr <- cor(df_numpreds)\n",
    "# corr\n",
    "# corrplot(corr,method= \"number\",col=brewer.pal(n=8, name=\"PuOr\"))"
   ]
  },
  {
   "cell_type": "markdown",
   "metadata": {
    "id": "K9Rd0Zkt-PJR"
   },
   "source": [
    "## Data Culling"
   ]
  },
  {
   "cell_type": "code",
   "execution_count": 24,
   "metadata": {
    "id": "D_d_Oskf-RU0"
   },
   "outputs": [],
   "source": [
    "# #remove total units as a predictor since it is highly correlated to # of residential units and commercial units\n",
    "\n",
    "# # one hot encoding the categorical variables\n",
    "# # borough \n",
    "# # neighborhood\n",
    "# # building.class.category \n",
    "# # tax.class.at.present \n",
    "# # building.class.at.present\n",
    "# # zip.code\n",
    "# # year.built\n",
    "# # tax.class.at.time.of.sale\n",
    "# # building.class.at.time.of.sale\n",
    "\n",
    "# dmy <- dummyVars(\" ~ borough +\n",
    "# neighborhood +\n",
    "# building.class.category +\n",
    "# tax.class.at.present +\n",
    "# building.class.at.present +\n",
    "# zip.code +\n",
    "# year.built +\n",
    "# tax.class.at.time.of.sale +\n",
    "# building.class.at.time.of.sale\", data = df)\n",
    "# trsf <- data.frame(predict(dmy, newdata = df))\n",
    "# dim(trsf)\n",
    "\n",
    "# df_for_modeling <- cbind(trsf, df_numpreds)\n",
    "# dim(df_for_modeling)"
   ]
  },
  {
   "cell_type": "markdown",
   "metadata": {
    "id": "3yXZlZ2n-kYs"
   },
   "source": [
    "# Modeling"
   ]
  },
  {
   "cell_type": "markdown",
   "metadata": {
    "id": "lH3AtlNJ-wvX"
   },
   "source": [
    "### Data Partioning"
   ]
  },
  {
   "cell_type": "code",
   "execution_count": 25,
   "metadata": {
    "id": "yF99F3xC-yLX"
   },
   "outputs": [],
   "source": [
    "# #split data into train, validation and test\n",
    "# inTraining <- createDataPartition(df_for_modeling$sale.price, p = .70, list = FALSE)\n",
    "# trainset <- df_for_modeling[inTraining,]\n",
    "# testandvalidation  <- df_for_modeling[-inTraining,]\n",
    "\n",
    "# testid <- createDataPartition(testandvalidation$sale.price, p = .50, list = FALSE)\n",
    "# testset <- testandvalidation[testid,]\n",
    "# validationset <- testandvalidation[-testid,]\n",
    "\n",
    "# dim(trainset)\n",
    "# dim(validationset)\n",
    "# dim(testset)\n",
    "\n",
    "# # training various models\n",
    "\n",
    "# #Simple Linear Regression"
   ]
  },
  {
   "cell_type": "markdown",
   "metadata": {
    "id": "0tDf0QnbGRCN"
   },
   "source": [
    "## Partial Least Squares \n"
   ]
  },
  {
   "cell_type": "markdown",
   "metadata": {
    "id": "W3ckrmykg8Dw"
   },
   "source": [
    "### Data Partitioning\n"
   ]
  },
  {
   "cell_type": "code",
   "execution_count": 26,
   "metadata": {
    "id": "SPSqwjLEZV9T"
   },
   "outputs": [],
   "source": [
    "# Set seed\n",
    "# create a list of random number ranging from 1 to number of rows from actual data \n",
    "# and 70% of the data into training data\n",
    "set.seed(824452)\n",
    "df.shuffled <- sort(sample(nrow(df.trans), nrow(df.trans)*.7))\n",
    "\n",
    "# Create both training and test data sets by using the random ordering created \n",
    "# in the preceding executed line \n",
    "df.pls.train <- as.data.frame(df.trans[df.shuffled,])\n",
    "df.pls.test <- as.data.frame(df.trans[-df.shuffled,])\n",
    "\n",
    "df.y.pls.train <- as.data.frame(df.y[df.shuffled,])\n",
    "df.y.pls.test <- as.data.frame(df.y[-df.shuffled,])\n",
    "\n",
    "# Rename the columns to `sale.price` since that gets removed in the midst of indexing. \n",
    "colnames(df.y.pls.train) <- c(\"sale.price\")\n",
    "colnames(df.y.pls.test) <- c(\"sale.price\")"
   ]
  },
  {
   "cell_type": "markdown",
   "metadata": {
    "id": "xu6IlKaHnGzU"
   },
   "source": [
    "### Create control for PLS Model\n",
    "\n",
    "This is the `trainControl` method used for Partial Least Squares; this model will use 10-folds Cross Validation for model resampling.\n"
   ]
  },
  {
   "cell_type": "code",
   "execution_count": 27,
   "metadata": {
    "id": "PuYenD0BnVGM"
   },
   "outputs": [],
   "source": [
    "# create control\n",
    "pls.ctrl <- trainControl(method = \"cv\", number = 10)"
   ]
  },
  {
   "cell_type": "markdown",
   "metadata": {
    "id": "0yGjfnQNhg86"
   },
   "source": [
    "### Partial Least Squares"
   ]
  },
  {
   "cell_type": "code",
   "execution_count": 28,
   "metadata": {
    "colab": {
     "base_uri": "https://localhost:8080/"
    },
    "id": "605kDME8yqAd",
    "outputId": "64f9887f-4853-43d8-f09f-d64b700b5dd4"
   },
   "outputs": [
    {
     "name": "stdout",
     "output_type": "stream",
     "text": [
      "'data.frame':\t19537 obs. of  18 variables:\n",
      " $ num                           : num  -2.56 -2.53 -2.5 -2.48 -2.47 ...\n",
      " $ borough                       : Factor w/ 5 levels \"1\",\"2\",\"3\",\"4\",..: 1 1 1 1 1 1 1 1 1 1 ...\n",
      " $ neighborhood                  : Factor w/ 254 levels \"AIRPORT LA GUARDIA\",..: 2 2 2 2 2 2 2 40 40 40 ...\n",
      " $ building.class.category       : Factor w/ 47 levels \"01 ONE FAMILY DWELLINGS                    \",..: 7 7 7 8 8 15 21 1 2 3 ...\n",
      " $ tax.class.at.present          : Factor w/ 11 levels \" \",\"1\",\"1A\",\"1B\",..: 7 8 8 6 8 7 11 2 2 2 ...\n",
      " $ block                         : num  -1.87 -1.86 -1.86 -1.88 -1.86 ...\n",
      " $ lot                           : num  -1.519 -0.4157 -0.0448 1.3333 -0.4157 ...\n",
      " $ building.class.at.present     : Factor w/ 167 levels \" \",\"A0\",\"A1\",..: 17 19 19 35 27 141 83 10 140 15 ...\n",
      " $ street                        : Factor w/ 8077 levels \"****** 95TH STREET \",..: 1890 3664 1890 3626 3626 3703 1891 7707 7696 7707 ...\n",
      " $ zip.code                      : Factor w/ 186 levels \"0\",\"10001\",\"10002\",..: 9 9 9 9 9 9 9 11 11 11 ...\n",
      " $ residential.units             : num  0.0986 0.3472 0.2477 1.0432 0.3472 ...\n",
      " $ commercial.units              : num  -0.0233 -0.0233 -0.0233 -0.0233 -0.0233 ...\n",
      " $ total.units                   : num  0.0664 0.2676 0.1871 0.831 0.2676 ...\n",
      " $ land.square.feet              : num  -1.085 -0.333 -0.919 0.935 0.618 ...\n",
      " $ gross.square.feet             : num  1.64 1.69 1.21 2.35 2.13 ...\n",
      " $ year.built                    : Factor w/ 158 levels \"0\",\"1111\",\"1680\",..: 41 54 61 61 150 51 40 42 61 42 ...\n",
      " $ tax.class.at.time.of.sale     : Factor w/ 4 levels \"1\",\"2\",\"3\",\"4\": 2 2 2 2 2 2 4 1 1 1 ...\n",
      " $ building.class.at.time.of.sale: Factor w/ 166 levels \"A0\",\"A1\",\"A2\",..: 16 18 18 34 26 140 82 9 139 14 ...\n"
     ]
    }
   ],
   "source": [
    "str(df.pls.train)"
   ]
  },
  {
   "cell_type": "markdown",
   "metadata": {
    "id": "a0GI5nD9yqAe"
   },
   "source": [
    "#### Manual PLS\n",
    "\n",
    "We set the number of components to measure against as 10, then we will use the \n",
    "`plsr()` function to invoke the partial least squares regression."
   ]
  },
  {
   "cell_type": "code",
   "execution_count": 29,
   "metadata": {
    "id": "mqskWtNjyqAe"
   },
   "outputs": [],
   "source": [
    "numComponents <- 10\n",
    "plsFit.manual = plsr(df.y.pls.train$sale.price ~., data = df.pls.train, ncomp = numComponents)"
   ]
  },
  {
   "cell_type": "code",
   "execution_count": 30,
   "metadata": {
    "colab": {
     "base_uri": "https://localhost:8080/"
    },
    "id": "kwjsddvjyqAe",
    "outputId": "5b24c182-8a00-450c-93b0-a11876ad30c1"
   },
   "outputs": [
    {
     "name": "stdout",
     "output_type": "stream",
     "text": [
      "Data: \tX dimension: 19537 9073 \n",
      "\tY dimension: 19537 1\n",
      "Fit method: kernelpls\n",
      "Number of components considered: 10\n",
      "TRAINING: % variance explained\n",
      "                           1 comps  2 comps  3 comps  4 comps  5 comps  6 comps\n",
      "X                           13.889   18.672   24.775   31.449   37.802    40.30\n",
      "df.y.pls.train$sale.price    4.491    5.998    6.957    7.578    8.432    12.28\n",
      "                           7 comps  8 comps  9 comps  10 comps\n",
      "X                            44.52    47.65    50.74     55.81\n",
      "df.y.pls.train$sale.price    15.11    17.62    19.49     20.89\n"
     ]
    }
   ],
   "source": [
    "summary(plsFit.manual)"
   ]
  },
  {
   "cell_type": "code",
   "execution_count": 31,
   "metadata": {
    "id": "xUrT2TYfyqAe"
   },
   "outputs": [],
   "source": [
    "# try on the test data, and then evaluate the results.\n",
    "plsPred.manual = predict(plsFit.manual, df.pls.test, ncomp = numComponents)\n",
    "plsValue.manual = data.frame(obs = df.y.pls.test$sale.price, pred = plsPred.manual[,,1])"
   ]
  },
  {
   "cell_type": "code",
   "execution_count": 32,
   "metadata": {
    "colab": {
     "base_uri": "https://localhost:8080/",
     "height": 69
    },
    "id": "jk6C87FIyqAe",
    "outputId": "4edfc35d-b75b-4468-ecd8-31191e903ff0"
   },
   "outputs": [
    {
     "name": "stdout",
     "output_type": "stream",
     "text": [
      "Partial Least Squares (Manual)"
     ]
    },
    {
     "data": {
      "text/html": [
       "<style>\n",
       ".dl-inline {width: auto; margin:0; padding: 0}\n",
       ".dl-inline>dt, .dl-inline>dd {float: none; width: auto; display: inline-block}\n",
       ".dl-inline>dt::after {content: \":\\0020\"; padding-right: .5ex}\n",
       ".dl-inline>dt:not(:first-of-type) {padding-left: .5ex}\n",
       "</style><dl class=dl-inline><dt>RMSE</dt><dd>12180445.1905144</dd><dt>Rsquared</dt><dd>0.183438987400346</dd><dt>MAE</dt><dd>3843283.38390702</dd></dl>\n"
      ],
      "text/latex": [
       "\\begin{description*}\n",
       "\\item[RMSE] 12180445.1905144\n",
       "\\item[Rsquared] 0.183438987400346\n",
       "\\item[MAE] 3843283.38390702\n",
       "\\end{description*}\n"
      ],
      "text/markdown": [
       "RMSE\n",
       ":   12180445.1905144Rsquared\n",
       ":   0.183438987400346MAE\n",
       ":   3843283.38390702\n",
       "\n"
      ],
      "text/plain": [
       "        RMSE     Rsquared          MAE \n",
       "1.218045e+07 1.834390e-01 3.843283e+06 "
      ]
     },
     "metadata": {},
     "output_type": "display_data"
    },
    {
     "name": "stdout",
     "output_type": "stream",
     "text": [
      "\n"
     ]
    }
   ],
   "source": [
    "cat(\"Partial Least Squares (Manual)\")\n",
    "defaultSummary(plsValue.manual)\n",
    "cat(\"\\n\")"
   ]
  },
  {
   "cell_type": "markdown",
   "metadata": {
    "id": "jmMM8d_GyqAe"
   },
   "source": [
    "Based on the results of the manual PLS model, we can see that $R^{2}\\,\\approx\\,0.17$, which indicates that the model was ill-suited to predict or observe a linear relationship between all of the predictors."
   ]
  },
  {
   "cell_type": "markdown",
   "metadata": {
    "id": "9pJ1jAyyyqAe"
   },
   "source": [
    "#### `TrainControl`-based PLS with 10-folds cross validation\n",
    "\n",
    "To verify/validate the results seen in the manual PLS model, we will use a `TrainControl` to automate a 10-fold cross validation of a PLS model. "
   ]
  },
  {
   "cell_type": "code",
   "execution_count": 33,
   "metadata": {
    "id": "UR4gQ1twhh5f"
   },
   "outputs": [],
   "source": [
    "# #### `TrainControl`-based PLS with 10-folds cross validation\n",
    "# To verify/validate the results seen in the manual PLS model, we will use a `TrainControl` \n",
    "# to automate a 10-fold cross validation of a PLS model. \n",
    "\n",
    "# Partial Least Squares - Automated\n",
    "plsFit.CV <- train(\n",
    "    x = df.pls.train, # select features/predictors\n",
    "    y = df.y.pls.train$sale.price, # select outcome\n",
    "    method = \"pls\",\n",
    "    tuneGrid = expand.grid(ncomp = numComponents),\n",
    "    trControl = pls.ctrl\n",
    ")"
   ]
  },
  {
   "cell_type": "code",
   "execution_count": 34,
   "metadata": {
    "colab": {
     "base_uri": "https://localhost:8080/"
    },
    "id": "enbhMg4QyqAe",
    "outputId": "99eeb66d-ac2b-4e38-ac50-b5f2573a100e"
   },
   "outputs": [
    {
     "name": "stdout",
     "output_type": "stream",
     "text": [
      "Data: \tX dimension: 19537 9073 \n",
      "\tY dimension: 19537 1\n",
      "Fit method: oscorespls\n",
      "Number of components considered: 10\n",
      "TRAINING: % variance explained\n",
      "          1 comps  2 comps  3 comps  4 comps  5 comps  6 comps  7 comps\n",
      "X          13.889   18.672   24.775   31.449   37.802    40.30    44.52\n",
      ".outcome    4.491    5.998    6.957    7.578    8.432    12.28    15.11\n",
      "          8 comps  9 comps  10 comps\n",
      "X           47.65    50.74     55.81\n",
      ".outcome    17.62    19.49     20.89\n"
     ]
    }
   ],
   "source": [
    "summary(plsFit.CV)"
   ]
  },
  {
   "cell_type": "code",
   "execution_count": 35,
   "metadata": {
    "id": "UX_pSeA_yqAe"
   },
   "outputs": [],
   "source": [
    "plsPred.CV <- predict(plsFit.CV, df.pls.test)"
   ]
  },
  {
   "cell_type": "code",
   "execution_count": 36,
   "metadata": {
    "colab": {
     "base_uri": "https://localhost:8080/",
     "height": 35
    },
    "id": "6p2J1AZZyqAe",
    "outputId": "f16f9c15-f201-4296-ab5c-15e9879d1ff5"
   },
   "outputs": [
    {
     "data": {
      "text/html": [
       "<style>\n",
       ".dl-inline {width: auto; margin:0; padding: 0}\n",
       ".dl-inline>dt, .dl-inline>dd {float: none; width: auto; display: inline-block}\n",
       ".dl-inline>dt::after {content: \":\\0020\"; padding-right: .5ex}\n",
       ".dl-inline>dt:not(:first-of-type) {padding-left: .5ex}\n",
       "</style><dl class=dl-inline><dt>RMSE</dt><dd>12180445.1905149</dd><dt>Rsquared</dt><dd>0.183438987400336</dd><dt>MAE</dt><dd>3843283.38390711</dd></dl>\n"
      ],
      "text/latex": [
       "\\begin{description*}\n",
       "\\item[RMSE] 12180445.1905149\n",
       "\\item[Rsquared] 0.183438987400336\n",
       "\\item[MAE] 3843283.38390711\n",
       "\\end{description*}\n"
      ],
      "text/markdown": [
       "RMSE\n",
       ":   12180445.1905149Rsquared\n",
       ":   0.183438987400336MAE\n",
       ":   3843283.38390711\n",
       "\n"
      ],
      "text/plain": [
       "        RMSE     Rsquared          MAE \n",
       "1.218045e+07 1.834390e-01 3.843283e+06 "
      ]
     },
     "metadata": {},
     "output_type": "display_data"
    }
   ],
   "source": [
    "plsTest.CV <- data.frame(obs = df.y.pls.test$sale.price, pred = predict(plsFit.CV, df.pls.test))\n",
    "defaultSummary(plsTest.CV)"
   ]
  },
  {
   "cell_type": "markdown",
   "metadata": {
    "id": "qia_Db0VyqAe"
   },
   "source": [
    "Based on the results seen above, the results are virtually indistinguishable from the manual PLS model."
   ]
  },
  {
   "cell_type": "markdown",
   "metadata": {
    "id": "wjlVL_rP18cF"
   },
   "source": [
    "## Tree Based Regression"
   ]
  },
  {
   "cell_type": "markdown",
   "metadata": {
    "id": "1fy8LHYrlX4N"
   },
   "source": [
    "We will use the same partitioned data from the Partial Least Squares Section."
   ]
  },
  {
   "cell_type": "code",
   "execution_count": 37,
   "metadata": {
    "id": "Vbe5fIf574OD"
   },
   "outputs": [],
   "source": [
    "df.tree.train <- df.pls.train\n",
    "df.y.tree.train <- df.y.pls.train"
   ]
  },
  {
   "cell_type": "code",
   "execution_count": 38,
   "metadata": {
    "colab": {
     "base_uri": "https://localhost:8080/",
     "height": 1000
    },
    "id": "H2gf_IG62UEn",
    "outputId": "64379253-2ac5-4d2d-cb44-1a1d22ab1992"
   },
   "outputs": [
    {
     "name": "stderr",
     "output_type": "stream",
     "text": [
      "Warning message in nominalTrainWorkflow(x = x, y = y, wts = weights, info = trainInfo, :\n",
      "\"There were missing values in resampled performance measures.\"\n"
     ]
    },
    {
     "data": {
      "text/plain": [
       "CART \n",
       "\n",
       "19537 samples\n",
       "   18 predictor\n",
       "\n",
       "No pre-processing\n",
       "Resampling: Cross-Validated (10 fold) \n",
       "Summary of sample sizes: 17583, 17583, 17583, 17584, 17584, 17584, ... \n",
       "Resampling results across tuning parameters:\n",
       "\n",
       "  maxdepth  RMSE      Rsquared   MAE    \n",
       "   1        13425152  0.3923487  1812085\n",
       "   2        12663449  0.2968432  1628211\n",
       "   4        12487691  0.3492775  1435951\n",
       "   5        12621266  0.3448050  1453965\n",
       "   6        12620987  0.3450057  1453114\n",
       "   7        12620346  0.3447914  1443147\n",
       "   8        12620346  0.3447914  1443147\n",
       "   9        12620346  0.3447914  1443147\n",
       "  10        12620346  0.3447914  1443147\n",
       "  11        12620346  0.3447914  1443147\n",
       "  12        12620346  0.3447914  1443147\n",
       "  13        12620346  0.3447914  1443147\n",
       "  14        12620346  0.3447914  1443147\n",
       "  15        12620346  0.3447914  1443147\n",
       "  16        12620346  0.3447914  1443147\n",
       "  17        12620346  0.3447914  1443147\n",
       "  18        12620346  0.3447914  1443147\n",
       "  19        12620346  0.3447914  1443147\n",
       "  20        12620346  0.3447914  1443147\n",
       "  21        12620346  0.3447914  1443147\n",
       "\n",
       "RMSE was used to select the optimal model using the smallest value.\n",
       "The final value used for the model was maxdepth = 4."
      ]
     },
     "metadata": {},
     "output_type": "display_data"
    },
    {
     "data": {
      "image/png": "[encoded data removed]",
      "text/plain": [
       "plot without title"
      ]
     },
     "metadata": {
      "image/png": {
       "height": 420,
       "width": 420
      }
     },
     "output_type": "display_data"
    }
   ],
   "source": [
    "# Setting the seed for our Regression Tree Model\n",
    "set.seed(4000)\n",
    "\n",
    "treebasedfit <- train(\n",
    "  x= df.tree.train, \n",
    "  y= df.y.tree.train$sale.price,\n",
    "  method = \"rpart2\",\n",
    "  tuneLength = 20,\n",
    "  trControl = trainControl(method = \"cv\")\n",
    ")\n",
    "\n",
    "treebasedfit\n",
    "plot(treebasedfit)"
   ]
  },
  {
   "cell_type": "markdown",
   "metadata": {
    "id": "lgGh5IqF-T2V"
   },
   "source": [
    "## Elastic Net"
   ]
  },
  {
   "cell_type": "code",
   "execution_count": null,
   "metadata": {
    "colab": {
     "base_uri": "https://localhost:8080/",
     "height": 1000
    },
    "id": "wNcuOcjozhfT",
    "outputId": "46b13ffb-2649-4b58-a6aa-df8cacd6bfeb"
   },
   "outputs": [],
   "source": [
    "# GK's Code to convert to binary predictors\n",
    "numericpredictors <- c('residential.units','commercial.units','total.units','land.square.feet','gross.square.feet')\n",
    "df_numpreds <- subset(df, select= numericpredictors)\n",
    "\n",
    "dmy <- dummyVars(\" ~ borough +\n",
    "neighborhood +\n",
    "building.class.category +\n",
    "tax.class.at.present +\n",
    "building.class.at.present +\n",
    "zip.code +\n",
    "year.built +\n",
    "tax.class.at.time.of.sale +\n",
    "building.class.at.time.of.sale\", data = df)\n",
    "trsf <- data.frame(predict(dmy, newdata = df))\n",
    "dim(trsf)\n",
    "\n",
    "df_for_modeling <- cbind(trsf, df_numpreds)\n",
    "dim(df_for_modeling)\n",
    "\n",
    "# Partition Data\n",
    "nearZeroVar(df_for_modeling)\n",
    "df.enet.train <- df_for_modeling[df.shuffled,-nearZeroVar(df_for_modeling)]\n",
    "df.enet.test <- df_for_modeling[-df.shuffled,-nearZeroVar(df_for_modeling)]\n",
    "\n",
    "df.y.enet.train <- df.y[df.shuffled,]\n",
    "df.y.enet.test <- df.y[-df.shuffled,]\n",
    "\n",
    "# Train Control\n",
    "enet.ctrl <- trainControl(\"LGOCV\")\n",
    "\n",
    "# Tune Grid\n",
    "k=10\n",
    "\n",
    "\n",
    "# Train Model\n",
    "enetFit.MC <- train(x = df.enet.train, # select features/predictors\n",
    "                   y = df.y.enet.train, # select outcome\n",
    "                   method = \"enet\",\n",
    "                   tuneGrid = expand.grid(.fraction = .2*(1:k)/k, .lambda=.001*(1:k)/k),\n",
    "                   trControl = enet.ctrl,\n",
    "                   preProc = c(\"center\", \"scale\"))\n",
    "\n",
    "# Summary\n",
    "summary(enetFit.MC)\n",
    "enetFit.MC$bestTune\n",
    "plot(enetFit.MC)\n",
    "\n",
    "#Preditction\n",
    "enetPred.MC <- predict(enetFit.MC, df.enet.test)\n",
    "\n",
    "enetTest.MC <- data.frame(obs = df.y.enet.test, pred = predict(enetFit.MC, df.enet.test))\n",
    "defaultSummary(enetTest.MC)\n"
   ]
  },
  {
   "cell_type": "markdown",
   "metadata": {
    "id": "vaYxMkCE-ayP"
   },
   "source": [
    "## MARS"
   ]
  },
  {
   "cell_type": "code",
   "execution_count": null,
   "metadata": {
    "colab": {
     "base_uri": "https://localhost:8080/",
     "height": 1000
    },
    "id": "QfInQKYMadqH",
    "outputId": "0aa347a1-7b3f-4de2-82dc-54b84ca5292a"
   },
   "outputs": [],
   "source": [
    "# Partition Data\n",
    "df.mars.train <- df.pls.train\n",
    "df.mars.test <- df.pls.test\n",
    "\n",
    "df.y.mars.train <- df.y[df.shuffled,]\n",
    "df.y.mars.test <- df.y[-df.shuffled,]\n",
    "\n",
    "# Train Control\n",
    "mars.ctrl <- trainControl(\"LGOCV\")\n",
    "\n",
    "# Tune Grid\n",
    "marsGrid = expand.grid(.degree=1:3, .nprune=2:15)\n",
    "\n",
    "# Train Model Packages must be loaded prior \n",
    "marsFit.MC <- train(x = df.mars.test, # select features/predictors\n",
    "                   y = df.y.mars.test, # select outcome\n",
    "                   method = \"earth\",\n",
    "                   tuneGrid = marsGrid,\n",
    "                   trControl = mars.ctrl)\n",
    "\n",
    "warnings()\n",
    "\n",
    "# Summary\n",
    "summary(marsFit.MC)\n",
    "marsFit.MC$bestTune\n",
    "plot(marsFit.MC)\n",
    "\n",
    "#Prediction\n",
    "marsPred.MC <- predict(marsFit.MC, df.mars.test)\n",
    "\n",
    "marsTest.MC <- data.frame(obs = df.y.mars.test, pred = predict(marsFit.MC, df.mars.test))\n",
    "defaultSummary(marsTest.MC)"
   ]
  },
  {
   "cell_type": "markdown",
   "metadata": {
    "id": "931onhs2-3Nf"
   },
   "source": [
    "# RAW CODE - GK"
   ]
  },
  {
   "cell_type": "code",
   "execution_count": null,
   "metadata": {
    "id": "_W5_ZWTT9zzd"
   },
   "outputs": [],
   "source": [
    "# head(nycdata)\n",
    "\n",
    "# colnames(nycdata) %<>% str_replace_all(\"\\\\s\", \"_\") %>% tolower()\n",
    "# colnames(nycdata)\n",
    "\n",
    "# str(nycdata)\n",
    "\n",
    "# df <- nycdata\n",
    "# df$sale.price <- as.numeric(as.character(df$sale.price))\n",
    "# df$land.square.feet <- as.numeric(as.character(df$land.square.feet))\n",
    "# df$gross.square.feet <- as.numeric(as.character(df$gross.square.feet))\n",
    "\n",
    "# df$ease.ment = NULL\n",
    "# df$apartment.number = NULL\n",
    "# df$sale.date = NULL\n",
    "\n",
    "# df$borough = as.factor(df$borough)\n",
    "# df$neighborhood = as.factor(df$neighborhood)\n",
    "# df$building.class.category = as.factor(df$building.class.category)\n",
    "# df$tax.class.at.present = as.factor(df$tax.class.at.present )\n",
    "\n",
    "# #block and lot\n",
    "\n",
    "# df$building.class.at.present = as.factor(df$building.class.at.present)\n",
    "\n",
    "# #address needs to be feature engineered\n",
    "# # avenue, broadway etc.\n",
    "\n",
    "# df$zip.code = as.factor(df$zip.code)\n",
    "\n",
    "# #total units is a calculated field. can be ignored\n",
    "\n",
    "# #convert sqftage to numeric\n",
    "# df$land.square.feet = as.numeric(df$land.square.feet)\n",
    "# df$gross.square.feet = as.numeric(df$gross.square.feet)\n",
    "\n",
    "# #need to feature engineer year built- \n",
    "# # option 1- convert to 'age' by subtracting from 2017\n",
    "# # option 2- convert to intervals\n",
    "# # option 3- convert to factor and leave as is\n",
    "\n",
    "# #doing option 3\n",
    "# df$year.built <- as.factor(df$year.built)\n",
    "\n",
    "# df$tax.class.at.time.of.sale = as.factor(df$tax.class.at.time.of.sale)\n",
    "# df$building.class.at.time.of.sale = as.factor(df$building.class.at.time.of.sale)\n",
    "\n",
    "# df$sale.price = as.numeric(df$sale.price)\n",
    "\n",
    "# # removed NA and keep only distinct records\n",
    "# df <- df %>% distinct() %>% drop_na(c(gross.square.feet,land.square.feet, sale.price))\n",
    "\n",
    "# #drop NA's that were created during the conversion from the \"-\" value\n",
    "# df <- df %>% drop_na(c(gross.square.feet,land.square.feet, sale.price))\n",
    "\n",
    "# freq_dist_sale_price <- df %>% group_by(sale.price) %>% summarize(Freq = n())\n",
    "# freq_dist_land_square_feet <- df %>% group_by(land.square.feet) %>% summarize(Freq = n())\n",
    "# freq_dist_gross_square_feet <- df %>% group_by(gross.square.feet) %>% summarize(Freq = n())\n",
    "\n",
    "# freq_dist_sale_price\n",
    "# freq_dist_land_square_feet\n",
    "# freq_dist_gross_square_feet\n",
    "\n",
    "# # removing datapoints whose sqftage is less than 100\n",
    "# # removing datapoints whose sale price is <100k. Since median price @nyc is around 1.8k\n",
    "\n",
    "# df <-df%>% filter(land.square.feet>100) \n",
    "# df<- df %>% filter(gross.square.feet >100)\n",
    "# df<- df %>% filter(sale.price>100000)\n",
    "\n",
    "# new_freq_dist_sale_price <- df %>% group_by(sale.price) %>% summarize(Freq = n())\n",
    "# new_freq_dist_land_square_feet <- df %>% group_by(land.square.feet) %>% summarize(Freq = n())\n",
    "# new_freq_dist_gross_square_feet <- df %>% group_by(gross.square.feet) %>% summarize(Freq = n())\n",
    "\n",
    "# max(nycdata$sale.price)\n",
    "# class(nycdata$sale.price)\n",
    "# max(df$sale.price)\n",
    "# min(df$sale.price)\n",
    "\n",
    "# max(df$gross.square.feet)\n",
    "# min(df$gross.square.feet)\n",
    "\n",
    "# max(df$land.square.feet)\n",
    "# min(df$land.square.feet)\n",
    "\n",
    "# hist(df$sale.price)\n",
    "# hist(df$gross.square.feet)\n",
    "\n",
    "# # check multicollinearity\n",
    "# install.packages(\"corrplot\")\n",
    "# library(corrplot)\n",
    "# library(RColorBrewer)\n",
    "# numericpredictors <- c('residential.units','commercial.units','total.units','land.square.feet','gross.square.feet','sale.price')\n",
    "# df_numpreds <- subset(df, select= numericpredictors)\n",
    "# corr <- cor(df_numpreds)\n",
    "# corr\n",
    "# corrplot(corr,method= \"number\",col=brewer.pal(n=8, name=\"PuOr\"))\n",
    "\n",
    "# #remove total units as a predictor since it is highly correlated to # of residential units and commercial units\n",
    "\n",
    "# # one hot encoding the categorical variables\n",
    "# # borough \n",
    "# # neighborhood\n",
    "# # building.class.category \n",
    "# # tax.class.at.present \n",
    "# # building.class.at.present\n",
    "# # zip.code\n",
    "# # year.built\n",
    "# # tax.class.at.time.of.sale\n",
    "# # building.class.at.time.of.sale\n",
    "\n",
    "# dmy <- dummyVars(\" ~ borough +\n",
    "# neighborhood +\n",
    "# building.class.category +\n",
    "# tax.class.at.present +\n",
    "# building.class.at.present +\n",
    "# zip.code +\n",
    "# year.built +\n",
    "# tax.class.at.time.of.sale +\n",
    "# building.class.at.time.of.sale\", data = df)\n",
    "# trsf <- data.frame(predict(dmy, newdata = df))\n",
    "# dim(trsf)\n",
    "\n",
    "# df_for_modeling <- cbind(trsf, df_numpreds)\n",
    "# dim(df_for_modeling)\n",
    "\n",
    "# #split data into train, validation and test\n",
    "# inTraining <- createDataPartition(df_for_modeling$sale.price, p = .70, list = FALSE)\n",
    "# trainset <- df_for_modeling[ inTraining,]\n",
    "# testandvalidation  <- df_for_modeling[-inTraining,]\n",
    "\n",
    "# testid <- createDataPartition(testandvalidation$sale.price, p = .50, list = FALSE)\n",
    "# testset <- testandvalidation[testid,]\n",
    "# validationset <- testandvalidation[-testid,]\n",
    "\n",
    "# dim(trainset)\n",
    "# dim(validationset)\n",
    "# dim(testset)\n",
    "\n",
    "# # training various models\n",
    "\n",
    "# #Simple Linear Regression"
   ]
  },
  {
   "cell_type": "code",
   "execution_count": null,
   "metadata": {
    "id": "sODDyMkzRMbh"
   },
   "outputs": [],
   "source": [
    "plot(nycdata[2],main = colnames(nycdata[2]))\n",
    "plot(nycdata[3],main = colnames(nycdata[3]))\n",
    "plot(nycdata[4],main = colnames(nycdata[4]))\n",
    "plot(nycdata[5],main = colnames(nycdata[5]))\n",
    "plot(nycdata[6],main = colnames(nycdata[6]))\n",
    "plot(nycdata[7],main = colnames(nycdata[7]))\n",
    "plot(nycdata[8],main = colnames(nycdata[8]))\n",
    "#plot(nyc.data[9],main = colnames(nyc.data[9])) Address not done\n",
    "# library(hexbin)\n",
    "#hexbinplot(latitude~longitude, data=nycdata)\n",
    "#plot(nyc.data[10],main = colnames(nyc.data[10]))\n",
    "#plot(nyc.data[11],main = colnames(nyc.data[11]))\n",
    "#plot(nyc.data[12],main = colnames(nyc.data[12])) Apt number not done\n",
    "plot(nyc.data[13],main = colnames(nycdata[13]))\n",
    "histogram(nycdata$residential.units)\n",
    "histogram(nycdata$commercial.units)\n",
    "histogram(nycdata$total.units)\n",
    "histogram(nycdata$land.square.feet)\n",
    "histogram(nycdata$gross.square.feet)\n",
    "histogram(nycdata$year.built)\n",
    "plot(nyc.data[20],main = colnames(nycdata[20]))\n",
    "plot(nyc.data[21],main = colnames(nycdata[21]))\n",
    "histogram(nycdata$sale.price)"
   ]
  },
  {
   "cell_type": "code",
   "execution_count": null,
   "metadata": {
    "id": "bj9jSckz592o"
   },
   "outputs": [],
   "source": [
    "nyc.data2 <- nyc.data\n",
    "nyc.data2 <- nyc.data2[which(nyc.data$LATITUDE <= 41),]\n",
    "nyc.data2 <- nyc.data2[which(nyc.data2$LATITUDE >= 40),]\n",
    "nyc.data2 <- nyc.data2[which(nyc.data2$LONGITUDE <= -73.6),]\n",
    "hexbinplot(LATITUDE~LONGITUDE, data=nyc.data2)\n",
    "nyc.data2 <- nyc.data2[which(nyc.data2$LAND.SQUARE.FEET <= 1000000),]\n",
    "nyc.data2 <- nyc.data2[which(nyc.data2$LAND.SQUARE.FEET >= 100),]\n",
    "nyc.data2 <- nyc.data2[which(nyc.data2$GROSS.SQUARE.FEET >= 100),]\n",
    "nyc.data2 <- nyc.data2[which(nyc.data2$SALE.PRICE >= 100000),]\n",
    "nyc.data2 <- nyc.data2[which(nyc.data2$YEAR.BUILT >= 1500),]"
   ]
  },
  {
   "cell_type": "code",
   "execution_count": null,
   "metadata": {
    "id": "g0bZNEx6_D9D"
   },
   "outputs": [],
   "source": []
  }
 ],
 "metadata": {
  "colab": {
   "collapsed_sections": [],
   "name": "OR-568_Project_Analysis.ipynb",
   "provenance": [],
   "toc_visible": true
  },
  "kernelspec": {
   "display_name": "R",
   "language": "R",
   "name": "ir"
  },
  "language_info": {
   "codemirror_mode": "r",
   "file_extension": ".r",
   "mimetype": "text/x-r-source",
   "name": "R",
   "pygments_lexer": "r",
   "version": "4.0.2"
  }
 },
 "nbformat": 4,
 "nbformat_minor": 4
}
