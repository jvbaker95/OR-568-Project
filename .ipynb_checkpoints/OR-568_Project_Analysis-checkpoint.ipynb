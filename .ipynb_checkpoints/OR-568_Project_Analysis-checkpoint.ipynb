{
 "cells": [
  {
   "cell_type": "markdown",
   "metadata": {
    "id": "gdH9IFA9k9ZM"
   },
   "source": [
    "# OR 568 - Rogers Rangers\n",
    "## NYC Rolling Sales Dataset\n",
    "\n",
    "James Baker\n",
    "\n",
    "Arturo Davila-Andino\n",
    "\n",
    "Gridihar Kaushik Ramachandran (GK)\n",
    "\n",
    "Andrew So"
   ]
  },
  {
   "cell_type": "markdown",
   "metadata": {
    "id": "cnbbh4XKk9ZO"
   },
   "source": [
    "## Developer Notes\n",
    "\n",
    "*James B*: For tables, I generally build them in excel and then convert them into Markdown tables at these two links:\n",
    "* https://tableconvert.com/\n",
    "* https://www.tablesgenerator.com/markdown_tables"
   ]
  },
  {
   "cell_type": "markdown",
   "metadata": {
    "id": "vQN3hhBXk9ZO"
   },
   "source": [
    "# Initial Setup / Package Imports"
   ]
  },
  {
   "cell_type": "code",
   "execution_count": 1,
   "metadata": {
    "colab": {
     "base_uri": "https://localhost:8080/",
     "height": 1000
    },
    "executionInfo": {
     "elapsed": 3656,
     "status": "ok",
     "timestamp": 1605136499856,
     "user": {
      "displayName": "J Baker",
      "photoUrl": "https://lh6.googleusercontent.com/-0rPdDXaIpZM/AAAAAAAAAAI/AAAAAAAAcZM/hA3v4CJXYgc/s64/photo.jpg",
      "userId": "08735636572862390699"
     },
     "user_tz": 300
    },
    "id": "XOUWagt-k9ZP",
    "outputId": "56fae362-4937-4bd3-b256-0a83caf29dad",
    "scrolled": true
   },
   "outputs": [
    {
     "name": "stderr",
     "output_type": "stream",
     "text": [
      "Loading required package: ggplot2\n",
      "\n",
      "Loading required package: plyr\n",
      "\n",
      "Loading required package: mlbench\n",
      "\n",
      "Loading required package: e1071\n",
      "\n",
      "Loading required package: dplyr\n",
      "\n",
      "\n",
      "Attaching package: 'dplyr'\n",
      "\n",
      "\n",
      "The following objects are masked from 'package:plyr':\n",
      "\n",
      "    arrange, count, desc, failwith, id, mutate, rename, summarise,\n",
      "    summarize\n",
      "\n",
      "\n",
      "The following objects are masked from 'package:stats':\n",
      "\n",
      "    filter, lag\n",
      "\n",
      "\n",
      "The following objects are masked from 'package:base':\n",
      "\n",
      "    intersect, setdiff, setequal, union\n",
      "\n",
      "\n",
      "Loading required package: caret\n",
      "\n",
      "Loading required package: lattice\n",
      "\n",
      "Loading required package: pls\n",
      "\n",
      "\n",
      "Attaching package: 'pls'\n",
      "\n",
      "\n",
      "The following object is masked from 'package:caret':\n",
      "\n",
      "    R2\n",
      "\n",
      "\n",
      "The following object is masked from 'package:stats':\n",
      "\n",
      "    loadings\n",
      "\n",
      "\n",
      "Loading required package: lars\n",
      "\n",
      "Loaded lars 1.2\n",
      "\n",
      "\n",
      "Loading required package: elasticnet\n",
      "\n",
      "Loading required package: AppliedPredictiveModeling\n",
      "\n",
      "Loading required package: tidyr\n",
      "\n",
      "Loading required package: magrittr\n",
      "\n",
      "\n",
      "Attaching package: 'magrittr'\n",
      "\n",
      "\n",
      "The following object is masked from 'package:tidyr':\n",
      "\n",
      "    extract\n",
      "\n",
      "\n",
      "Loading required package: stringr\n",
      "\n",
      "Loading required package: readr\n",
      "\n",
      "Loading required package: nortest\n",
      "\n",
      "Warning message:\n",
      "\"package 'nortest' was built under R version 4.0.3\"\n",
      "Loading required package: epiDisplay\n",
      "\n",
      "Warning message:\n",
      "\"package 'epiDisplay' was built under R version 4.0.3\"\n",
      "Loading required package: foreign\n",
      "\n",
      "Loading required package: survival\n",
      "\n",
      "\n",
      "Attaching package: 'survival'\n",
      "\n",
      "\n",
      "The following object is masked from 'package:caret':\n",
      "\n",
      "    cluster\n",
      "\n",
      "\n",
      "Loading required package: MASS\n",
      "\n",
      "\n",
      "Attaching package: 'MASS'\n",
      "\n",
      "\n",
      "The following object is masked from 'package:dplyr':\n",
      "\n",
      "    select\n",
      "\n",
      "\n",
      "Loading required package: nnet\n",
      "\n",
      "\n",
      "Attaching package: 'epiDisplay'\n",
      "\n",
      "\n",
      "The following object is masked from 'package:lattice':\n",
      "\n",
      "    dotplot\n",
      "\n",
      "\n",
      "The following object is masked from 'package:ggplot2':\n",
      "\n",
      "    alpha\n",
      "\n",
      "\n",
      "Loading required package: corrplot\n",
      "\n",
      "Warning message:\n",
      "\"package 'corrplot' was built under R version 4.0.3\"\n",
      "corrplot 0.84 loaded\n",
      "\n",
      "\n",
      "Attaching package: 'corrplot'\n",
      "\n",
      "\n",
      "The following object is masked from 'package:pls':\n",
      "\n",
      "    corrplot\n",
      "\n",
      "\n",
      "Loading required package: RColorBrewer\n",
      "\n",
      "Loading required package: bestNormalize\n",
      "\n",
      "Warning message:\n",
      "\"package 'bestNormalize' was built under R version 4.0.3\"\n",
      "\n",
      "Attaching package: 'bestNormalize'\n",
      "\n",
      "\n",
      "The following object is masked from 'package:MASS':\n",
      "\n",
      "    boxcox\n",
      "\n",
      "\n"
     ]
    },
    {
     "data": {
      "text/html": [
       "<style>\n",
       ".dl-inline {width: auto; margin:0; padding: 0}\n",
       ".dl-inline>dt, .dl-inline>dd {float: none; width: auto; display: inline-block}\n",
       ".dl-inline>dt::after {content: \":\\0020\"; padding-right: .5ex}\n",
       ".dl-inline>dt:not(:first-of-type) {padding-left: .5ex}\n",
       "</style><dl class=dl-inline><dt>ggplot2</dt><dd>TRUE</dd><dt>plyr</dt><dd>TRUE</dd><dt>mlbench</dt><dd>TRUE</dd><dt>e1071</dt><dd>TRUE</dd><dt>dplyr</dt><dd>TRUE</dd><dt>caret</dt><dd>TRUE</dd><dt>pls</dt><dd>TRUE</dd><dt>lars</dt><dd>TRUE</dd><dt>elasticnet</dt><dd>TRUE</dd><dt>AppliedPredictiveModeling</dt><dd>TRUE</dd><dt>tidyr</dt><dd>TRUE</dd><dt>magrittr</dt><dd>TRUE</dd><dt>stringr</dt><dd>TRUE</dd><dt>readr</dt><dd>TRUE</dd><dt>nortest</dt><dd>TRUE</dd><dt>epiDisplay</dt><dd>TRUE</dd><dt>corrplot</dt><dd>TRUE</dd><dt>RColorBrewer</dt><dd>TRUE</dd><dt>bestNormalize</dt><dd>TRUE</dd></dl>\n"
      ],
      "text/latex": [
       "\\begin{description*}\n",
       "\\item[ggplot2] TRUE\n",
       "\\item[plyr] TRUE\n",
       "\\item[mlbench] TRUE\n",
       "\\item[e1071] TRUE\n",
       "\\item[dplyr] TRUE\n",
       "\\item[caret] TRUE\n",
       "\\item[pls] TRUE\n",
       "\\item[lars] TRUE\n",
       "\\item[elasticnet] TRUE\n",
       "\\item[AppliedPredictiveModeling] TRUE\n",
       "\\item[tidyr] TRUE\n",
       "\\item[magrittr] TRUE\n",
       "\\item[stringr] TRUE\n",
       "\\item[readr] TRUE\n",
       "\\item[nortest] TRUE\n",
       "\\item[epiDisplay] TRUE\n",
       "\\item[corrplot] TRUE\n",
       "\\item[RColorBrewer] TRUE\n",
       "\\item[bestNormalize] TRUE\n",
       "\\end{description*}\n"
      ],
      "text/markdown": [
       "ggplot2\n",
       ":   TRUEplyr\n",
       ":   TRUEmlbench\n",
       ":   TRUEe1071\n",
       ":   TRUEdplyr\n",
       ":   TRUEcaret\n",
       ":   TRUEpls\n",
       ":   TRUElars\n",
       ":   TRUEelasticnet\n",
       ":   TRUEAppliedPredictiveModeling\n",
       ":   TRUEtidyr\n",
       ":   TRUEmagrittr\n",
       ":   TRUEstringr\n",
       ":   TRUEreadr\n",
       ":   TRUEnortest\n",
       ":   TRUEepiDisplay\n",
       ":   TRUEcorrplot\n",
       ":   TRUERColorBrewer\n",
       ":   TRUEbestNormalize\n",
       ":   TRUE\n",
       "\n"
      ],
      "text/plain": [
       "                  ggplot2                      plyr                   mlbench \n",
       "                     TRUE                      TRUE                      TRUE \n",
       "                    e1071                     dplyr                     caret \n",
       "                     TRUE                      TRUE                      TRUE \n",
       "                      pls                      lars                elasticnet \n",
       "                     TRUE                      TRUE                      TRUE \n",
       "AppliedPredictiveModeling                     tidyr                  magrittr \n",
       "                     TRUE                      TRUE                      TRUE \n",
       "                  stringr                     readr                   nortest \n",
       "                     TRUE                      TRUE                      TRUE \n",
       "               epiDisplay                  corrplot              RColorBrewer \n",
       "                     TRUE                      TRUE                      TRUE \n",
       "            bestNormalize \n",
       "                     TRUE "
      ]
     },
     "metadata": {},
     "output_type": "display_data"
    }
   ],
   "source": [
    "# ipak function: install and load multiple R packages.\n",
    "# check to see if packages are installed. Install them if they are not, then load them into the R session.\n",
    "ipak <- function(pkg){\n",
    "    new.pkg <- pkg[!(pkg %in% installed.packages()[, \"Package\"])]\n",
    "    if (length(new.pkg)) \n",
    "        install.packages(new.pkg, dependencies = TRUE)\n",
    "    sapply(pkg, require, character.only = TRUE)\n",
    "}\n",
    "\n",
    "# usage\n",
    "packages <- c(\n",
    "  \"ggplot2\", \n",
    "  \"plyr\", \n",
    "  \"mlbench\", \n",
    "  \"e1071\", \n",
    "  \"dplyr\", \n",
    "  \"caret\", #  Contains functions to streamline the model training process for complex regression and classification problems\n",
    "  \"pls\", # For Partial Least Squares \n",
    "  \"lars\", # For Penalized Models\n",
    "  \"elasticnet\", # For Penalized Models\n",
    "  \"AppliedPredictiveModeling\",\n",
    "  \"tidyr\",\n",
    "  \"magrittr\",\n",
    "  \"stringr\",\n",
    "  \"readr\",\n",
    "  \"nortest\",\n",
    "  \"epiDisplay\",\n",
    "  \"corrplot\",\n",
    "  \"RColorBrewer\", \n",
    "  \"bestNormalize\"\n",
    ")\n",
    "ipak(packages)"
   ]
  },
  {
   "cell_type": "markdown",
   "metadata": {
    "id": "bDiPAe3Hk9ZV"
   },
   "source": [
    "## Dataset Import\n",
    "Dataset found at: https://www.kaggle.com/new-york-city/nyc-property-sales#\n",
    "\n",
    "\n",
    "We use a a try-catch block in an attempt to find the NYC Rolling Sales data locally; if it doesn't exist, then read it from the hardcoded Google Drive link."
   ]
  },
  {
   "cell_type": "markdown",
   "metadata": {},
   "source": [
    "**Note** We used a variety of both manual and automated methods to massage the data before it hits the R pipeline:\n",
    "\n",
    "* We used a web-facing API called [Geocod.io](https://www.geocod.io/) to add associated latitude/longitudal data for potential use in the model.\n",
    "\n",
    "* In addition, we used a PowerShell Script `Process-Address.ps1` in an attempt to strip house numbers from the address in an attempt to categorize records by street name (e.g., properties on Broadway, 5th Avenue, 1st Street, etc.)\n",
    "\n",
    "**These changes resulted in our using a new dataset called `nyc-rolling-sales-latlong-streets.csv`, which the project will attempt to source locally (if it exists) or via an open endpoint on the Team's Google Drive.**"
   ]
  },
  {
   "cell_type": "code",
   "execution_count": 2,
   "metadata": {
    "colab": {
     "base_uri": "https://localhost:8080/",
     "height": 366
    },
    "executionInfo": {
     "elapsed": 7069,
     "status": "ok",
     "timestamp": 1605136503282,
     "user": {
      "displayName": "J Baker",
      "photoUrl": "https://lh6.googleusercontent.com/-0rPdDXaIpZM/AAAAAAAAAAI/AAAAAAAAcZM/hA3v4CJXYgc/s64/photo.jpg",
      "userId": "08735636572862390699"
     },
     "user_tz": 300
    },
    "id": "PYQ57dgIk9ZW",
    "outputId": "04ad6e7f-2735-42da-f3ec-c27bd9253e1e"
   },
   "outputs": [
    {
     "name": "stderr",
     "output_type": "stream",
     "text": [
      "Attempting to read `nyc-rolling-sales-latlong-streets.csv` locally...\n",
      "\n"
     ]
    },
    {
     "name": "stdout",
     "output_type": "stream",
     "text": [
      "Number of Rows:  84548 \n",
      "Number of Cols:  25 \n",
      "Showing first 2 rows..."
     ]
    },
    {
     "data": {
      "text/html": [
       "<table>\n",
       "<caption>A data.frame: 2 × 25</caption>\n",
       "<thead>\n",
       "\t<tr><th></th><th scope=col>NUM</th><th scope=col>BOROUGH</th><th scope=col>NEIGHBORHOOD</th><th scope=col>BUILDING.CLASS.CATEGORY</th><th scope=col>TAX.CLASS.AT.PRESENT</th><th scope=col>BLOCK</th><th scope=col>LOT</th><th scope=col>EASE.MENT</th><th scope=col>BUILDING.CLASS.AT.PRESENT</th><th scope=col>ADDRESS</th><th scope=col>...</th><th scope=col>RESIDENTIAL.UNITS</th><th scope=col>COMMERCIAL.UNITS</th><th scope=col>TOTAL.UNITS</th><th scope=col>LAND.SQUARE.FEET</th><th scope=col>GROSS.SQUARE.FEET</th><th scope=col>YEAR.BUILT</th><th scope=col>TAX.CLASS.AT.TIME.OF.SALE</th><th scope=col>BUILDING.CLASS.AT.TIME.OF.SALE</th><th scope=col>SALE.PRICE</th><th scope=col>SALE.DATE</th></tr>\n",
       "\t<tr><th></th><th scope=col>&lt;int&gt;</th><th scope=col>&lt;int&gt;</th><th scope=col>&lt;chr&gt;</th><th scope=col>&lt;chr&gt;</th><th scope=col>&lt;chr&gt;</th><th scope=col>&lt;int&gt;</th><th scope=col>&lt;int&gt;</th><th scope=col>&lt;lgl&gt;</th><th scope=col>&lt;chr&gt;</th><th scope=col>&lt;chr&gt;</th><th scope=col>...</th><th scope=col>&lt;int&gt;</th><th scope=col>&lt;int&gt;</th><th scope=col>&lt;int&gt;</th><th scope=col>&lt;chr&gt;</th><th scope=col>&lt;chr&gt;</th><th scope=col>&lt;int&gt;</th><th scope=col>&lt;int&gt;</th><th scope=col>&lt;chr&gt;</th><th scope=col>&lt;chr&gt;</th><th scope=col>&lt;chr&gt;</th></tr>\n",
       "</thead>\n",
       "<tbody>\n",
       "\t<tr><th scope=row>1</th><td>4</td><td>1</td><td>ALPHABET CITY</td><td>07 RENTALS - WALKUP APARTMENTS             </td><td>2A</td><td>392</td><td> 6</td><td>NA</td><td>C2</td><td>153 AVENUE B         </td><td>...</td><td> 5</td><td>0</td><td> 5</td><td>1633</td><td>6440 </td><td>1900</td><td>2</td><td>C2</td><td>6625000</td><td>7/19/2017 0:00 </td></tr>\n",
       "\t<tr><th scope=row>2</th><td>5</td><td>1</td><td>ALPHABET CITY</td><td>07 RENTALS - WALKUP APARTMENTS             </td><td>2 </td><td>399</td><td>26</td><td>NA</td><td>C7</td><td>234 EAST 4TH   STREET</td><td>...</td><td>28</td><td>3</td><td>31</td><td>4616</td><td>18690</td><td>1900</td><td>2</td><td>C7</td><td> -     </td><td>12/14/2016 0:00</td></tr>\n",
       "</tbody>\n",
       "</table>\n"
      ],
      "text/latex": [
       "A data.frame: 2 × 25\n",
       "\\begin{tabular}{r|lllllllllllllllllllll}\n",
       "  & NUM & BOROUGH & NEIGHBORHOOD & BUILDING.CLASS.CATEGORY & TAX.CLASS.AT.PRESENT & BLOCK & LOT & EASE.MENT & BUILDING.CLASS.AT.PRESENT & ADDRESS & ... & RESIDENTIAL.UNITS & COMMERCIAL.UNITS & TOTAL.UNITS & LAND.SQUARE.FEET & GROSS.SQUARE.FEET & YEAR.BUILT & TAX.CLASS.AT.TIME.OF.SALE & BUILDING.CLASS.AT.TIME.OF.SALE & SALE.PRICE & SALE.DATE\\\\\n",
       "  & <int> & <int> & <chr> & <chr> & <chr> & <int> & <int> & <lgl> & <chr> & <chr> & ... & <int> & <int> & <int> & <chr> & <chr> & <int> & <int> & <chr> & <chr> & <chr>\\\\\n",
       "\\hline\n",
       "\t1 & 4 & 1 & ALPHABET CITY & 07 RENTALS - WALKUP APARTMENTS              & 2A & 392 &  6 & NA & C2 & 153 AVENUE B          & ... &  5 & 0 &  5 & 1633 & 6440  & 1900 & 2 & C2 & 6625000 & 7/19/2017 0:00 \\\\\n",
       "\t2 & 5 & 1 & ALPHABET CITY & 07 RENTALS - WALKUP APARTMENTS              & 2  & 399 & 26 & NA & C7 & 234 EAST 4TH   STREET & ... & 28 & 3 & 31 & 4616 & 18690 & 1900 & 2 & C7 &  -      & 12/14/2016 0:00\\\\\n",
       "\\end{tabular}\n"
      ],
      "text/markdown": [
       "\n",
       "A data.frame: 2 × 25\n",
       "\n",
       "| <!--/--> | NUM &lt;int&gt; | BOROUGH &lt;int&gt; | NEIGHBORHOOD &lt;chr&gt; | BUILDING.CLASS.CATEGORY &lt;chr&gt; | TAX.CLASS.AT.PRESENT &lt;chr&gt; | BLOCK &lt;int&gt; | LOT &lt;int&gt; | EASE.MENT &lt;lgl&gt; | BUILDING.CLASS.AT.PRESENT &lt;chr&gt; | ADDRESS &lt;chr&gt; | ... ... | RESIDENTIAL.UNITS &lt;int&gt; | COMMERCIAL.UNITS &lt;int&gt; | TOTAL.UNITS &lt;int&gt; | LAND.SQUARE.FEET &lt;chr&gt; | GROSS.SQUARE.FEET &lt;chr&gt; | YEAR.BUILT &lt;int&gt; | TAX.CLASS.AT.TIME.OF.SALE &lt;int&gt; | BUILDING.CLASS.AT.TIME.OF.SALE &lt;chr&gt; | SALE.PRICE &lt;chr&gt; | SALE.DATE &lt;chr&gt; |\n",
       "|---|---|---|---|---|---|---|---|---|---|---|---|---|---|---|---|---|---|---|---|---|---|\n",
       "| 1 | 4 | 1 | ALPHABET CITY | 07 RENTALS - WALKUP APARTMENTS              | 2A | 392 |  6 | NA | C2 | 153 AVENUE B          | ... |  5 | 0 |  5 | 1633 | 6440  | 1900 | 2 | C2 | 6625000 | 7/19/2017 0:00  |\n",
       "| 2 | 5 | 1 | ALPHABET CITY | 07 RENTALS - WALKUP APARTMENTS              | 2  | 399 | 26 | NA | C7 | 234 EAST 4TH   STREET | ... | 28 | 3 | 31 | 4616 | 18690 | 1900 | 2 | C7 |  -      | 12/14/2016 0:00 |\n",
       "\n"
      ],
      "text/plain": [
       "  NUM BOROUGH NEIGHBORHOOD  BUILDING.CLASS.CATEGORY                    \n",
       "1 4   1       ALPHABET CITY 07 RENTALS - WALKUP APARTMENTS             \n",
       "2 5   1       ALPHABET CITY 07 RENTALS - WALKUP APARTMENTS             \n",
       "  TAX.CLASS.AT.PRESENT BLOCK LOT EASE.MENT BUILDING.CLASS.AT.PRESENT\n",
       "1 2A                   392    6  NA        C2                       \n",
       "2 2                    399   26  NA        C7                       \n",
       "  ADDRESS               ... RESIDENTIAL.UNITS COMMERCIAL.UNITS TOTAL.UNITS\n",
       "1 153 AVENUE B          ...  5                0                 5         \n",
       "2 234 EAST 4TH   STREET ... 28                3                31         \n",
       "  LAND.SQUARE.FEET GROSS.SQUARE.FEET YEAR.BUILT TAX.CLASS.AT.TIME.OF.SALE\n",
       "1 1633             6440              1900       2                        \n",
       "2 4616             18690             1900       2                        \n",
       "  BUILDING.CLASS.AT.TIME.OF.SALE SALE.PRICE SALE.DATE      \n",
       "1 C2                             6625000    7/19/2017 0:00 \n",
       "2 C7                              -         12/14/2016 0:00"
      ]
     },
     "metadata": {},
     "output_type": "display_data"
    }
   ],
   "source": [
    "# The filepath on Google Drive.\n",
    "drive.fileID <- \"1E8NdpOww8IKdN1Kw0NcDPQxycU__hsVu\" \n",
    "drive.filePath <- sprintf(\"https://drive.google.com/uc?id=%s\",drive.fileID)\n",
    "file.name <- \"nyc-rolling-sales-latlong-streets.csv\"\n",
    "\n",
    "# This is a try-catch block in an attempt to find the NYC Rolling Sales data\n",
    "# locally; if it doesn't exist, then read it from the hardcoded Google Drive link.\n",
    "nyc.data <- tryCatch(\n",
    "    # Try\n",
    "    {\n",
    "      message(sprintf(\"Attempting to read `%s` locally...\",file.name))\n",
    "      read.csv(file.name)\n",
    "    },\n",
    "    # Catch\n",
    "    error = function(cond) {\n",
    "      message(sprintf(\"Will use Google Drive Version instead at %s...\", drive.filePath))\n",
    "      return( read.csv(drive.filePath) )\n",
    "    },\n",
    "    # Finally\n",
    "    finally = function(cond) {\n",
    "      return(message(\"Unknown error occured!\"))\n",
    "    }\n",
    ")\n",
    "\n",
    "cat(\"Number of Rows: \",nrow(nyc.data), \"\\nNumber of Cols: \", ncol(nyc.data),\"\\nShowing first 2 rows...\")\n",
    "head(nyc.data, 2)"
   ]
  },
  {
   "cell_type": "markdown",
   "metadata": {
    "id": "4eWXG6eJk9Za"
   },
   "source": [
    "## Data Dictionary\n",
    "\n",
    "https://www1.nyc.gov/assets/finance/downloads/pdf/07pdf/glossary_rsf071607.pdf"
   ]
  },
  {
   "cell_type": "markdown",
   "metadata": {
    "id": "mgiT2dSSQB0g"
   },
   "source": [
    "*James B.:* I used PowerShell to extract/sort the column names; and then I folded a few of them together."
   ]
  },
  {
   "cell_type": "markdown",
   "metadata": {
    "id": "i0vkBfqgk9Zd"
   },
   "source": [
    "| Column   Name                                                       | Description                                                                                                                                                                                                                                                                                                                                                                                                                                                                                                                                                                                                                                                                                                                                                                                                                                                                                                                                                                                                                                                   |\n",
    "|---------------------------------------------------------------------|---------------------------------------------------------------------------------------------------------------------------------------------------------------------------------------------------------------------------------------------------------------------------------------------------------------------------------------------------------------------------------------------------------------------------------------------------------------------------------------------------------------------------------------------------------------------------------------------------------------------------------------------------------------------------------------------------------------------------------------------------------------------------------------------------------------------------------------------------------------------------------------------------------------------------------------------------------------------------------------------------------------------------------------------------------------|\n",
    "| `ADDRESS`                                                           |                                                                                                                                                                                                                                                                                                                                                                                                                                                                                                                                                                                                                                                                                                                                                                                                                                                                                                                                                                                                                                                               |\n",
    "| `APARTMENT   NUMBER`                                                |                                                                                                                                                                                                                                                                                                                                                                                                                                                                                                                                                                                                                                                                                                                                                                                                                                                                                                                                                                                                                                                               |\n",
    "| `BLOCK`                                                             | The block number (up to 5   digits)                                                                                                                                                                                                                                                                                                                                                                                                                                                                                                                                                                                                                                                                                                                                                                                                                                                                                                                                                                                                                           |\n",
    "| `BOROUGH`                                                           | A digit code for the borough the   property is located in.      <br>      In order, these are:      <br>(1) Manhattan,      <br>(2) Bronx,       <br>(3) Brooklyn,       <br>(4) Queens, and       <br>(5) Staten Island.                                                                                                                                                                                                                                                                                                                                                                                                                                                                                                                                                                                                                                                                                                                                                                                                                                     |\n",
    "| `BUILDING   CLASS`<br>      (`AT PRESENT` and<br>`AT TIME OF SALE`) | Refer to code here: <br>   https://www1.nyc.gov/assets/finance/jump/hlpbldgcode.html                                                                                                                                                                                                                                                                                                                                                                                                                                                                                                                                                                                                                                                                                                                                                                                                                                                                                                                                                                          |\n",
    "| `BUILDING   CLASS CATEGORY`                                         | Refer to code here: <br>   https://www1.nyc.gov/assets/finance/jump/hlpbldgcode.html                                                                                                                                                                                                                                                                                                                                                                                                                                                                                                                                                                                                                                                                                                                                                                                                                                                                                                                                                                          |\n",
    "| `COMMERCIAL   UNITS`                                                |                                                                                                                                                                                                                                                                                                                                                                                                                                                                                                                                                                                                                                                                                                                                                                                                                                                                                                                                                                                                                                                               |\n",
    "| `EASE-MENT`                                                         | NO DATA ENTERED                                                                                                                                                                                                                                                                                                                                                                                                                                                                                                                                                                                                                                                                                                                                                                                                                                                                                                                                                                                                                                               |\n",
    "| `GROSS   SQUARE FEET`                                               |                                                                                                                                                                                                                                                                                                                                                                                                                                                                                                                                                                                                                                                                                                                                                                                                                                                                                                                                                                                                                                                               |\n",
    "| `H1`                                                                |                                                                                                                                                                                                                                                                                                                                                                                                                                                                                                                                                                                                                                                                                                                                                                                                                                                                                                                                                                                                                                                               |\n",
    "| `LAND   SQUARE FEET`                                                |                                                                                                                                                                                                                                                                                                                                                                                                                                                                                                                                                                                                                                                                                                                                                                                                                                                                                                                                                                                                                                                               |\n",
    "| `LOT`                                                               | The lot number (up to 4 digits)                                                                                                                                                                                                                                                                                                                                                                                                                                                                                                                                                                                                                                                                                                                                                                                                                                                                                                                                                                                                                               |\n",
    "| `NEIGHBORHOOD`                                                      |                                                                                                                                                                                                                                                                                                                                                                                                                                                                                                                                                                                                                                                                                                                                                                                                                                                                                                                                                                                                                                                               |\n",
    "| `RESIDENTIAL   UNITS`                                               | The number of houses/apartments   intended for use as a place of residence at the address.      <br> (https://www.lawinsider.com/dictionary/residential-unit)                                                                                                                                                                                                                                                                                                                                                                                                                                                                                                                                                                                                                                                                                                                                                                                                                                                                                                 |\n",
    "| `SALE   DATE`                                                       |                                                                                                                                                                                                                                                                                                                                                                                                                                                                                                                                                                                                                                                                                                                                                                                                                                                                                                                                                                                                                                                               |\n",
    "| `SALE   PRICE`                                                      |                                                                                                                                                                                                                                                                                                                                                                                                                                                                                                                                                                                                                                                                                                                                                                                                                                                                                                                                                                                                                                                               |\n",
    "| `TAX   CLASS`<br>(`AT PRESENT` and<br>`AT SALE`)                    | Property in NYC is divided into   4 classes:      <br>      Class 1: Most residential property of up to three units<br>(family   homes and small stores or offices with one or two apartments attached),   <br>and most condominiums that are not more than three stories.      <br><br>      Class 2: All other property that is not in Class 1 and is primarily   residential<br>(rentals, cooperatives and condominiums). Class 2   includes:      <br>   • Sub-Class 2a  (4 -    6 unit rental building);      <br>   • Sub-Class 2b  (7 - 10 unit rental building);      <br>   • Sub-Class 2c  (2 - 10 unit cooperative or condominium);   and      <br>   • Class 2  (11 units or more).      <br><br>      Class 3: Most utility property.      <br><br>      Class 4: All commercial and industrial properties, such as office,   retail,<br> factory buildings and all other properties not included in   tax classes 1, 2 or 3.      <br><br>      SOURCE:   https://www1.nyc.gov/site/finance/taxes/definitions-of-property-assessment-terms.page |\n",
    "| `TOTAL   UNITS`                                                     |                                                                                                                                                                                                                                                                                                                                                                                                                                                                                                                                                                                                                                                                                                                                                                                                                                                                                                                                                                                                                                                               |\n",
    "| `YEAR   BUILT`                                                      | The 5-digit zip code of the   address                                                                                                                                                                                                                                                                                                                                                                                                                                                                                                                                                                                                                                                                                                                                                                                                                                                                                                                                                                                                                         |\n",
    "| `ZIP   CODE`                                                        |                                                                                                                                                                                                                                                                                                                                                                                                                                                                                                                                                                                                                                                                                                                                                                                                                                                                                                                                                                                                                                                               |"
   ]
  },
  {
   "cell_type": "markdown",
   "metadata": {
    "id": "8us7lG8gMRNQ"
   },
   "source": [
    "# Data Processing"
   ]
  },
  {
   "cell_type": "markdown",
   "metadata": {
    "id": "68QLTxGT8So8"
   },
   "source": [
    "## Initial Exploration"
   ]
  },
  {
   "cell_type": "markdown",
   "metadata": {},
   "source": [
    "First, we examine the head of the data to get an idea of the structure."
   ]
  },
  {
   "cell_type": "code",
   "execution_count": 3,
   "metadata": {},
   "outputs": [
    {
     "data": {
      "text/html": [
       "<table>\n",
       "<caption>A data.frame: 2 × 25</caption>\n",
       "<thead>\n",
       "\t<tr><th></th><th scope=col>NUM</th><th scope=col>BOROUGH</th><th scope=col>NEIGHBORHOOD</th><th scope=col>BUILDING.CLASS.CATEGORY</th><th scope=col>TAX.CLASS.AT.PRESENT</th><th scope=col>BLOCK</th><th scope=col>LOT</th><th scope=col>EASE.MENT</th><th scope=col>BUILDING.CLASS.AT.PRESENT</th><th scope=col>ADDRESS</th><th scope=col>...</th><th scope=col>RESIDENTIAL.UNITS</th><th scope=col>COMMERCIAL.UNITS</th><th scope=col>TOTAL.UNITS</th><th scope=col>LAND.SQUARE.FEET</th><th scope=col>GROSS.SQUARE.FEET</th><th scope=col>YEAR.BUILT</th><th scope=col>TAX.CLASS.AT.TIME.OF.SALE</th><th scope=col>BUILDING.CLASS.AT.TIME.OF.SALE</th><th scope=col>SALE.PRICE</th><th scope=col>SALE.DATE</th></tr>\n",
       "\t<tr><th></th><th scope=col>&lt;int&gt;</th><th scope=col>&lt;int&gt;</th><th scope=col>&lt;chr&gt;</th><th scope=col>&lt;chr&gt;</th><th scope=col>&lt;chr&gt;</th><th scope=col>&lt;int&gt;</th><th scope=col>&lt;int&gt;</th><th scope=col>&lt;lgl&gt;</th><th scope=col>&lt;chr&gt;</th><th scope=col>&lt;chr&gt;</th><th scope=col>...</th><th scope=col>&lt;int&gt;</th><th scope=col>&lt;int&gt;</th><th scope=col>&lt;int&gt;</th><th scope=col>&lt;chr&gt;</th><th scope=col>&lt;chr&gt;</th><th scope=col>&lt;int&gt;</th><th scope=col>&lt;int&gt;</th><th scope=col>&lt;chr&gt;</th><th scope=col>&lt;chr&gt;</th><th scope=col>&lt;chr&gt;</th></tr>\n",
       "</thead>\n",
       "<tbody>\n",
       "\t<tr><th scope=row>1</th><td>4</td><td>1</td><td>ALPHABET CITY</td><td>07 RENTALS - WALKUP APARTMENTS             </td><td>2A</td><td>392</td><td> 6</td><td>NA</td><td>C2</td><td>153 AVENUE B         </td><td>...</td><td> 5</td><td>0</td><td> 5</td><td>1633</td><td>6440 </td><td>1900</td><td>2</td><td>C2</td><td>6625000</td><td>7/19/2017 0:00 </td></tr>\n",
       "\t<tr><th scope=row>2</th><td>5</td><td>1</td><td>ALPHABET CITY</td><td>07 RENTALS - WALKUP APARTMENTS             </td><td>2 </td><td>399</td><td>26</td><td>NA</td><td>C7</td><td>234 EAST 4TH   STREET</td><td>...</td><td>28</td><td>3</td><td>31</td><td>4616</td><td>18690</td><td>1900</td><td>2</td><td>C7</td><td> -     </td><td>12/14/2016 0:00</td></tr>\n",
       "</tbody>\n",
       "</table>\n"
      ],
      "text/latex": [
       "A data.frame: 2 × 25\n",
       "\\begin{tabular}{r|lllllllllllllllllllll}\n",
       "  & NUM & BOROUGH & NEIGHBORHOOD & BUILDING.CLASS.CATEGORY & TAX.CLASS.AT.PRESENT & BLOCK & LOT & EASE.MENT & BUILDING.CLASS.AT.PRESENT & ADDRESS & ... & RESIDENTIAL.UNITS & COMMERCIAL.UNITS & TOTAL.UNITS & LAND.SQUARE.FEET & GROSS.SQUARE.FEET & YEAR.BUILT & TAX.CLASS.AT.TIME.OF.SALE & BUILDING.CLASS.AT.TIME.OF.SALE & SALE.PRICE & SALE.DATE\\\\\n",
       "  & <int> & <int> & <chr> & <chr> & <chr> & <int> & <int> & <lgl> & <chr> & <chr> & ... & <int> & <int> & <int> & <chr> & <chr> & <int> & <int> & <chr> & <chr> & <chr>\\\\\n",
       "\\hline\n",
       "\t1 & 4 & 1 & ALPHABET CITY & 07 RENTALS - WALKUP APARTMENTS              & 2A & 392 &  6 & NA & C2 & 153 AVENUE B          & ... &  5 & 0 &  5 & 1633 & 6440  & 1900 & 2 & C2 & 6625000 & 7/19/2017 0:00 \\\\\n",
       "\t2 & 5 & 1 & ALPHABET CITY & 07 RENTALS - WALKUP APARTMENTS              & 2  & 399 & 26 & NA & C7 & 234 EAST 4TH   STREET & ... & 28 & 3 & 31 & 4616 & 18690 & 1900 & 2 & C7 &  -      & 12/14/2016 0:00\\\\\n",
       "\\end{tabular}\n"
      ],
      "text/markdown": [
       "\n",
       "A data.frame: 2 × 25\n",
       "\n",
       "| <!--/--> | NUM &lt;int&gt; | BOROUGH &lt;int&gt; | NEIGHBORHOOD &lt;chr&gt; | BUILDING.CLASS.CATEGORY &lt;chr&gt; | TAX.CLASS.AT.PRESENT &lt;chr&gt; | BLOCK &lt;int&gt; | LOT &lt;int&gt; | EASE.MENT &lt;lgl&gt; | BUILDING.CLASS.AT.PRESENT &lt;chr&gt; | ADDRESS &lt;chr&gt; | ... ... | RESIDENTIAL.UNITS &lt;int&gt; | COMMERCIAL.UNITS &lt;int&gt; | TOTAL.UNITS &lt;int&gt; | LAND.SQUARE.FEET &lt;chr&gt; | GROSS.SQUARE.FEET &lt;chr&gt; | YEAR.BUILT &lt;int&gt; | TAX.CLASS.AT.TIME.OF.SALE &lt;int&gt; | BUILDING.CLASS.AT.TIME.OF.SALE &lt;chr&gt; | SALE.PRICE &lt;chr&gt; | SALE.DATE &lt;chr&gt; |\n",
       "|---|---|---|---|---|---|---|---|---|---|---|---|---|---|---|---|---|---|---|---|---|---|\n",
       "| 1 | 4 | 1 | ALPHABET CITY | 07 RENTALS - WALKUP APARTMENTS              | 2A | 392 |  6 | NA | C2 | 153 AVENUE B          | ... |  5 | 0 |  5 | 1633 | 6440  | 1900 | 2 | C2 | 6625000 | 7/19/2017 0:00  |\n",
       "| 2 | 5 | 1 | ALPHABET CITY | 07 RENTALS - WALKUP APARTMENTS              | 2  | 399 | 26 | NA | C7 | 234 EAST 4TH   STREET | ... | 28 | 3 | 31 | 4616 | 18690 | 1900 | 2 | C7 |  -      | 12/14/2016 0:00 |\n",
       "\n"
      ],
      "text/plain": [
       "  NUM BOROUGH NEIGHBORHOOD  BUILDING.CLASS.CATEGORY                    \n",
       "1 4   1       ALPHABET CITY 07 RENTALS - WALKUP APARTMENTS             \n",
       "2 5   1       ALPHABET CITY 07 RENTALS - WALKUP APARTMENTS             \n",
       "  TAX.CLASS.AT.PRESENT BLOCK LOT EASE.MENT BUILDING.CLASS.AT.PRESENT\n",
       "1 2A                   392    6  NA        C2                       \n",
       "2 2                    399   26  NA        C7                       \n",
       "  ADDRESS               ... RESIDENTIAL.UNITS COMMERCIAL.UNITS TOTAL.UNITS\n",
       "1 153 AVENUE B          ...  5                0                 5         \n",
       "2 234 EAST 4TH   STREET ... 28                3                31         \n",
       "  LAND.SQUARE.FEET GROSS.SQUARE.FEET YEAR.BUILT TAX.CLASS.AT.TIME.OF.SALE\n",
       "1 1633             6440              1900       2                        \n",
       "2 4616             18690             1900       2                        \n",
       "  BUILDING.CLASS.AT.TIME.OF.SALE SALE.PRICE SALE.DATE      \n",
       "1 C2                             6625000    7/19/2017 0:00 \n",
       "2 C7                              -         12/14/2016 0:00"
      ]
     },
     "metadata": {},
     "output_type": "display_data"
    }
   ],
   "source": [
    "# First, we examine the head of the data to get an idea of the structure.\n",
    "head(nyc.data,2)\n",
    "\n",
    "# Make all columns lowercase for consistency's sake\n",
    "colnames(nyc.data) %<>% str_replace_all(\"\\\\s\", \"_\") %>% tolower()"
   ]
  },
  {
   "cell_type": "markdown",
   "metadata": {},
   "source": [
    "To further supplement information gathering, we observe how many predictors there are."
   ]
  },
  {
   "cell_type": "code",
   "execution_count": 4,
   "metadata": {},
   "outputs": [],
   "source": [
    "# Helper function to pretty print column names for a dataframe\n",
    "prettyPrintCols <- function(data.frame) {\n",
    "     print(colnames(data.frame) %<>% str_replace_all(\"\\\\s\", \"_\") %>% tolower())\n",
    "}"
   ]
  },
  {
   "cell_type": "code",
   "execution_count": 5,
   "metadata": {
    "colab": {
     "base_uri": "https://localhost:8080/",
     "height": 867
    },
    "executionInfo": {
     "elapsed": 7576,
     "status": "ok",
     "timestamp": 1605136503838,
     "user": {
      "displayName": "J Baker",
      "photoUrl": "https://lh6.googleusercontent.com/-0rPdDXaIpZM/AAAAAAAAAAI/AAAAAAAAcZM/hA3v4CJXYgc/s64/photo.jpg",
      "userId": "08735636572862390699"
     },
     "user_tz": 300
    },
    "id": "y1DYIgsq8OPi",
    "outputId": "9e5f197a-cc05-40d2-85e5-45be14b8892f"
   },
   "outputs": [
    {
     "data": {
      "text/html": [
       "'There are 25 cols in nyc.data:'"
      ],
      "text/latex": [
       "'There are 25 cols in nyc.data:'"
      ],
      "text/markdown": [
       "'There are 25 cols in nyc.data:'"
      ],
      "text/plain": [
       "[1] \"There are 25 cols in nyc.data:\""
      ]
     },
     "metadata": {},
     "output_type": "display_data"
    },
    {
     "name": "stdout",
     "output_type": "stream",
     "text": [
      " [1] \"num\"                            \"borough\"                       \n",
      " [3] \"neighborhood\"                   \"building.class.category\"       \n",
      " [5] \"tax.class.at.present\"           \"block\"                         \n",
      " [7] \"lot\"                            \"ease.ment\"                     \n",
      " [9] \"building.class.at.present\"      \"address\"                       \n",
      "[11] \"street\"                         \"latitude\"                      \n",
      "[13] \"longitude\"                      \"apartment.number\"              \n",
      "[15] \"zip.code\"                       \"residential.units\"             \n",
      "[17] \"commercial.units\"               \"total.units\"                   \n",
      "[19] \"land.square.feet\"               \"gross.square.feet\"             \n",
      "[21] \"year.built\"                     \"tax.class.at.time.of.sale\"     \n",
      "[23] \"building.class.at.time.of.sale\" \"sale.price\"                    \n",
      "[25] \"sale.date\"                     \n"
     ]
    }
   ],
   "source": [
    "# To further supplement information gathering, we observe how many predictors there are.\n",
    "sprintf(\"There are %s cols in nyc.data:\", ncol(nyc.data))\n",
    "prettyPrintCols(nyc.data)"
   ]
  },
  {
   "cell_type": "markdown",
   "metadata": {},
   "source": [
    "Then, we observe the current structure:"
   ]
  },
  {
   "cell_type": "code",
   "execution_count": 6,
   "metadata": {
    "scrolled": true
   },
   "outputs": [
    {
     "name": "stdout",
     "output_type": "stream",
     "text": [
      "'data.frame':\t84548 obs. of  25 variables:\n",
      " $ num                           : int  4 5 6 7 8 9 10 11 12 13 ...\n",
      " $ borough                       : int  1 1 1 1 1 1 1 1 1 1 ...\n",
      " $ neighborhood                  : chr  \"ALPHABET CITY\" \"ALPHABET CITY\" \"ALPHABET CITY\" \"ALPHABET CITY\" ...\n",
      " $ building.class.category       : chr  \"07 RENTALS - WALKUP APARTMENTS             \" \"07 RENTALS - WALKUP APARTMENTS             \" \"07 RENTALS - WALKUP APARTMENTS             \" \"07 RENTALS - WALKUP APARTMENTS             \" ...\n",
      " $ tax.class.at.present          : chr  \"2A\" \"2\" \"2\" \"2B\" ...\n",
      " $ block                         : int  392 399 399 402 404 405 406 407 379 387 ...\n",
      " $ lot                           : int  6 26 39 21 55 16 32 18 34 153 ...\n",
      " $ ease.ment                     : logi  NA NA NA NA NA NA ...\n",
      " $ building.class.at.present     : chr  \"C2\" \"C7\" \"C7\" \"C4\" ...\n",
      " $ address                       : chr  \"153 AVENUE B\" \"234 EAST 4TH   STREET\" \"197 EAST 3RD   STREET\" \"154 EAST 7TH STREET\" ...\n",
      " $ street                        : chr  \"AVENUE B \" \"EAST 4TH STREET \" \"EAST 3RD STREET \" \"EAST 7TH STREET \" ...\n",
      " $ latitude                      : num  NA 40.7 40.7 40.7 40.7 ...\n",
      " $ longitude                     : num  NA -74 -74 -74 -74 ...\n",
      " $ apartment.number              : chr  \" \" \" \" \" \" \" \" ...\n",
      " $ zip.code                      : int  10009 10009 10009 10009 10009 10009 10009 10009 10009 10009 ...\n",
      " $ residential.units             : int  5 28 16 10 6 20 8 44 15 24 ...\n",
      " $ commercial.units              : int  0 3 1 0 0 0 0 2 0 0 ...\n",
      " $ total.units                   : int  5 31 17 10 6 20 8 46 15 24 ...\n",
      " $ land.square.feet              : chr  \"1633\" \"4616\" \"2212\" \"2272\" ...\n",
      " $ gross.square.feet             : chr  \"6440\" \"18690\" \"7803\" \"6794\" ...\n",
      " $ year.built                    : int  1900 1900 1900 1913 1900 1900 1920 1900 1920 1920 ...\n",
      " $ tax.class.at.time.of.sale     : int  2 2 2 2 2 2 2 2 2 2 ...\n",
      " $ building.class.at.time.of.sale: chr  \"C2\" \"C7\" \"C7\" \"C4\" ...\n",
      " $ sale.price                    : chr  \"6625000\" \" -  \" \" -  \" \"3936272\" ...\n",
      " $ sale.date                     : chr  \"7/19/2017 0:00\" \"12/14/2016 0:00\" \"12/9/2016 0:00\" \"9/23/2016 0:00\" ...\n"
     ]
    }
   ],
   "source": [
    "str(nyc.data)"
   ]
  },
  {
   "cell_type": "markdown",
   "metadata": {},
   "source": [
    "Based on manual observation and what we see in the data here, we observe the following:\n",
    "\n",
    "* `ease.ment` is 100% null.\n",
    "* `land.square.feet`, `gross.square.feet`, and `sale.price` are chars when they should be numeric vectors.\n",
    "\n",
    "So, we will clean the data in the next section."
   ]
  },
  {
   "cell_type": "markdown",
   "metadata": {
    "id": "HVHoUDnU8aOy"
   },
   "source": [
    "## Data Cleaning/Transformations in R"
   ]
  },
  {
   "cell_type": "markdown",
   "metadata": {},
   "source": [
    "### Deep Copy\n",
    "\n",
    "To begin, we will no longer use `nyc.data` as the dataset for processing in R; we will use a copy to work over and retain the original."
   ]
  },
  {
   "cell_type": "code",
   "execution_count": 7,
   "metadata": {},
   "outputs": [],
   "source": [
    "# Begin with creating a deep copy of the nyc.data Dataframe for use onwards.\n",
    "\n",
    "df <- nyc.data\n",
    "\n",
    "#TODO: Be sure to split Y from the data BEFORE we boxcox/preprocess.\n",
    "# df <- subset(nyc.data, select = -c(sale.price))\n",
    "# df.y <- nyc.data$sale.price\n",
    "\n",
    "# Maintain an internal switch to use the STREET and LATLONG predictors.\n",
    "useStreet <- TRUE\n",
    "useLatLongs <- FALSE"
   ]
  },
  {
   "cell_type": "markdown",
   "metadata": {},
   "source": [
    "### Nulling unused predictors\n",
    "\n",
    "`ease.ment`, `apartment.number`, `sale.date` will not be used in the model because they either \n",
    "\n",
    "* Do not fit the purpose of the model, or\n",
    "* Do not have data that can contribute to the model.\n",
    "\n",
    "This will also NULL out any other predictors\" that will not be used in the model."
   ]
  },
  {
   "cell_type": "code",
   "execution_count": 8,
   "metadata": {},
   "outputs": [
    {
     "name": "stdout",
     "output_type": "stream",
     "text": [
      "[1] \"UseLATLONGS is DISABLED.\"\n",
      " [1] \"num\"                            \"borough\"                       \n",
      " [3] \"neighborhood\"                   \"building.class.category\"       \n",
      " [5] \"tax.class.at.present\"           \"block\"                         \n",
      " [7] \"lot\"                            \"building.class.at.present\"     \n",
      " [9] \"address\"                        \"street\"                        \n",
      "[11] \"zip.code\"                       \"residential.units\"             \n",
      "[13] \"commercial.units\"               \"total.units\"                   \n",
      "[15] \"land.square.feet\"               \"gross.square.feet\"             \n",
      "[17] \"year.built\"                     \"tax.class.at.time.of.sale\"     \n",
      "[19] \"building.class.at.time.of.sale\" \"sale.price\"                    \n"
     ]
    }
   ],
   "source": [
    "# ### Nulling unused predictors\n",
    "# `ease.ment`, `apartment.number`, `sale.date` will not be used in the model because they either \n",
    "# * Do not fit the purpose of the model, or\n",
    "# * Do not have data that can contribute to the model.\n",
    "# This will also NULL out any other predictors\" that will not be used in the model.\n",
    "\n",
    "df$ease.ment <- NULL\n",
    "df$apartment.number <- NULL\n",
    "df$sale.date <- NULL\n",
    "\n",
    "# This is a control function to allow usage of the STREET and\n",
    "# LATLONG predictors within the data set.\n",
    "if (!useStreet) {\n",
    "    print(\"UseStreet is DISABLED.\")\n",
    "    df$street <- NULL\n",
    "}\n",
    "\n",
    "if (!useLatLongs) {\n",
    "    print(\"UseLATLONGS is DISABLED.\")\n",
    "    df$latitude <- NULL\n",
    "    df$longitude <- NULL\n",
    "}\n",
    "prettyPrintCols(df)"
   ]
  },
  {
   "cell_type": "markdown",
   "metadata": {},
   "source": [
    "### Recasting predictors"
   ]
  },
  {
   "cell_type": "markdown",
   "metadata": {},
   "source": [
    "#### Numerics\n",
    "`sale.price`, `land.square.feet`, and `gross.square.feet` were identified to have been malformed, so they will be re-cast as numeric vectors."
   ]
  },
  {
   "cell_type": "markdown",
   "metadata": {},
   "source": [
    "##### Price and Square Footage"
   ]
  },
  {
   "cell_type": "code",
   "execution_count": 9,
   "metadata": {},
   "outputs": [
    {
     "name": "stderr",
     "output_type": "stream",
     "text": [
      "Warning message in eval(expr, envir, enclos):\n",
      "\"NAs introduced by coercion\"\n",
      "Warning message in eval(expr, envir, enclos):\n",
      "\"NAs introduced by coercion\"\n",
      "Warning message in eval(expr, envir, enclos):\n",
      "\"NAs introduced by coercion\"\n"
     ]
    }
   ],
   "source": [
    "# #### Numerics\n",
    "# `sale.price`, `land.square.feet`, and `gross.square.feet` were identified to have been malformed, \n",
    "# so they will be re-cast as numeric vectors.\n",
    "\n",
    "##### Price and Square Footage\n",
    "df$sale.price <- as.numeric(as.character(df$sale.price))\n",
    "df$land.square.feet <- as.numeric(as.character(df$land.square.feet))\n",
    "df$gross.square.feet <- as.numeric(as.character(df$gross.square.feet))"
   ]
  },
  {
   "cell_type": "markdown",
   "metadata": {},
   "source": [
    "#### Factors\n",
    "The following predictors can be factorized (made into categories):"
   ]
  },
  {
   "cell_type": "code",
   "execution_count": 10,
   "metadata": {},
   "outputs": [],
   "source": [
    "# #### Factors\n",
    "# The following predictors can be factorized (made into categories):\n",
    "df$borough <- as.factor(df$borough)\n",
    "df$neighborhood <- as.factor(df$neighborhood)\n",
    "df$building.class.category <- as.factor(df$building.class.category)\n",
    "\n",
    "# PRESENT CATEGORIES\n",
    "df$tax.class.at.present <- as.factor(df$tax.class.at.present)\n",
    "df$building.class.at.present <- as.factor(df$building.class.at.present)\n",
    "\n",
    "# TIME OF SALE\n",
    "df$tax.class.at.time.of.sale <- as.factor(df$tax.class.at.time.of.sale)\n",
    "df$building.class.at.time.of.sale <- as.factor(df$building.class.at.time.of.sale) \n",
    "\n",
    "# ZIP CODE\n",
    "df$zip.code <- as.factor(df$zip.code)"
   ]
  },
  {
   "cell_type": "markdown",
   "metadata": {},
   "source": [
    "#### Factorizing building age\n",
    "\n",
    "There are a few options that we can do here with respect to the building's age:\n",
    "We can:\n",
    "1. Convert to `age` by subtracting from 2017\n",
    "2. Convert to intervals\n",
    "3. Convert to factor and leave as is\n",
    "\n",
    "**The team chooses option 3.**"
   ]
  },
  {
   "cell_type": "code",
   "execution_count": 11,
   "metadata": {},
   "outputs": [],
   "source": [
    "#doing option 3\n",
    "df$year.built <- as.factor(df$year.built)\n",
    "# df$sale.price = as.numeric(df$sale.price) # ??? This seems redundant"
   ]
  },
  {
   "cell_type": "markdown",
   "metadata": {},
   "source": [
    "#### Data Filtering"
   ]
  },
  {
   "cell_type": "code",
   "execution_count": 12,
   "metadata": {},
   "outputs": [
    {
     "data": {
      "image/png": "[encoded data removed]",
      "text/plain": [
       "plot without title"
      ]
     },
     "metadata": {
      "image/png": {
       "height": 420,
       "width": 420
      }
     },
     "output_type": "display_data"
    }
   ],
   "source": [
    "missRow <- colSums(is.na(df))\n",
    "plot(missRow)"
   ]
  },
  {
   "cell_type": "markdown",
   "metadata": {},
   "source": [
    "##### Before Dropping Nulls\n",
    "\n",
    "We apply a filter to the dataset to do the following:\n",
    "* Remove observations with incomplete results (lack of dimensions + sale price)"
   ]
  },
  {
   "cell_type": "markdown",
   "metadata": {},
   "source": [
    "##### Applying filters\n",
    "The following filters are applied to the dataset:\n",
    "* Eliminate incomplete observations by dropping records with NULL values in square footage and sale price.\n",
    "* Reining in gross and land square feet to properties > 100 square feet.\n",
    " * This is done to remove records that are either too dirty or have no significant contribution with respect to real estate\n",
    "* Using only sale prices greater than \\\\$100,000\n",
    " * This is done because price per square foot *realistically* would be (extremely optimistically) $1000/sq. ft in NYC; a minimum"
   ]
  },
  {
   "cell_type": "code",
   "execution_count": 13,
   "metadata": {},
   "outputs": [],
   "source": [
    "# drop NA's that were created during the conversion from the \"-\" value\n",
    "df <- df %>% drop_na(c(gross.square.feet,land.square.feet, sale.price))\n",
    "\n",
    "# removing datapoints whose sqftage is less than 100\n",
    "# removing datapoints whose sale price is <100k. Since median price @nyc is around 1.8k\n",
    "df <- df %>% filter(land.square.feet>100) \n",
    "df <- df %>% filter(gross.square.feet >100)\n",
    "df <- df %>% filter(sale.price>100000)"
   ]
  },
  {
   "cell_type": "code",
   "execution_count": 14,
   "metadata": {},
   "outputs": [
    {
     "name": "stderr",
     "output_type": "stream",
     "text": [
      "`summarise()` ungrouping output (override with `.groups` argument)\n",
      "\n",
      "`summarise()` ungrouping output (override with `.groups` argument)\n",
      "\n",
      "`summarise()` ungrouping output (override with `.groups` argument)\n",
      "\n",
      "`summarise()` ungrouping output (override with `.groups` argument)\n",
      "\n",
      "`summarise()` ungrouping output (override with `.groups` argument)\n",
      "\n",
      "`summarise()` ungrouping output (override with `.groups` argument)\n",
      "\n"
     ]
    }
   ],
   "source": [
    "freq_dist_sale_price <- df %>% group_by(sale.price) %>% summarize(Freq = n())\n",
    "freq_dist_land_square_feet <- df %>% group_by(land.square.feet) %>% summarize(Freq = n())\n",
    "freq_dist_gross_square_feet <- df %>% group_by(gross.square.feet) %>% summarize(Freq = n())\n",
    "\n",
    "# TODO: Add additional filters here? As it is, data is heavily skewed towards commercial properties\n",
    "\n",
    "new_freq_dist_sale_price <- df %>% group_by(sale.price) %>% summarize(Freq = n())\n",
    "new_freq_dist_land_square_feet <- df %>% group_by(land.square.feet) %>% summarize(Freq = n())\n",
    "new_freq_dist_gross_square_feet <- df %>% group_by(gross.square.feet) %>% summarize(Freq = n())"
   ]
  },
  {
   "cell_type": "code",
   "execution_count": 15,
   "metadata": {
    "colab": {
     "base_uri": "https://localhost:8080/"
    },
    "executionInfo": {
     "elapsed": 8679,
     "status": "ok",
     "timestamp": 1605136504952,
     "user": {
      "displayName": "J Baker",
      "photoUrl": "https://lh6.googleusercontent.com/-0rPdDXaIpZM/AAAAAAAAAAI/AAAAAAAAcZM/hA3v4CJXYgc/s64/photo.jpg",
      "userId": "08735636572862390699"
     },
     "user_tz": 300
    },
    "id": "sXOb86nE8Zf-",
    "outputId": "29d1455a-e8bc-4e37-e95a-8bd6c8142316"
   },
   "outputs": [],
   "source": [
    "# df <- nyc.data\n",
    "# df$sale.price <- as.numeric(as.character(df$sale.price))\n",
    "# df$land.square.feet <- as.numeric(as.character(df$land.square.feet))\n",
    "# df$gross.square.feet <- as.numeric(as.character(df$gross.square.feet))\n",
    "\n",
    "# df$ease.ment = NULL\n",
    "# df$apartment.number = NULL\n",
    "# df$sale.date = NULL\n",
    "\n",
    "# df$borough = as.factor(df$borough)\n",
    "# df$neighborhood = as.factor(df$neighborhood)\n",
    "# df$building.class.category = as.factor(df$building.class.category)\n",
    "# df$tax.class.at.present = as.factor(df$tax.class.at.present )\n",
    "\n",
    "#block and lot\n",
    "\n",
    "# df$building.class.at.present = as.factor(df$building.class.at.present)\n",
    "\n",
    "#address needs to be feature engineered\n",
    "# avenue, broadway etc.\n",
    "\n",
    "# df$zip.code = as.factor(df$zip.code)\n",
    "\n",
    "#total units is a calculated field. can be ignored\n",
    "\n",
    "#convert sqftage to numeric\n",
    "# df$land.square.feet = as.numeric(df$land.square.feet)\n",
    "# df$gross.square.feet = as.numeric(df$gross.square.feet)\n",
    "\n",
    "#need to feature engineer year built- \n",
    "# option 1- convert to 'age' by subtracting from 2017\n",
    "# option 2- convert to intervals\n",
    "# option 3- convert to factor and leave as is\n",
    "\n",
    "#doing option 3\n",
    "# df$year.built <- as.factor(df$year.built)\n",
    "\n",
    "# df$tax.class.at.time.of.sale = as.factor(df$tax.class.at.time.of.sale)\n",
    "# df$building.class.at.time.of.sale = as.factor(df$building.class.at.time.of.sale)\n",
    "\n",
    "# df$sale.price = as.numeric(df$sale.price) \n",
    "\n",
    "# removed NA and keep only distinct records\n",
    "# df <- df %>% distinct() %>% drop_na(c(gross.square.feet,land.square.feet, sale.price))\n",
    "\n",
    "# #drop NA's that were created during the conversion from the \"-\" value\n",
    "# df <- df %>% drop_na(c(gross.square.feet,land.square.feet, sale.price))\n",
    "\n",
    "# freq_dist_sale_price <- df %>% group_by(sale.price) %>% summarize(Freq = n())\n",
    "# freq_dist_land_square_feet <- df %>% group_by(land.square.feet) %>% summarize(Freq = n())\n",
    "# freq_dist_gross_square_feet <- df %>% group_by(gross.square.feet) %>% summarize(Freq = n())\n",
    "\n",
    "# removing datapoints whose sqftage is less than 100\n",
    "# removing datapoints whose sale price is <100k. Since median price @nyc is around 1.8k\n",
    "\n",
    "# df <- df %>% filter(land.square.feet>100) \n",
    "# df <- df %>% filter(gross.square.feet >100)\n",
    "# df <- df %>% filter(sale.price>100000)\n",
    "\n",
    "# TODO: Add additional filters here? As it is, data is heavily skewed towards commercial properties\n",
    "\n",
    "# new_freq_dist_sale_price <- df %>% group_by(sale.price) %>% summarize(Freq = n())\n",
    "# new_freq_dist_land_square_feet <- df %>% group_by(land.square.feet) %>% summarize(Freq = n())\n",
    "# new_freq_dist_gross_square_feet <- df %>% group_by(gross.square.feet) %>% summarize(Freq = n())"
   ]
  },
  {
   "cell_type": "markdown",
   "metadata": {
    "id": "NdKX5jra9ALM"
   },
   "source": [
    "## Descriptive Stats for Price and Square Footage"
   ]
  },
  {
   "cell_type": "code",
   "execution_count": 16,
   "metadata": {
    "colab": {
     "base_uri": "https://localhost:8080/",
     "height": 243
    },
    "executionInfo": {
     "elapsed": 8670,
     "status": "ok",
     "timestamp": 1605136504953,
     "user": {
      "displayName": "J Baker",
      "photoUrl": "https://lh6.googleusercontent.com/-0rPdDXaIpZM/AAAAAAAAAAI/AAAAAAAAcZM/hA3v4CJXYgc/s64/photo.jpg",
      "userId": "08735636572862390699"
     },
     "user_tz": 300
    },
    "id": "l1m4qEym84CP",
    "outputId": "adcb0742-2699-4d34-fa35-e4fee434715c"
   },
   "outputs": [
    {
     "name": "stdout",
     "output_type": "stream",
     "text": [
      "[1] \"For `sale.price`...\"\n"
     ]
    },
    {
     "data": {
      "text/html": [
       "2.21e+09"
      ],
      "text/latex": [
       "2.21e+09"
      ],
      "text/markdown": [
       "2.21e+09"
      ],
      "text/plain": [
       "[1] 2.21e+09"
      ]
     },
     "metadata": {},
     "output_type": "display_data"
    },
    {
     "data": {
      "text/html": [
       "'numeric'"
      ],
      "text/latex": [
       "'numeric'"
      ],
      "text/markdown": [
       "'numeric'"
      ],
      "text/plain": [
       "[1] \"numeric\""
      ]
     },
     "metadata": {},
     "output_type": "display_data"
    },
    {
     "data": {
      "text/html": [
       "2.21e+09"
      ],
      "text/latex": [
       "2.21e+09"
      ],
      "text/markdown": [
       "2.21e+09"
      ],
      "text/plain": [
       "[1] 2.21e+09"
      ]
     },
     "metadata": {},
     "output_type": "display_data"
    },
    {
     "data": {
      "text/html": [
       "100700"
      ],
      "text/latex": [
       "100700"
      ],
      "text/markdown": [
       "100700"
      ],
      "text/plain": [
       "[1] 100700"
      ]
     },
     "metadata": {},
     "output_type": "display_data"
    },
    {
     "name": "stdout",
     "output_type": "stream",
     "text": [
      "\n",
      "[1] \"For `gross.square.feet`...\"\n"
     ]
    },
    {
     "data": {
      "text/html": [
       "3750565"
      ],
      "text/latex": [
       "3750565"
      ],
      "text/markdown": [
       "3750565"
      ],
      "text/plain": [
       "[1] 3750565"
      ]
     },
     "metadata": {},
     "output_type": "display_data"
    },
    {
     "data": {
      "text/html": [
       "120"
      ],
      "text/latex": [
       "120"
      ],
      "text/markdown": [
       "120"
      ],
      "text/plain": [
       "[1] 120"
      ]
     },
     "metadata": {},
     "output_type": "display_data"
    },
    {
     "name": "stdout",
     "output_type": "stream",
     "text": [
      "\n",
      "[1] \"For `land.square.feet`...\"\n"
     ]
    },
    {
     "data": {
      "text/html": [
       "4228300"
      ],
      "text/latex": [
       "4228300"
      ],
      "text/markdown": [
       "4228300"
      ],
      "text/plain": [
       "[1] 4228300"
      ]
     },
     "metadata": {},
     "output_type": "display_data"
    },
    {
     "data": {
      "text/html": [
       "200"
      ],
      "text/latex": [
       "200"
      ],
      "text/markdown": [
       "200"
      ],
      "text/plain": [
       "[1] 200"
      ]
     },
     "metadata": {},
     "output_type": "display_data"
    }
   ],
   "source": [
    "# Descriptive Stats\n",
    "print(\"For `sale.price`...\")\n",
    "max(df$sale.price)\n",
    "class(df$sale.price)\n",
    "max(df$sale.price)\n",
    "min(df$sale.price)\n",
    "\n",
    "cat(\"\\n\")\n",
    "print(\"For `gross.square.feet`...\")\n",
    "max(df$gross.square.feet)\n",
    "min(df$gross.square.feet)\n",
    "\n",
    "cat(\"\\n\")\n",
    "print(\"For `land.square.feet`...\")\n",
    "max(df$land.square.feet)\n",
    "min(df$land.square.feet)"
   ]
  },
  {
   "cell_type": "markdown",
   "metadata": {
    "id": "HEgIwIDK9g07"
   },
   "source": [
    "## Adjusting the data for skewness\n",
    "\n",
    "To get an idea of the skewness of the data, we will produce a histogram.\n",
    "\n",
    "We choose `gross.square.feet` arbitrarily."
   ]
  },
  {
   "cell_type": "code",
   "execution_count": 31,
   "metadata": {
    "colab": {
     "base_uri": "https://localhost:8080/",
     "height": 857
    },
    "executionInfo": {
     "elapsed": 9117,
     "status": "ok",
     "timestamp": 1605136505409,
     "user": {
      "displayName": "J Baker",
      "photoUrl": "https://lh6.googleusercontent.com/-0rPdDXaIpZM/AAAAAAAAAAI/AAAAAAAAcZM/hA3v4CJXYgc/s64/photo.jpg",
      "userId": "08735636572862390699"
     },
     "user_tz": 300
    },
    "id": "BSc2O-0E89EG",
    "outputId": "73c0b9c8-af13-4a27-fbc9-46a19bde5371"
   },
   "outputs": [
    {
     "data": {
      "image/png": "[encoded data removed]",
      "text/plain": [
       "Plot with title \"Histogram of df$gross.square.feet\""
      ]
     },
     "metadata": {
      "image/png": {
       "height": 420,
       "width": 420
      }
     },
     "output_type": "display_data"
    }
   ],
   "source": [
    "# hist(df$sale.price)\n",
    "hist(df$gross.square.feet)"
   ]
  },
  {
   "cell_type": "markdown",
   "metadata": {},
   "source": [
    "Based on the histogram above for gross square feet, we observed that the data was heavily skewed and can benefit from a Box Cox + Center/Scaling transformation for improved model performance.\n",
    "\n",
    "BEFORE we do that though, we will separate `sale.price` from the dataframe to prevent the same transformation from applying to the response."
   ]
  },
  {
   "cell_type": "code",
   "execution_count": 19,
   "metadata": {},
   "outputs": [
    {
     "name": "stdout",
     "output_type": "stream",
     "text": [
      " [1] \"num\"                            \"borough\"                       \n",
      " [3] \"neighborhood\"                   \"building.class.category\"       \n",
      " [5] \"tax.class.at.present\"           \"block\"                         \n",
      " [7] \"lot\"                            \"building.class.at.present\"     \n",
      " [9] \"address\"                        \"street\"                        \n",
      "[11] \"zip.code\"                       \"residential.units\"             \n",
      "[13] \"commercial.units\"               \"total.units\"                   \n",
      "[15] \"land.square.feet\"               \"gross.square.feet\"             \n",
      "[17] \"year.built\"                     \"tax.class.at.time.of.sale\"     \n",
      "[19] \"building.class.at.time.of.sale\"\n"
     ]
    }
   ],
   "source": [
    "# Based on the histogram above for gross square feet, we observed that the data was heavily skewed and can benefit \n",
    "# from a Box Cox + Center/Scaling transformation for improved model performance.\n",
    "# BEFORE we do that though, we will separate `sale.price` from the dataframe to \n",
    "# prevent the same transformation from applying to the response.\n",
    "df.y <- df$sale.price\n",
    "df <- subset(df, select = -c(sale.price))\n",
    "\n",
    "# Validate that sale.price has been removed from the structure of the main data frame.\n",
    "prettyPrintCols(df)"
   ]
  },
  {
   "cell_type": "markdown",
   "metadata": {},
   "source": [
    "### BoxCox/Centering/Scaling\n",
    "\n",
    "We use the `preProcess()` method to prep a boxcox/centering/scaling routine against the dataset."
   ]
  },
  {
   "cell_type": "code",
   "execution_count": 27,
   "metadata": {},
   "outputs": [],
   "source": [
    "# Preload a preprocessing routine\n",
    "df.preProc <- preProcess(\n",
    "    df,\n",
    "    method = c(\"BoxCox\", \"center\", \"scale\")\n",
    ")"
   ]
  },
  {
   "cell_type": "code",
   "execution_count": 28,
   "metadata": {},
   "outputs": [],
   "source": [
    "## Apply the transformations\n",
    "df.trans <- predict(df.preProc, df)"
   ]
  },
  {
   "cell_type": "code",
   "execution_count": 30,
   "metadata": {},
   "outputs": [
    {
     "data": {
      "image/png": "[encoded data removed]",
      "text/plain": [
       "Plot with title \"Histogram of df.trans$gross.square.feet\""
      ]
     },
     "metadata": {
      "image/png": {
       "height": 420,
       "width": 420
      }
     },
     "output_type": "display_data"
    }
   ],
   "source": [
    "hist(df.trans$gross.square.feet)"
   ]
  },
  {
   "cell_type": "markdown",
   "metadata": {
    "id": "ob3D_g92-IPe"
   },
   "source": [
    "## Multicollinearity Test"
   ]
  },
  {
   "cell_type": "code",
   "execution_count": 19,
   "metadata": {
    "colab": {
     "base_uri": "https://localhost:8080/",
     "height": 598
    },
    "executionInfo": {
     "elapsed": 9106,
     "status": "ok",
     "timestamp": 1605136505411,
     "user": {
      "displayName": "J Baker",
      "photoUrl": "https://lh6.googleusercontent.com/-0rPdDXaIpZM/AAAAAAAAAAI/AAAAAAAAcZM/hA3v4CJXYgc/s64/photo.jpg",
      "userId": "08735636572862390699"
     },
     "user_tz": 300
    },
    "id": "yzCGkRa--Kw7",
    "outputId": "f99238c3-7171-4c37-e7fb-49a662ad22f3"
   },
   "outputs": [
    {
     "data": {
      "text/html": [
       "<table>\n",
       "<caption>A matrix: 6 × 6 of type dbl</caption>\n",
       "<thead>\n",
       "\t<tr><th></th><th scope=col>residential.units</th><th scope=col>commercial.units</th><th scope=col>total.units</th><th scope=col>land.square.feet</th><th scope=col>gross.square.feet</th><th scope=col>sale.price</th></tr>\n",
       "</thead>\n",
       "<tbody>\n",
       "\t<tr><th scope=row>residential.units</th><td>1.00000000</td><td>0.01141646</td><td>0.8159458</td><td>0.45834076</td><td>0.72133987</td><td>0.14102198</td></tr>\n",
       "\t<tr><th scope=row>commercial.units</th><td>0.01141646</td><td>1.00000000</td><td>0.5873982</td><td>0.05409284</td><td>0.06542233</td><td>0.04769423</td></tr>\n",
       "\t<tr><th scope=row>total.units</th><td>0.81594584</td><td>0.58739820</td><td>1.0000000</td><td>0.40223680</td><td>0.62164517</td><td>0.14170725</td></tr>\n",
       "\t<tr><th scope=row>land.square.feet</th><td>0.45834076</td><td>0.05409284</td><td>0.4022368</td><td>1.00000000</td><td>0.66646086</td><td>0.04022097</td></tr>\n",
       "\t<tr><th scope=row>gross.square.feet</th><td>0.72133987</td><td>0.06542233</td><td>0.6216452</td><td>0.66646086</td><td>1.00000000</td><td>0.52721856</td></tr>\n",
       "\t<tr><th scope=row>sale.price</th><td>0.14102198</td><td>0.04769423</td><td>0.1417073</td><td>0.04022097</td><td>0.52721856</td><td>1.00000000</td></tr>\n",
       "</tbody>\n",
       "</table>\n"
      ],
      "text/latex": [
       "A matrix: 6 × 6 of type dbl\n",
       "\\begin{tabular}{r|llllll}\n",
       "  & residential.units & commercial.units & total.units & land.square.feet & gross.square.feet & sale.price\\\\\n",
       "\\hline\n",
       "\tresidential.units & 1.00000000 & 0.01141646 & 0.8159458 & 0.45834076 & 0.72133987 & 0.14102198\\\\\n",
       "\tcommercial.units & 0.01141646 & 1.00000000 & 0.5873982 & 0.05409284 & 0.06542233 & 0.04769423\\\\\n",
       "\ttotal.units & 0.81594584 & 0.58739820 & 1.0000000 & 0.40223680 & 0.62164517 & 0.14170725\\\\\n",
       "\tland.square.feet & 0.45834076 & 0.05409284 & 0.4022368 & 1.00000000 & 0.66646086 & 0.04022097\\\\\n",
       "\tgross.square.feet & 0.72133987 & 0.06542233 & 0.6216452 & 0.66646086 & 1.00000000 & 0.52721856\\\\\n",
       "\tsale.price & 0.14102198 & 0.04769423 & 0.1417073 & 0.04022097 & 0.52721856 & 1.00000000\\\\\n",
       "\\end{tabular}\n"
      ],
      "text/markdown": [
       "\n",
       "A matrix: 6 × 6 of type dbl\n",
       "\n",
       "| <!--/--> | residential.units | commercial.units | total.units | land.square.feet | gross.square.feet | sale.price |\n",
       "|---|---|---|---|---|---|---|\n",
       "| residential.units | 1.00000000 | 0.01141646 | 0.8159458 | 0.45834076 | 0.72133987 | 0.14102198 |\n",
       "| commercial.units | 0.01141646 | 1.00000000 | 0.5873982 | 0.05409284 | 0.06542233 | 0.04769423 |\n",
       "| total.units | 0.81594584 | 0.58739820 | 1.0000000 | 0.40223680 | 0.62164517 | 0.14170725 |\n",
       "| land.square.feet | 0.45834076 | 0.05409284 | 0.4022368 | 1.00000000 | 0.66646086 | 0.04022097 |\n",
       "| gross.square.feet | 0.72133987 | 0.06542233 | 0.6216452 | 0.66646086 | 1.00000000 | 0.52721856 |\n",
       "| sale.price | 0.14102198 | 0.04769423 | 0.1417073 | 0.04022097 | 0.52721856 | 1.00000000 |\n",
       "\n"
      ],
      "text/plain": [
       "                  residential.units commercial.units total.units\n",
       "residential.units 1.00000000        0.01141646       0.8159458  \n",
       "commercial.units  0.01141646        1.00000000       0.5873982  \n",
       "total.units       0.81594584        0.58739820       1.0000000  \n",
       "land.square.feet  0.45834076        0.05409284       0.4022368  \n",
       "gross.square.feet 0.72133987        0.06542233       0.6216452  \n",
       "sale.price        0.14102198        0.04769423       0.1417073  \n",
       "                  land.square.feet gross.square.feet sale.price\n",
       "residential.units 0.45834076       0.72133987        0.14102198\n",
       "commercial.units  0.05409284       0.06542233        0.04769423\n",
       "total.units       0.40223680       0.62164517        0.14170725\n",
       "land.square.feet  1.00000000       0.66646086        0.04022097\n",
       "gross.square.feet 0.66646086       1.00000000        0.52721856\n",
       "sale.price        0.04022097       0.52721856        1.00000000"
      ]
     },
     "metadata": {},
     "output_type": "display_data"
    },
    {
     "data": {
      "image/png": "[encoded data removed]",
      "text/plain": [
       "Plot with title \"\""
      ]
     },
     "metadata": {
      "image/png": {
       "height": 420,
       "width": 420
      }
     },
     "output_type": "display_data"
    }
   ],
   "source": [
    "# check multicollinearity\n",
    "numericpredictors <- c('residential.units','commercial.units','total.units','land.square.feet','gross.square.feet','sale.price')\n",
    "df_numpreds <- subset(df, select= numericpredictors)\n",
    "corr <- cor(df_numpreds)\n",
    "corr\n",
    "corrplot(corr,method= \"number\",col=brewer.pal(n=8, name=\"PuOr\"))"
   ]
  },
  {
   "cell_type": "markdown",
   "metadata": {
    "id": "K9Rd0Zkt-PJR"
   },
   "source": [
    "## Data Culling"
   ]
  },
  {
   "cell_type": "code",
   "execution_count": 20,
   "metadata": {
    "colab": {
     "base_uri": "https://localhost:8080/",
     "height": 51
    },
    "executionInfo": {
     "elapsed": 20686,
     "status": "ok",
     "timestamp": 1605136517004,
     "user": {
      "displayName": "J Baker",
      "photoUrl": "https://lh6.googleusercontent.com/-0rPdDXaIpZM/AAAAAAAAAAI/AAAAAAAAcZM/hA3v4CJXYgc/s64/photo.jpg",
      "userId": "08735636572862390699"
     },
     "user_tz": 300
    },
    "id": "D_d_Oskf-RU0",
    "outputId": "563e2383-f16c-4c70-a1b9-06ca8ff1dbc7"
   },
   "outputs": [
    {
     "data": {
      "text/html": [
       "<style>\n",
       ".list-inline {list-style: none; margin:0; padding: 0}\n",
       ".list-inline>li {display: inline-block}\n",
       ".list-inline>li:not(:last-child)::after {content: \"\\00b7\"; padding: 0 .5ex}\n",
       "</style>\n",
       "<ol class=list-inline><li>27910</li><li>998</li></ol>\n"
      ],
      "text/latex": [
       "\\begin{enumerate*}\n",
       "\\item 27910\n",
       "\\item 998\n",
       "\\end{enumerate*}\n"
      ],
      "text/markdown": [
       "1. 27910\n",
       "2. 998\n",
       "\n",
       "\n"
      ],
      "text/plain": [
       "[1] 27910   998"
      ]
     },
     "metadata": {},
     "output_type": "display_data"
    },
    {
     "data": {
      "text/html": [
       "<style>\n",
       ".list-inline {list-style: none; margin:0; padding: 0}\n",
       ".list-inline>li {display: inline-block}\n",
       ".list-inline>li:not(:last-child)::after {content: \"\\00b7\"; padding: 0 .5ex}\n",
       "</style>\n",
       "<ol class=list-inline><li>27910</li><li>1004</li></ol>\n"
      ],
      "text/latex": [
       "\\begin{enumerate*}\n",
       "\\item 27910\n",
       "\\item 1004\n",
       "\\end{enumerate*}\n"
      ],
      "text/markdown": [
       "1. 27910\n",
       "2. 1004\n",
       "\n",
       "\n"
      ],
      "text/plain": [
       "[1] 27910  1004"
      ]
     },
     "metadata": {},
     "output_type": "display_data"
    }
   ],
   "source": [
    "#remove total units as a predictor since it is highly correlated to # of residential units and commercial units\n",
    "\n",
    "# one hot encoding the categorical variables\n",
    "# borough \n",
    "# neighborhood\n",
    "# building.class.category \n",
    "# tax.class.at.present \n",
    "# building.class.at.present\n",
    "# zip.code\n",
    "# year.built\n",
    "# tax.class.at.time.of.sale\n",
    "# building.class.at.time.of.sale\n",
    "\n",
    "dmy <- dummyVars(\" ~ borough +\n",
    "neighborhood +\n",
    "building.class.category +\n",
    "tax.class.at.present +\n",
    "building.class.at.present +\n",
    "zip.code +\n",
    "year.built +\n",
    "tax.class.at.time.of.sale +\n",
    "building.class.at.time.of.sale\", data = df)\n",
    "trsf <- data.frame(predict(dmy, newdata = df))\n",
    "dim(trsf)\n",
    "\n",
    "df_for_modeling <- cbind(trsf, df_numpreds)\n",
    "dim(df_for_modeling)"
   ]
  },
  {
   "cell_type": "markdown",
   "metadata": {
    "id": "3yXZlZ2n-kYs"
   },
   "source": [
    "# Modeling"
   ]
  },
  {
   "cell_type": "markdown",
   "metadata": {
    "id": "lH3AtlNJ-wvX"
   },
   "source": [
    "## Data Partioning"
   ]
  },
  {
   "cell_type": "code",
   "execution_count": 21,
   "metadata": {
    "colab": {
     "base_uri": "https://localhost:8080/",
     "height": 68
    },
    "executionInfo": {
     "elapsed": 21464,
     "status": "ok",
     "timestamp": 1605136517792,
     "user": {
      "displayName": "J Baker",
      "photoUrl": "https://lh6.googleusercontent.com/-0rPdDXaIpZM/AAAAAAAAAAI/AAAAAAAAcZM/hA3v4CJXYgc/s64/photo.jpg",
      "userId": "08735636572862390699"
     },
     "user_tz": 300
    },
    "id": "yF99F3xC-yLX",
    "outputId": "9e54a238-187d-45fc-cfd2-e2ac709be236"
   },
   "outputs": [
    {
     "data": {
      "text/html": [
       "<style>\n",
       ".list-inline {list-style: none; margin:0; padding: 0}\n",
       ".list-inline>li {display: inline-block}\n",
       ".list-inline>li:not(:last-child)::after {content: \"\\00b7\"; padding: 0 .5ex}\n",
       "</style>\n",
       "<ol class=list-inline><li>19538</li><li>1004</li></ol>\n"
      ],
      "text/latex": [
       "\\begin{enumerate*}\n",
       "\\item 19538\n",
       "\\item 1004\n",
       "\\end{enumerate*}\n"
      ],
      "text/markdown": [
       "1. 19538\n",
       "2. 1004\n",
       "\n",
       "\n"
      ],
      "text/plain": [
       "[1] 19538  1004"
      ]
     },
     "metadata": {},
     "output_type": "display_data"
    },
    {
     "data": {
      "text/html": [
       "<style>\n",
       ".list-inline {list-style: none; margin:0; padding: 0}\n",
       ".list-inline>li {display: inline-block}\n",
       ".list-inline>li:not(:last-child)::after {content: \"\\00b7\"; padding: 0 .5ex}\n",
       "</style>\n",
       "<ol class=list-inline><li>4185</li><li>1004</li></ol>\n"
      ],
      "text/latex": [
       "\\begin{enumerate*}\n",
       "\\item 4185\n",
       "\\item 1004\n",
       "\\end{enumerate*}\n"
      ],
      "text/markdown": [
       "1. 4185\n",
       "2. 1004\n",
       "\n",
       "\n"
      ],
      "text/plain": [
       "[1] 4185 1004"
      ]
     },
     "metadata": {},
     "output_type": "display_data"
    },
    {
     "data": {
      "text/html": [
       "<style>\n",
       ".list-inline {list-style: none; margin:0; padding: 0}\n",
       ".list-inline>li {display: inline-block}\n",
       ".list-inline>li:not(:last-child)::after {content: \"\\00b7\"; padding: 0 .5ex}\n",
       "</style>\n",
       "<ol class=list-inline><li>4187</li><li>1004</li></ol>\n"
      ],
      "text/latex": [
       "\\begin{enumerate*}\n",
       "\\item 4187\n",
       "\\item 1004\n",
       "\\end{enumerate*}\n"
      ],
      "text/markdown": [
       "1. 4187\n",
       "2. 1004\n",
       "\n",
       "\n"
      ],
      "text/plain": [
       "[1] 4187 1004"
      ]
     },
     "metadata": {},
     "output_type": "display_data"
    }
   ],
   "source": [
    "#split data into train, validation and test\n",
    "inTraining <- createDataPartition(df_for_modeling$sale.price, p = .70, list = FALSE)\n",
    "trainset <- df_for_modeling[inTraining,]\n",
    "testandvalidation  <- df_for_modeling[-inTraining,]\n",
    "\n",
    "testid <- createDataPartition(testandvalidation$sale.price, p = .50, list = FALSE)\n",
    "testset <- testandvalidation[testid,]\n",
    "validationset <- testandvalidation[-testid,]\n",
    "\n",
    "dim(trainset)\n",
    "dim(validationset)\n",
    "dim(testset)\n",
    "\n",
    "# training various models\n",
    "\n",
    "#Simple Linear Regression"
   ]
  },
  {
   "cell_type": "markdown",
   "metadata": {},
   "source": [
    "## `trainControl`"
   ]
  },
  {
   "cell_type": "code",
   "execution_count": null,
   "metadata": {},
   "outputs": [],
   "source": [
    "## This control object will be used across multiple models so that the\n",
    "## data splitting is consistent, LGOCV is \"Monte Carlo cross validation\"\n",
    "ctrl <- trainControl(method = \"LGOCV\",\n",
    "                     summaryFunction = defaultSummary,\n",
    "                     classProbs = TRUE,\n",
    "                     index = list(TrainSet = inTrain),\n",
    "                     savePredictions = \"final\"\n",
    "                    )"
   ]
  },
  {
   "cell_type": "markdown",
   "metadata": {
    "id": "9HXzapLI-lfY"
   },
   "source": [
    "## Linear Regression"
   ]
  },
  {
   "cell_type": "code",
   "execution_count": null,
   "metadata": {
    "id": "HUAfSrYz-mtB"
   },
   "outputs": [],
   "source": []
  },
  {
   "cell_type": "markdown",
   "metadata": {
    "id": "4Zkhwnv4-oww"
   },
   "source": [
    "## Partial Least Squares"
   ]
  },
  {
   "cell_type": "code",
   "execution_count": null,
   "metadata": {
    "id": "kjE2Lwzt-su0"
   },
   "outputs": [],
   "source": []
  },
  {
   "cell_type": "markdown",
   "metadata": {
    "id": "a0Bsw_8P-sWm"
   },
   "source": [
    "## Ridge Regression"
   ]
  },
  {
   "cell_type": "code",
   "execution_count": null,
   "metadata": {
    "id": "WfxzlW-x_Jxb"
   },
   "outputs": [],
   "source": []
  },
  {
   "cell_type": "markdown",
   "metadata": {
    "id": "931onhs2-3Nf"
   },
   "source": [
    "# RAW CODE - GK"
   ]
  },
  {
   "cell_type": "code",
   "execution_count": 13,
   "metadata": {
    "colab": {
     "base_uri": "https://localhost:8080/",
     "height": 133
    },
    "executionInfo": {
     "elapsed": 21626,
     "status": "error",
     "timestamp": 1605136517970,
     "user": {
      "displayName": "J Baker",
      "photoUrl": "https://lh6.googleusercontent.com/-0rPdDXaIpZM/AAAAAAAAAAI/AAAAAAAAcZM/hA3v4CJXYgc/s64/photo.jpg",
      "userId": "08735636572862390699"
     },
     "user_tz": 300
    },
    "id": "_W5_ZWTT9zzd",
    "outputId": "ac69a104-1708-4bd7-f820-ad0b1c22f414"
   },
   "outputs": [
    {
     "ename": "ERROR",
     "evalue": "Error in head(nycdata): object 'nycdata' not found\n",
     "output_type": "error",
     "traceback": [
      "Error in head(nycdata): object 'nycdata' not found\nTraceback:\n",
      "1. head(nycdata)"
     ]
    }
   ],
   "source": [
    "head(nycdata)\n",
    "\n",
    "colnames(nycdata) %<>% str_replace_all(\"\\\\s\", \"_\") %>% tolower()\n",
    "colnames(nycdata)\n",
    "\n",
    "str(nycdata)\n",
    "\n",
    "df <- nycdata\n",
    "df$sale.price <- as.numeric(as.character(df$sale.price))\n",
    "df$land.square.feet <- as.numeric(as.character(df$land.square.feet))\n",
    "df$gross.square.feet <- as.numeric(as.character(df$gross.square.feet))\n",
    "\n",
    "df$ease.ment = NULL\n",
    "df$apartment.number = NULL\n",
    "df$sale.date = NULL\n",
    "\n",
    "df$borough = as.factor(df$borough)\n",
    "df$neighborhood = as.factor(df$neighborhood)\n",
    "df$building.class.category = as.factor(df$building.class.category)\n",
    "df$tax.class.at.present = as.factor(df$tax.class.at.present )\n",
    "\n",
    "#block and lot\n",
    "\n",
    "df$building.class.at.present = as.factor(df$building.class.at.present)\n",
    "\n",
    "#address needs to be feature engineered\n",
    "# avenue, broadway etc.\n",
    "\n",
    "df$zip.code = as.factor(df$zip.code)\n",
    "\n",
    "#total units is a calculated field. can be ignored\n",
    "\n",
    "#convert sqftage to numeric\n",
    "df$land.square.feet = as.numeric(df$land.square.feet)\n",
    "df$gross.square.feet = as.numeric(df$gross.square.feet)\n",
    "\n",
    "#need to feature engineer year built- \n",
    "# option 1- convert to 'age' by subtracting from 2017\n",
    "# option 2- convert to intervals\n",
    "# option 3- convert to factor and leave as is\n",
    "\n",
    "#doing option 3\n",
    "df$year.built <- as.factor(df$year.built)\n",
    "\n",
    "df$tax.class.at.time.of.sale = as.factor(df$tax.class.at.time.of.sale)\n",
    "df$building.class.at.time.of.sale = as.factor(df$building.class.at.time.of.sale)\n",
    "\n",
    "df$sale.price = as.numeric(df$sale.price)\n",
    "\n",
    "# removed NA and keep only distinct records\n",
    "df <- df %>% distinct() %>% drop_na(c(gross.square.feet,land.square.feet, sale.price))\n",
    "\n",
    "#drop NA's that were created during the conversion from the \"-\" value\n",
    "df <- df %>% drop_na(c(gross.square.feet,land.square.feet, sale.price))\n",
    "\n",
    "freq_dist_sale_price <- df %>% group_by(sale.price) %>% summarize(Freq = n())\n",
    "freq_dist_land_square_feet <- df %>% group_by(land.square.feet) %>% summarize(Freq = n())\n",
    "freq_dist_gross_square_feet <- df %>% group_by(gross.square.feet) %>% summarize(Freq = n())\n",
    "\n",
    "freq_dist_sale_price\n",
    "freq_dist_land_square_feet\n",
    "freq_dist_gross_square_feet\n",
    "\n",
    "# removing datapoints whose sqftage is less than 100\n",
    "# removing datapoints whose sale price is <100k. Since median price @nyc is around 1.8k\n",
    "\n",
    "df <-df%>% filter(land.square.feet>100) \n",
    "df<- df %>% filter(gross.square.feet >100)\n",
    "df<- df %>% filter(sale.price>100000)\n",
    "\n",
    "new_freq_dist_sale_price <- df %>% group_by(sale.price) %>% summarize(Freq = n())\n",
    "new_freq_dist_land_square_feet <- df %>% group_by(land.square.feet) %>% summarize(Freq = n())\n",
    "new_freq_dist_gross_square_feet <- df %>% group_by(gross.square.feet) %>% summarize(Freq = n())\n",
    "\n",
    "max(nycdata$sale.price)\n",
    "class(nycdata$sale.price)\n",
    "max(df$sale.price)\n",
    "min(df$sale.price)\n",
    "\n",
    "max(df$gross.square.feet)\n",
    "min(df$gross.square.feet)\n",
    "\n",
    "max(df$land.square.feet)\n",
    "min(df$land.square.feet)\n",
    "\n",
    "hist(df$sale.price)\n",
    "hist(df$gross.square.feet)\n",
    "\n",
    "# check multicollinearity\n",
    "install.packages(\"corrplot\")\n",
    "library(corrplot)\n",
    "library(RColorBrewer)\n",
    "numericpredictors <- c('residential.units','commercial.units','total.units','land.square.feet','gross.square.feet','sale.price')\n",
    "df_numpreds <- subset(df, select= numericpredictors)\n",
    "corr <- cor(df_numpreds)\n",
    "corr\n",
    "corrplot(corr,method= \"number\",col=brewer.pal(n=8, name=\"PuOr\"))\n",
    "\n",
    "#remove total units as a predictor since it is highly correlated to # of residential units and commercial units\n",
    "\n",
    "# one hot encoding the categorical variables\n",
    "# borough \n",
    "# neighborhood\n",
    "# building.class.category \n",
    "# tax.class.at.present \n",
    "# building.class.at.present\n",
    "# zip.code\n",
    "# year.built\n",
    "# tax.class.at.time.of.sale\n",
    "# building.class.at.time.of.sale\n",
    "\n",
    "dmy <- dummyVars(\" ~ borough +\n",
    "neighborhood +\n",
    "building.class.category +\n",
    "tax.class.at.present +\n",
    "building.class.at.present +\n",
    "zip.code +\n",
    "year.built +\n",
    "tax.class.at.time.of.sale +\n",
    "building.class.at.time.of.sale\", data = df)\n",
    "trsf <- data.frame(predict(dmy, newdata = df))\n",
    "dim(trsf)\n",
    "\n",
    "df_for_modeling <- cbind(trsf, df_numpreds)\n",
    "dim(df_for_modeling)\n",
    "\n",
    "#split data into train, validation and test\n",
    "inTraining <- createDataPartition(df_for_modeling$sale.price, p = .70, list = FALSE)\n",
    "trainset <- df_for_modeling[ inTraining,]\n",
    "testandvalidation  <- df_for_modeling[-inTraining,]\n",
    "\n",
    "testid <- createDataPartition(testandvalidation$sale.price, p = .50, list = FALSE)\n",
    "testset <- testandvalidation[testid,]\n",
    "validationset <- testandvalidation[-testid,]\n",
    "\n",
    "dim(trainset)\n",
    "dim(validationset)\n",
    "dim(testset)\n",
    "\n",
    "# training various models\n",
    "\n",
    "#Simple Linear Regression"
   ]
  },
  {
   "cell_type": "code",
   "execution_count": null,
   "metadata": {
    "id": "sODDyMkzRMbh"
   },
   "outputs": [],
   "source": [
    "plot(nycdata[2],main = colnames(nycdata[2]))\n",
    "plot(nycdata[3],main = colnames(nycdata[3]))\n",
    "plot(nycdata[4],main = colnames(nycdata[4]))\n",
    "plot(nycdata[5],main = colnames(nycdata[5]))\n",
    "plot(nycdata[6],main = colnames(nycdata[6]))\n",
    "plot(nycdata[7],main = colnames(nycdata[7]))\n",
    "plot(nycdata[8],main = colnames(nycdata[8]))\n",
    "#plot(nyc.data[9],main = colnames(nyc.data[9])) Address not done\n",
    "# library(hexbin)\n",
    "#hexbinplot(latitude~longitude, data=nycdata)\n",
    "#plot(nyc.data[10],main = colnames(nyc.data[10]))\n",
    "#plot(nyc.data[11],main = colnames(nyc.data[11]))\n",
    "#plot(nyc.data[12],main = colnames(nyc.data[12])) Apt number not done\n",
    "plot(nyc.data[13],main = colnames(nycdata[13]))\n",
    "histogram(nycdata$residential.units)\n",
    "histogram(nycdata$commercial.units)\n",
    "histogram(nycdata$total.units)\n",
    "histogram(nycdata$land.square.feet)\n",
    "histogram(nycdata$gross.square.feet)\n",
    "histogram(nycdata$year.built)\n",
    "plot(nyc.data[20],main = colnames(nycdata[20]))\n",
    "plot(nyc.data[21],main = colnames(nycdata[21]))\n",
    "histogram(nycdata$sale.price)"
   ]
  },
  {
   "cell_type": "code",
   "execution_count": null,
   "metadata": {
    "id": "bj9jSckz592o"
   },
   "outputs": [],
   "source": [
    "nyc.data2 <- nyc.data\n",
    "nyc.data2 <- nyc.data2[which(nyc.data$LATITUDE <= 41),]\n",
    "nyc.data2 <- nyc.data2[which(nyc.data2$LATITUDE >= 40),]\n",
    "nyc.data2 <- nyc.data2[which(nyc.data2$LONGITUDE <= -73.6),]\n",
    "hexbinplot(LATITUDE~LONGITUDE, data=nyc.data2)\n",
    "nyc.data2 <- nyc.data2[which(nyc.data2$LAND.SQUARE.FEET <= 1000000),]\n",
    "nyc.data2 <- nyc.data2[which(nyc.data2$LAND.SQUARE.FEET >= 100),]\n",
    "nyc.data2 <- nyc.data2[which(nyc.data2$GROSS.SQUARE.FEET >= 100),]\n",
    "nyc.data2 <- nyc.data2[which(nyc.data2$SALE.PRICE >= 100000),]\n",
    "nyc.data2 <- nyc.data2[which(nyc.data2$YEAR.BUILT >= 1500),]"
   ]
  },
  {
   "cell_type": "code",
   "execution_count": null,
   "metadata": {
    "id": "g0bZNEx6_D9D"
   },
   "outputs": [],
   "source": []
  }
 ],
 "metadata": {
  "colab": {
   "collapsed_sections": [
    "68QLTxGT8So8",
    "HVHoUDnU8aOy",
    "NdKX5jra9ALM",
    "ob3D_g92-IPe",
    "K9Rd0Zkt-PJR"
   ],
   "name": "OR-568_Project_Analysis.ipynb",
   "provenance": [],
   "toc_visible": true
  },
  "kernelspec": {
   "display_name": "R",
   "language": "R",
   "name": "ir"
  },
  "language_info": {
   "codemirror_mode": "r",
   "file_extension": ".r",
   "mimetype": "text/x-r-source",
   "name": "R",
   "pygments_lexer": "r",
   "version": "4.0.2"
  }
 },
 "nbformat": 4,
 "nbformat_minor": 4
}
