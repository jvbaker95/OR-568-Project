{
  "nbformat": 4,
  "nbformat_minor": 0,
  "metadata": {
    "kernelspec": {
      "display_name": "R",
      "language": "R",
      "name": "ir"
    },
    "language_info": {
      "codemirror_mode": "r",
      "file_extension": ".r",
      "mimetype": "text/x-r-source",
      "name": "R",
      "pygments_lexer": "r",
      "version": "4.0.2"
    },
    "colab": {
      "name": "OR-568_Project_Analysis.ipynb",
      "provenance": [],
      "collapsed_sections": []
    }
  },
  "cells": [
    {
      "cell_type": "markdown",
      "metadata": {
        "id": "gdH9IFA9k9ZM",
        "colab_type": "text"
      },
      "source": [
        "# OR 568 - Rogers Rangers\n",
        "## NYC Rolling Sales Dataset\n",
        "\n",
        "James Baker\n",
        "\n",
        "Arturo Davila-Adino\n",
        "\n",
        "Gridihar Kaushik-Ramachandran (GK)\n",
        "\n",
        "Andrew So"
      ]
    },
    {
      "cell_type": "markdown",
      "metadata": {
        "id": "cnbbh4XKk9ZO",
        "colab_type": "text"
      },
      "source": [
        "## Developer Notes\n",
        "\n",
        "*James B*: For tables, I generally build them in excel and then convert them into Markdown tables at https://tableconvert.com/."
      ]
    },
    {
      "cell_type": "markdown",
      "metadata": {
        "id": "vQN3hhBXk9ZO",
        "colab_type": "text"
      },
      "source": [
        "# Initial Setup"
      ]
    },
    {
      "cell_type": "code",
      "metadata": {
        "id": "XOUWagt-k9ZP",
        "colab_type": "code",
        "colab": {}
      },
      "source": [
        "# To Pretty-Print this as a PDF later\n",
        "options(jupyter.plot_mimetypes = c(\"text/plain\", \"image/png\" ))\n",
        "\n",
        "# ipak function: install and load multiple R packages.\n",
        "# check to see if packages are installed. Install them if they are not, then load them into the R session.\n",
        "ipak <- function(pkg){\n",
        "    new.pkg <- pkg[!(pkg %in% installed.packages()[, \"Package\"])]\n",
        "    if (length(new.pkg)) \n",
        "        install.packages(new.pkg, dependencies = TRUE)\n",
        "    sapply(pkg, require, character.only = TRUE)\n",
        "}\n",
        "\n",
        "# usage\n",
        "packages <- c(\n",
        "  \"ggplot2\", \n",
        "  \"plyr\", \n",
        "  \"mlbench\", \n",
        "  \"e1071\", \n",
        "  \"dplyr\", \n",
        "  \"caret\", #  Contains functions to streamline the model training process for complex regression and classification problems\n",
        "  \"pls\", # For Partial Least Squares \n",
        "  \"lars\", # For Penalized Models\n",
        "  \"elasticnet\", # For Penalized Models\n",
        "  \"AppliedPredictiveModeling\"  \n",
        ")\n",
        "ipak(packages)"
      ],
      "execution_count": null,
      "outputs": []
    },
    {
      "cell_type": "markdown",
      "metadata": {
        "id": "bDiPAe3Hk9ZV",
        "colab_type": "text"
      },
      "source": [
        "## Dataset Import\n",
        "Dataset found at: https://www.kaggle.com/new-york-city/nyc-property-sales#"
      ]
    },
    {
      "cell_type": "code",
      "metadata": {
        "id": "PYQ57dgIk9ZW",
        "colab_type": "code",
        "colab": {
          "base_uri": "https://localhost:8080/",
          "height": 276
        },
        "outputId": "cacebacb-4d00-4e99-ec02-d42b1cd9783f"
      },
      "source": [
        "# This will directly reference the .csv embedded in our Project's Google Drive.\n",
        "fileID <- \"1t7APs7P43E7dQ_4JUUwFjvHHGruRixDh\"\n",
        "filePath <- sprintf(\"https://drive.google.com/uc?id=%s\",fileID)\n",
        "\n",
        "cat(sprintf(\"Reading file `%s` at %s...\\n\",\"nyc-rolling-sales.csv\",filePath))\n",
        "nyc.data <- read.csv(filePath)\n",
        "\n",
        "cat(\"Number of Rows: \",nrow(nyc.data), \"\\nNumber of Cols: \", ncol(nyc.data),\"\\nShowing first 2 rows...\")\n",
        "head(nyc.data, 2)"
      ],
      "execution_count": 9,
      "outputs": [
        {
          "output_type": "stream",
          "text": [
            "Reading file `nyc-rolling-sales.csv` at https://drive.google.com/uc?id=1t7APs7P43E7dQ_4JUUwFjvHHGruRixDh...\n",
            "Number of Rows:  84548 \n",
            "Number of Cols:  22 \n",
            "Showing first 2 rows..."
          ],
          "name": "stdout"
        },
        {
          "output_type": "display_data",
          "data": {
            "text/plain": [
              "  X BOROUGH NEIGHBORHOOD  BUILDING.CLASS.CATEGORY                    \n",
              "1 4 1       ALPHABET CITY 07 RENTALS - WALKUP APARTMENTS             \n",
              "2 5 1       ALPHABET CITY 07 RENTALS - WALKUP APARTMENTS             \n",
              "  TAX.CLASS.AT.PRESENT BLOCK LOT EASE.MENT BUILDING.CLASS.AT.PRESENT\n",
              "1 2A                   392    6  NA        C2                       \n",
              "2 2                    399   26  NA        C7                       \n",
              "  ADDRESS               ⋯ RESIDENTIAL.UNITS COMMERCIAL.UNITS TOTAL.UNITS\n",
              "1 153 AVENUE B          ⋯  5                0                 5         \n",
              "2 234 EAST 4TH   STREET ⋯ 28                3                31         \n",
              "  LAND.SQUARE.FEET GROSS.SQUARE.FEET YEAR.BUILT TAX.CLASS.AT.TIME.OF.SALE\n",
              "1 1633             6440              1900       2                        \n",
              "2 4616             18690             1900       2                        \n",
              "  BUILDING.CLASS.AT.TIME.OF.SALE SALE.PRICE SALE.DATE          \n",
              "1 C2                             6625000    2017-07-19 00:00:00\n",
              "2 C7                              -         2016-12-14 00:00:00"
            ],
            "text/latex": "A data.frame: 2 × 22\n\\begin{tabular}{r|lllllllllllllllllllll}\n  & X & BOROUGH & NEIGHBORHOOD & BUILDING.CLASS.CATEGORY & TAX.CLASS.AT.PRESENT & BLOCK & LOT & EASE.MENT & BUILDING.CLASS.AT.PRESENT & ADDRESS & ⋯ & RESIDENTIAL.UNITS & COMMERCIAL.UNITS & TOTAL.UNITS & LAND.SQUARE.FEET & GROSS.SQUARE.FEET & YEAR.BUILT & TAX.CLASS.AT.TIME.OF.SALE & BUILDING.CLASS.AT.TIME.OF.SALE & SALE.PRICE & SALE.DATE\\\\\n  & <int> & <int> & <fct> & <fct> & <fct> & <int> & <int> & <lgl> & <fct> & <fct> & ⋯ & <int> & <int> & <int> & <fct> & <fct> & <int> & <int> & <fct> & <fct> & <fct>\\\\\n\\hline\n\t1 & 4 & 1 & ALPHABET CITY & 07 RENTALS - WALKUP APARTMENTS              & 2A & 392 &  6 & NA & C2 & 153 AVENUE B          & ⋯ &  5 & 0 &  5 & 1633 & 6440  & 1900 & 2 & C2 & 6625000 & 2017-07-19 00:00:00\\\\\n\t2 & 5 & 1 & ALPHABET CITY & 07 RENTALS - WALKUP APARTMENTS              & 2  & 399 & 26 & NA & C7 & 234 EAST 4TH   STREET & ⋯ & 28 & 3 & 31 & 4616 & 18690 & 1900 & 2 & C7 &  -      & 2016-12-14 00:00:00\\\\\n\\end{tabular}\n",
            "text/markdown": "\nA data.frame: 2 × 22\n\n| <!--/--> | X &lt;int&gt; | BOROUGH &lt;int&gt; | NEIGHBORHOOD &lt;fct&gt; | BUILDING.CLASS.CATEGORY &lt;fct&gt; | TAX.CLASS.AT.PRESENT &lt;fct&gt; | BLOCK &lt;int&gt; | LOT &lt;int&gt; | EASE.MENT &lt;lgl&gt; | BUILDING.CLASS.AT.PRESENT &lt;fct&gt; | ADDRESS &lt;fct&gt; | ⋯ ⋯ | RESIDENTIAL.UNITS &lt;int&gt; | COMMERCIAL.UNITS &lt;int&gt; | TOTAL.UNITS &lt;int&gt; | LAND.SQUARE.FEET &lt;fct&gt; | GROSS.SQUARE.FEET &lt;fct&gt; | YEAR.BUILT &lt;int&gt; | TAX.CLASS.AT.TIME.OF.SALE &lt;int&gt; | BUILDING.CLASS.AT.TIME.OF.SALE &lt;fct&gt; | SALE.PRICE &lt;fct&gt; | SALE.DATE &lt;fct&gt; |\n|---|---|---|---|---|---|---|---|---|---|---|---|---|---|---|---|---|---|---|---|---|---|\n| 1 | 4 | 1 | ALPHABET CITY | 07 RENTALS - WALKUP APARTMENTS              | 2A | 392 |  6 | NA | C2 | 153 AVENUE B          | ⋯ |  5 | 0 |  5 | 1633 | 6440  | 1900 | 2 | C2 | 6625000 | 2017-07-19 00:00:00 |\n| 2 | 5 | 1 | ALPHABET CITY | 07 RENTALS - WALKUP APARTMENTS              | 2  | 399 | 26 | NA | C7 | 234 EAST 4TH   STREET | ⋯ | 28 | 3 | 31 | 4616 | 18690 | 1900 | 2 | C7 |  -      | 2016-12-14 00:00:00 |\n\n",
            "text/html": [
              "<table>\n",
              "<caption>A data.frame: 2 × 22</caption>\n",
              "<thead>\n",
              "\t<tr><th></th><th scope=col>X</th><th scope=col>BOROUGH</th><th scope=col>NEIGHBORHOOD</th><th scope=col>BUILDING.CLASS.CATEGORY</th><th scope=col>TAX.CLASS.AT.PRESENT</th><th scope=col>BLOCK</th><th scope=col>LOT</th><th scope=col>EASE.MENT</th><th scope=col>BUILDING.CLASS.AT.PRESENT</th><th scope=col>ADDRESS</th><th scope=col>⋯</th><th scope=col>RESIDENTIAL.UNITS</th><th scope=col>COMMERCIAL.UNITS</th><th scope=col>TOTAL.UNITS</th><th scope=col>LAND.SQUARE.FEET</th><th scope=col>GROSS.SQUARE.FEET</th><th scope=col>YEAR.BUILT</th><th scope=col>TAX.CLASS.AT.TIME.OF.SALE</th><th scope=col>BUILDING.CLASS.AT.TIME.OF.SALE</th><th scope=col>SALE.PRICE</th><th scope=col>SALE.DATE</th></tr>\n",
              "\t<tr><th></th><th scope=col>&lt;int&gt;</th><th scope=col>&lt;int&gt;</th><th scope=col>&lt;fct&gt;</th><th scope=col>&lt;fct&gt;</th><th scope=col>&lt;fct&gt;</th><th scope=col>&lt;int&gt;</th><th scope=col>&lt;int&gt;</th><th scope=col>&lt;lgl&gt;</th><th scope=col>&lt;fct&gt;</th><th scope=col>&lt;fct&gt;</th><th scope=col>⋯</th><th scope=col>&lt;int&gt;</th><th scope=col>&lt;int&gt;</th><th scope=col>&lt;int&gt;</th><th scope=col>&lt;fct&gt;</th><th scope=col>&lt;fct&gt;</th><th scope=col>&lt;int&gt;</th><th scope=col>&lt;int&gt;</th><th scope=col>&lt;fct&gt;</th><th scope=col>&lt;fct&gt;</th><th scope=col>&lt;fct&gt;</th></tr>\n",
              "</thead>\n",
              "<tbody>\n",
              "\t<tr><th scope=row>1</th><td>4</td><td>1</td><td>ALPHABET CITY</td><td>07 RENTALS - WALKUP APARTMENTS             </td><td>2A</td><td>392</td><td> 6</td><td>NA</td><td>C2</td><td>153 AVENUE B         </td><td>⋯</td><td> 5</td><td>0</td><td> 5</td><td>1633</td><td>6440 </td><td>1900</td><td>2</td><td>C2</td><td>6625000</td><td>2017-07-19 00:00:00</td></tr>\n",
              "\t<tr><th scope=row>2</th><td>5</td><td>1</td><td>ALPHABET CITY</td><td>07 RENTALS - WALKUP APARTMENTS             </td><td>2 </td><td>399</td><td>26</td><td>NA</td><td>C7</td><td>234 EAST 4TH   STREET</td><td>⋯</td><td>28</td><td>3</td><td>31</td><td>4616</td><td>18690</td><td>1900</td><td>2</td><td>C7</td><td> -     </td><td>2016-12-14 00:00:00</td></tr>\n",
              "</tbody>\n",
              "</table>\n"
            ]
          },
          "metadata": {
            "tags": []
          }
        }
      ]
    },
    {
      "cell_type": "markdown",
      "metadata": {
        "id": "4eWXG6eJk9Za",
        "colab_type": "text"
      },
      "source": [
        "## Data Dictionary"
      ]
    },
    {
      "cell_type": "code",
      "metadata": {
        "id": "p0Z1csaNk9Za",
        "colab_type": "code",
        "colab": {},
        "outputId": "061d2c86-3f93-42ff-a6be-8827600f1d5f"
      },
      "source": [
        "names(nyc.data)"
      ],
      "execution_count": null,
      "outputs": [
        {
          "output_type": "display_data",
          "data": {
            "text/html": [
              "<style>\n",
              ".list-inline {list-style: none; margin:0; padding: 0}\n",
              ".list-inline>li {display: inline-block}\n",
              ".list-inline>li:not(:last-child)::after {content: \"\\00b7\"; padding: 0 .5ex}\n",
              "</style>\n",
              "<ol class=list-inline><li>'X'</li><li>'BOROUGH'</li><li>'NEIGHBORHOOD'</li><li>'BUILDING.CLASS.CATEGORY'</li><li>'TAX.CLASS.AT.PRESENT'</li><li>'BLOCK'</li><li>'LOT'</li><li>'EASE.MENT'</li><li>'BUILDING.CLASS.AT.PRESENT'</li><li>'ADDRESS'</li><li>'APARTMENT.NUMBER'</li><li>'ZIP.CODE'</li><li>'RESIDENTIAL.UNITS'</li><li>'COMMERCIAL.UNITS'</li><li>'TOTAL.UNITS'</li><li>'LAND.SQUARE.FEET'</li><li>'GROSS.SQUARE.FEET'</li><li>'YEAR.BUILT'</li><li>'TAX.CLASS.AT.TIME.OF.SALE'</li><li>'BUILDING.CLASS.AT.TIME.OF.SALE'</li><li>'SALE.PRICE'</li><li>'SALE.DATE'</li></ol>\n"
            ],
            "text/latex": "\\begin{enumerate*}\n\\item 'X'\n\\item 'BOROUGH'\n\\item 'NEIGHBORHOOD'\n\\item 'BUILDING.CLASS.CATEGORY'\n\\item 'TAX.CLASS.AT.PRESENT'\n\\item 'BLOCK'\n\\item 'LOT'\n\\item 'EASE.MENT'\n\\item 'BUILDING.CLASS.AT.PRESENT'\n\\item 'ADDRESS'\n\\item 'APARTMENT.NUMBER'\n\\item 'ZIP.CODE'\n\\item 'RESIDENTIAL.UNITS'\n\\item 'COMMERCIAL.UNITS'\n\\item 'TOTAL.UNITS'\n\\item 'LAND.SQUARE.FEET'\n\\item 'GROSS.SQUARE.FEET'\n\\item 'YEAR.BUILT'\n\\item 'TAX.CLASS.AT.TIME.OF.SALE'\n\\item 'BUILDING.CLASS.AT.TIME.OF.SALE'\n\\item 'SALE.PRICE'\n\\item 'SALE.DATE'\n\\end{enumerate*}\n",
            "text/markdown": "1. 'X'\n2. 'BOROUGH'\n3. 'NEIGHBORHOOD'\n4. 'BUILDING.CLASS.CATEGORY'\n5. 'TAX.CLASS.AT.PRESENT'\n6. 'BLOCK'\n7. 'LOT'\n8. 'EASE.MENT'\n9. 'BUILDING.CLASS.AT.PRESENT'\n10. 'ADDRESS'\n11. 'APARTMENT.NUMBER'\n12. 'ZIP.CODE'\n13. 'RESIDENTIAL.UNITS'\n14. 'COMMERCIAL.UNITS'\n15. 'TOTAL.UNITS'\n16. 'LAND.SQUARE.FEET'\n17. 'GROSS.SQUARE.FEET'\n18. 'YEAR.BUILT'\n19. 'TAX.CLASS.AT.TIME.OF.SALE'\n20. 'BUILDING.CLASS.AT.TIME.OF.SALE'\n21. 'SALE.PRICE'\n22. 'SALE.DATE'\n\n\n",
            "text/plain": [
              " [1] \"X\"                              \"BOROUGH\"                       \n",
              " [3] \"NEIGHBORHOOD\"                   \"BUILDING.CLASS.CATEGORY\"       \n",
              " [5] \"TAX.CLASS.AT.PRESENT\"           \"BLOCK\"                         \n",
              " [7] \"LOT\"                            \"EASE.MENT\"                     \n",
              " [9] \"BUILDING.CLASS.AT.PRESENT\"      \"ADDRESS\"                       \n",
              "[11] \"APARTMENT.NUMBER\"               \"ZIP.CODE\"                      \n",
              "[13] \"RESIDENTIAL.UNITS\"              \"COMMERCIAL.UNITS\"              \n",
              "[15] \"TOTAL.UNITS\"                    \"LAND.SQUARE.FEET\"              \n",
              "[17] \"GROSS.SQUARE.FEET\"              \"YEAR.BUILT\"                    \n",
              "[19] \"TAX.CLASS.AT.TIME.OF.SALE\"      \"BUILDING.CLASS.AT.TIME.OF.SALE\"\n",
              "[21] \"SALE.PRICE\"                     \"SALE.DATE\"                     "
            ]
          },
          "metadata": {
            "tags": []
          }
        }
      ]
    },
    {
      "cell_type": "markdown",
      "metadata": {
        "id": "i0vkBfqgk9Zd",
        "colab_type": "text"
      },
      "source": [
        "| **Column Name**                  | **Description**                                                                                                                                                            |\n",
        "|----------------------------------|----------------------------------------------------------------------------------------------------------------------------------------------------------------------------|\n",
        "| `ADDRESS`                        |                                                                                                                                                                            |\n",
        "| `APARTMENT NUMBER`               |                                                                                                                                                                            |\n",
        "| `BLOCK`                          | The block number (up to 5 digits)                                                                                                                                          |\n",
        "| `BOROUGH`                        | A digit code for the borough the property is located in.<br> In order, these are:<br>(1) Manhattan,<br>(2) Bronx,<br>(3) Brooklyn,<br>(4)Queens, and<br>(5) Staten Island. |\n",
        "| `BUILDING CLASS AT PRESENT`      |                                                                                                                                                                            |\n",
        "| `BUILDING CLASS AT TIME OF SALE` |                                                                                                                                                                            |\n",
        "| `BUILDING CLASS CATEGORY`        |                                                                                                                                                                            |\n",
        "| `COMMERCIAL UNITS`               |                                                                                                                                                                            |\n",
        "| `EASE-MENT`                      |                                                                                                                                                                            |\n",
        "| `GROSS SQUARE FEET`              |                                                                                                                                                                            |\n",
        "| `H1`                             |                                                                                                                                                                            |\n",
        "| `LAND SQUARE FEET`               |                                                                                                                                                                            |\n",
        "| `LOT`                            | The lot number (up to 4 digits)                                                                                                                                            |\n",
        "| `NEIGHBORHOOD`                   |                                                                                                                                                                            |\n",
        "| `RESIDENTIAL UNITS`              |                                                                                                                                                                            |\n",
        "| `SALE DATE`                      |                                                                                                                                                                            |\n",
        "| `SALE PRICE`                     |                                                                                                                                                                            |\n",
        "| `TAX CLASS AT PRESENT`           |                                                                                                                                                                            |\n",
        "| `TAX CLASS AT TIME OF SALE`      |                                                                                                                                                                            |\n",
        "| `TOTAL UNITS`                    |                                                                                                                                                                            |\n",
        "| `YEAR BUILT`                     |                                                                                                                                                                            |\n",
        "| `ZIP CODE`                       |                                                                                                                                                                            |\n",
        "| `ADDRESS`                        |                                                                                                                                                                            |\n",
        "| `APARTMENT NUMBER`               |                                                                                                                                                                            |\n",
        "| `BLOCK`                          |                                                                                                                                                                            |\n",
        "| `BOROUGH`                        |                                                                                                                                                                            |\n",
        "| `BUILDING CLASS AT PRESENT`      | Refer to code here: <br>https://www1.nyc.gov/assets/finance/jump/hlpbldgcode.html                                                                                          |\n",
        "| `BUILDING CLASS AT TIME OF SALE` | Refer to code here: <br>https://www1.nyc.gov/assets/finance/jump/hlpbldgcode.html                                                                                          |\n",
        "| `BUILDING CLASS CATEGORY`        | Refer to code here: <br>https://www1.nyc.gov/assets/finance/jump/hlpbldgcode.html                                                                                          |\n",
        "| `COMMERCIAL UNITS`               |                                                                                                                                                                            |\n",
        "| `EASE-MENT`                      |                                                                                                                                                                            |\n",
        "| `GROSS SQUARE FEET`              |                                                                                                                                                                            |\n",
        "| `H1`                             |                                                                                                                                                                            |\n",
        "| `LAND SQUARE FEET`               |                                                                                                                                                                            |\n",
        "| `LOT`                            |                                                                                                                                                                            |\n",
        "| `NEIGHBORHOOD`                   |                                                                                                                                                                            |\n",
        "| `RESIDENTIAL UNITS`              | The number of houses/apartments intended for use as a place of residence at the address.      <br>(https://www.lawinsider.com/dictionary/residential-unit)                 |\n",
        "| `SALE DATE`                      |                                                                                                                                                                            |\n",
        "| `SALE PRICE`                     |                                                                                                                                                                            |\n",
        "| `TAX CLASS AT PRESENT`           |                                                                                                                                                                            |\n",
        "| `TAX CLASS AT TIME OF SALE`      |                                                                                                                                                                            |\n",
        "| `TOTAL UNITS`                    |                                                                                                                                                                            |\n",
        "| `YEAR BUILT`                     |                                                                                                                                                                            |\n",
        "| `ZIP CODE`                       | The 5-digit zip code of the address.                                                                                                                                       |"
      ]
    },
    {
      "cell_type": "code",
      "metadata": {
        "id": "9wrlLT6ak9Zd",
        "colab_type": "code",
        "colab": {}
      },
      "source": [
        ""
      ],
      "execution_count": null,
      "outputs": []
    }
  ]
}