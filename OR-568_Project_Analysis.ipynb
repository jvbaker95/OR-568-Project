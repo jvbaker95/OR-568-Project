{
  "nbformat": 4,
  "nbformat_minor": 0,
  "metadata": {
    "colab": {
      "name": "OR-568_Project_Analysis.ipynb",
      "provenance": [],
      "collapsed_sections": [],
      "toc_visible": true
    },
    "kernelspec": {
      "display_name": "R",
      "language": "R",
      "name": "ir"
    },
    "language_info": {
      "codemirror_mode": "r",
      "file_extension": ".r",
      "mimetype": "text/x-r-source",
      "name": "R",
      "pygments_lexer": "r",
      "version": "4.0.2"
    }
  },
  "cells": [
    {
      "cell_type": "markdown",
      "metadata": {
        "id": "gdH9IFA9k9ZM"
      },
      "source": [
        "# OR 568 - Rogers Rangers\n",
        "## NYC Rolling Sales Dataset\n",
        "\n",
        "James Baker\n",
        "\n",
        "Arturo Davila-Andino\n",
        "\n",
        "Gridihar Kaushik Ramachandran (GK)\n",
        "\n",
        "Andrew So"
      ]
    },
    {
      "cell_type": "markdown",
      "metadata": {
        "id": "cnbbh4XKk9ZO"
      },
      "source": [
        "## Developer Notes\n",
        "\n",
        "*James B*: For tables, I generally build them in excel and then convert them into Markdown tables at these two links:\n",
        "* https://tableconvert.com/\n",
        "* https://www.tablesgenerator.com/markdown_tables"
      ]
    },
    {
      "cell_type": "markdown",
      "metadata": {
        "id": "vQN3hhBXk9ZO"
      },
      "source": [
        "# Initial Setup / Package Imports"
      ]
    },
    {
      "cell_type": "code",
      "metadata": {
        "colab": {
          "base_uri": "https://localhost:8080/",
          "height": 405
        },
        "id": "XOUWagt-k9ZP",
        "scrolled": true,
        "outputId": "b97a3eea-f040-4b8b-c291-5262bf7224ee"
      },
      "source": [
        "# ipak function: install and load multiple R packages.\n",
        "# check to see if packages are installed. Install them if they are not, then load them into the R session.\n",
        "ipak <- function(pkg){\n",
        "    new.pkg <- pkg[!(pkg %in% installed.packages()[, \"Package\"])]\n",
        "    if (length(new.pkg)) \n",
        "        install.packages(new.pkg, dependencies = TRUE)\n",
        "    sapply(pkg, require, character.only = TRUE)\n",
        "}\n",
        "\n",
        "# usage\n",
        "packages <- c(\n",
        "  \"ggplot2\", \n",
        "  \"plyr\", \n",
        "  \"mlbench\", \n",
        "  \"e1071\", \n",
        "  \"dplyr\", \n",
        "  \"caret\", #  Contains functions to streamline the model training process for complex regression and classification problems\n",
        "  \"pls\", # For Partial Least Squares \n",
        "  \"lars\", # For Penalized Models\n",
        "  \"elasticnet\", # For Penalized Models\n",
        "  \"AppliedPredictiveModeling\",\n",
        "  \"tidyr\",\n",
        "  \"magrittr\",\n",
        "  \"stringr\",\n",
        "  \"readr\",\n",
        "  \"nortest\",\n",
        "  \"epiDisplay\",\n",
        "  \"corrplot\",\n",
        "  \"RColorBrewer\", \n",
        "  \"bestNormalize\",\n",
        "  \"randomForest\"\n",
        ")\n",
        "ipak(packages)"
      ],
      "execution_count": null,
      "outputs": [
        {
          "output_type": "stream",
          "text": [
            "Loading required package: randomForest\n",
            "\n",
            "randomForest 4.6-14\n",
            "\n",
            "Type rfNews() to see new features/changes/bug fixes.\n",
            "\n",
            "\n",
            "Attaching package: ‘randomForest’\n",
            "\n",
            "\n",
            "The following object is masked from ‘package:dplyr’:\n",
            "\n",
            "    combine\n",
            "\n",
            "\n",
            "The following object is masked from ‘package:ggplot2’:\n",
            "\n",
            "    margin\n",
            "\n",
            "\n"
          ],
          "name": "stderr"
        },
        {
          "output_type": "display_data",
          "data": {
            "text/plain": [
              "                  ggplot2                      plyr                   mlbench \n",
              "                     TRUE                      TRUE                      TRUE \n",
              "                    e1071                     dplyr                     caret \n",
              "                     TRUE                      TRUE                      TRUE \n",
              "                      pls                      lars                elasticnet \n",
              "                     TRUE                      TRUE                      TRUE \n",
              "AppliedPredictiveModeling                     tidyr                  magrittr \n",
              "                     TRUE                      TRUE                      TRUE \n",
              "                  stringr                     readr                   nortest \n",
              "                     TRUE                      TRUE                      TRUE \n",
              "               epiDisplay                  corrplot              RColorBrewer \n",
              "                     TRUE                      TRUE                      TRUE \n",
              "            bestNormalize              randomForest \n",
              "                     TRUE                      TRUE "
            ],
            "text/latex": "\\begin{description*}\n\\item[ggplot2] TRUE\n\\item[plyr] TRUE\n\\item[mlbench] TRUE\n\\item[e1071] TRUE\n\\item[dplyr] TRUE\n\\item[caret] TRUE\n\\item[pls] TRUE\n\\item[lars] TRUE\n\\item[elasticnet] TRUE\n\\item[AppliedPredictiveModeling] TRUE\n\\item[tidyr] TRUE\n\\item[magrittr] TRUE\n\\item[stringr] TRUE\n\\item[readr] TRUE\n\\item[nortest] TRUE\n\\item[epiDisplay] TRUE\n\\item[corrplot] TRUE\n\\item[RColorBrewer] TRUE\n\\item[bestNormalize] TRUE\n\\item[randomForest] TRUE\n\\end{description*}\n",
            "text/markdown": "ggplot2\n:   TRUEplyr\n:   TRUEmlbench\n:   TRUEe1071\n:   TRUEdplyr\n:   TRUEcaret\n:   TRUEpls\n:   TRUElars\n:   TRUEelasticnet\n:   TRUEAppliedPredictiveModeling\n:   TRUEtidyr\n:   TRUEmagrittr\n:   TRUEstringr\n:   TRUEreadr\n:   TRUEnortest\n:   TRUEepiDisplay\n:   TRUEcorrplot\n:   TRUERColorBrewer\n:   TRUEbestNormalize\n:   TRUErandomForest\n:   TRUE\n\n",
            "text/html": [
              "<style>\n",
              ".dl-inline {width: auto; margin:0; padding: 0}\n",
              ".dl-inline>dt, .dl-inline>dd {float: none; width: auto; display: inline-block}\n",
              ".dl-inline>dt::after {content: \":\\0020\"; padding-right: .5ex}\n",
              ".dl-inline>dt:not(:first-of-type) {padding-left: .5ex}\n",
              "</style><dl class=dl-inline><dt>ggplot2</dt><dd>TRUE</dd><dt>plyr</dt><dd>TRUE</dd><dt>mlbench</dt><dd>TRUE</dd><dt>e1071</dt><dd>TRUE</dd><dt>dplyr</dt><dd>TRUE</dd><dt>caret</dt><dd>TRUE</dd><dt>pls</dt><dd>TRUE</dd><dt>lars</dt><dd>TRUE</dd><dt>elasticnet</dt><dd>TRUE</dd><dt>AppliedPredictiveModeling</dt><dd>TRUE</dd><dt>tidyr</dt><dd>TRUE</dd><dt>magrittr</dt><dd>TRUE</dd><dt>stringr</dt><dd>TRUE</dd><dt>readr</dt><dd>TRUE</dd><dt>nortest</dt><dd>TRUE</dd><dt>epiDisplay</dt><dd>TRUE</dd><dt>corrplot</dt><dd>TRUE</dd><dt>RColorBrewer</dt><dd>TRUE</dd><dt>bestNormalize</dt><dd>TRUE</dd><dt>randomForest</dt><dd>TRUE</dd></dl>\n"
            ]
          },
          "metadata": {
            "tags": []
          }
        }
      ]
    },
    {
      "cell_type": "markdown",
      "metadata": {
        "id": "bDiPAe3Hk9ZV"
      },
      "source": [
        "## Dataset Import\n",
        "Dataset found at: https://www.kaggle.com/new-york-city/nyc-property-sales#\n",
        "\n",
        "\n",
        "We use a a try-catch block in an attempt to find the NYC Rolling Sales data locally; if it doesn't exist, then read it from the hardcoded Google Drive link."
      ]
    },
    {
      "cell_type": "markdown",
      "metadata": {
        "id": "LGpj8MnC1n3B"
      },
      "source": [
        "**Note** We used a variety of both manual and automated methods to massage the data before it hits the R pipeline:\n",
        "\n",
        "* We used a web-facing API called [Geocod.io](https://www.geocod.io/) to add associated latitude/longitudal data for potential use in the model.\n",
        "\n",
        "* In addition, we used a PowerShell Script `Process-Address.ps1` in an attempt to strip house numbers from the address in an attempt to categorize records by street name (e.g., properties on Broadway, 5th Avenue, 1st Street, etc.)\n",
        "\n",
        "**These changes resulted in our using a new dataset called `nyc-rolling-sales-latlong-streets.csv`, which the project will attempt to source locally (if it exists) or via an open endpoint on the Team's Google Drive.**"
      ]
    },
    {
      "cell_type": "code",
      "metadata": {
        "id": "PYQ57dgIk9ZW"
      },
      "source": [
        "# The filepath on Google Drive.\n",
        "drive.fileID <- \"1E8NdpOww8IKdN1Kw0NcDPQxycU__hsVu\" \n",
        "drive.filePath <- sprintf(\"https://drive.google.com/uc?id=%s\",drive.fileID)\n",
        "file.name <- \"nyc-rolling-sales-latlong-streets.csv\"\n",
        "\n",
        "# This is a try-catch block in an attempt to find the NYC Rolling Sales data\n",
        "# locally; if it doesn't exist, then read it from the hardcoded Google Drive link.\n",
        "nyc.data <- tryCatch(\n",
        "    # Try\n",
        "    {\n",
        "      message(sprintf(\"Attempting to read `%s` locally...\",file.name))\n",
        "      read.csv(file.name)\n",
        "    },\n",
        "    # Catch\n",
        "    error = function(cond) {\n",
        "      message(sprintf(\"Will use Google Drive Version instead at %s...\", drive.filePath))\n",
        "      return( read.csv(drive.filePath) )\n",
        "    },\n",
        "    # Finally\n",
        "    finally = function(cond) {\n",
        "      return(message(\"Unknown error occured!\"))\n",
        "    }\n",
        ")\n",
        "\n",
        "cat(\"Number of Rows: \",nrow(nyc.data), \"\\nNumber of Cols: \", ncol(nyc.data),\"\\nShowing first 2 rows...\")\n",
        "head(nyc.data, 2)"
      ],
      "execution_count": null,
      "outputs": []
    },
    {
      "cell_type": "markdown",
      "metadata": {
        "id": "4eWXG6eJk9Za"
      },
      "source": [
        "## Data Dictionary\n",
        "\n",
        "https://www1.nyc.gov/assets/finance/downloads/pdf/07pdf/glossary_rsf071607.pdf"
      ]
    },
    {
      "cell_type": "markdown",
      "metadata": {
        "id": "mgiT2dSSQB0g"
      },
      "source": [
        "*James B.:* I used PowerShell to extract/sort the column names; and then I folded a few of them together."
      ]
    },
    {
      "cell_type": "markdown",
      "metadata": {
        "id": "i0vkBfqgk9Zd"
      },
      "source": [
        "| Column   Name                                                       | Description                                                                                                                                                                                                                                                                                                                                                                                                                                                                                                                                                                                                                                                                                                                                                                                                                                                                                                                                                                                                                                                   |\n",
        "|---------------------------------------------------------------------|---------------------------------------------------------------------------------------------------------------------------------------------------------------------------------------------------------------------------------------------------------------------------------------------------------------------------------------------------------------------------------------------------------------------------------------------------------------------------------------------------------------------------------------------------------------------------------------------------------------------------------------------------------------------------------------------------------------------------------------------------------------------------------------------------------------------------------------------------------------------------------------------------------------------------------------------------------------------------------------------------------------------------------------------------------------|\n",
        "| `ADDRESS`                                                           |                                                                                                                                                                                                                                                                                                                                                                                                                                                                                                                                                                                                                                                                                                                                                                                                                                                                                                                                                                                                                                                               |\n",
        "| `APARTMENT   NUMBER`                                                |                                                                                                                                                                                                                                                                                                                                                                                                                                                                                                                                                                                                                                                                                                                                                                                                                                                                                                                                                                                                                                                               |\n",
        "| `BLOCK`                                                             | The block number (up to 5   digits)                                                                                                                                                                                                                                                                                                                                                                                                                                                                                                                                                                                                                                                                                                                                                                                                                                                                                                                                                                                                                           |\n",
        "| `BOROUGH`                                                           | A digit code for the borough the   property is located in.      <br>      In order, these are:      <br>(1) Manhattan,      <br>(2) Bronx,       <br>(3) Brooklyn,       <br>(4) Queens, and       <br>(5) Staten Island.                                                                                                                                                                                                                                                                                                                                                                                                                                                                                                                                                                                                                                                                                                                                                                                                                                     |\n",
        "| `BUILDING   CLASS`<br>      (`AT PRESENT` and<br>`AT TIME OF SALE`) | Refer to code here: <br>   https://www1.nyc.gov/assets/finance/jump/hlpbldgcode.html                                                                                                                                                                                                                                                                                                                                                                                                                                                                                                                                                                                                                                                                                                                                                                                                                                                                                                                                                                          |\n",
        "| `BUILDING   CLASS CATEGORY`                                         | Refer to code here: <br>   https://www1.nyc.gov/assets/finance/jump/hlpbldgcode.html                                                                                                                                                                                                                                                                                                                                                                                                                                                                                                                                                                                                                                                                                                                                                                                                                                                                                                                                                                          |\n",
        "| `COMMERCIAL   UNITS`                                                |                                                                                                                                                                                                                                                                                                                                                                                                                                                                                                                                                                                                                                                                                                                                                                                                                                                                                                                                                                                                                                                               |\n",
        "| `EASE-MENT`                                                         | NO DATA ENTERED                                                                                                                                                                                                                                                                                                                                                                                                                                                                                                                                                                                                                                                                                                                                                                                                                                                                                                                                                                                                                                               |\n",
        "| `GROSS   SQUARE FEET`                                               |                                                                                                                                                                                                                                                                                                                                                                                                                                                                                                                                                                                                                                                                                                                                                                                                                                                                                                                                                                                                                                                               |\n",
        "| `H1`                                                                |                                                                                                                                                                                                                                                                                                                                                                                                                                                                                                                                                                                                                                                                                                                                                                                                                                                                                                                                                                                                                                                               |\n",
        "| `LAND   SQUARE FEET`                                                |                                                                                                                                                                                                                                                                                                                                                                                                                                                                                                                                                                                                                                                                                                                                                                                                                                                                                                                                                                                                                                                               |\n",
        "| `LOT`                                                               | The lot number (up to 4 digits)                                                                                                                                                                                                                                                                                                                                                                                                                                                                                                                                                                                                                                                                                                                                                                                                                                                                                                                                                                                                                               |\n",
        "| `NEIGHBORHOOD`                                                      |                                                                                                                                                                                                                                                                                                                                                                                                                                                                                                                                                                                                                                                                                                                                                                                                                                                                                                                                                                                                                                                               |\n",
        "| `RESIDENTIAL   UNITS`                                               | The number of houses/apartments   intended for use as a place of residence at the address.      <br> (https://www.lawinsider.com/dictionary/residential-unit)                                                                                                                                                                                                                                                                                                                                                                                                                                                                                                                                                                                                                                                                                                                                                                                                                                                                                                 |\n",
        "| `SALE   DATE`                                                       |                                                                                                                                                                                                                                                                                                                                                                                                                                                                                                                                                                                                                                                                                                                                                                                                                                                                                                                                                                                                                                                               |\n",
        "| `SALE   PRICE`                                                      |                                                                                                                                                                                                                                                                                                                                                                                                                                                                                                                                                                                                                                                                                                                                                                                                                                                                                                                                                                                                                                                               |\n",
        "| `TAX   CLASS`<br>(`AT PRESENT` and<br>`AT SALE`)                    | Property in NYC is divided into   4 classes:      <br>      Class 1: Most residential property of up to three units<br>(family   homes and small stores or offices with one or two apartments attached),   <br>and most condominiums that are not more than three stories.      <br><br>      Class 2: All other property that is not in Class 1 and is primarily   residential<br>(rentals, cooperatives and condominiums). Class 2   includes:      <br>   • Sub-Class 2a  (4 -    6 unit rental building);      <br>   • Sub-Class 2b  (7 - 10 unit rental building);      <br>   • Sub-Class 2c  (2 - 10 unit cooperative or condominium);   and      <br>   • Class 2  (11 units or more).      <br><br>      Class 3: Most utility property.      <br><br>      Class 4: All commercial and industrial properties, such as office,   retail,<br> factory buildings and all other properties not included in   tax classes 1, 2 or 3.      <br><br>      SOURCE:   https://www1.nyc.gov/site/finance/taxes/definitions-of-property-assessment-terms.page |\n",
        "| `TOTAL   UNITS`                                                     |                                                                                                                                                                                                                                                                                                                                                                                                                                                                                                                                                                                                                                                                                                                                                                                                                                                                                                                                                                                                                                                               |\n",
        "| `YEAR   BUILT`                                                      | The 5-digit zip code of the   address                                                                                                                                                                                                                                                                                                                                                                                                                                                                                                                                                                                                                                                                                                                                                                                                                                                                                                                                                                                                                         |\n",
        "| `ZIP   CODE`                                                        |                                                                                                                                                                                                                                                                                                                                                                                                                                                                                                                                                                                                                                                                                                                                                                                                                                                                                                                                                                                                                                                               |"
      ]
    },
    {
      "cell_type": "markdown",
      "metadata": {
        "id": "8us7lG8gMRNQ"
      },
      "source": [
        "# Data Processing"
      ]
    },
    {
      "cell_type": "markdown",
      "metadata": {
        "id": "68QLTxGT8So8"
      },
      "source": [
        "## Initial Exploration"
      ]
    },
    {
      "cell_type": "markdown",
      "metadata": {
        "id": "JnysmMU61n3P"
      },
      "source": [
        "First, we examine the head of the data to get an idea of the structure."
      ]
    },
    {
      "cell_type": "code",
      "metadata": {
        "colab": {
          "base_uri": "https://localhost:8080/",
          "height": 192
        },
        "id": "ktqZoiu91n3Q",
        "outputId": "350d3381-996b-4833-9134-1f9891a1066c"
      },
      "source": [
        "# First, we examine the head of the data to get an idea of the structure.\n",
        "head(nyc.data,2)\n",
        "\n",
        "# Make all columns lowercase for consistency's sake\n",
        "colnames(nyc.data) %<>% str_replace_all(\"\\\\s\", \"_\") %>% tolower()"
      ],
      "execution_count": null,
      "outputs": [
        {
          "output_type": "display_data",
          "data": {
            "text/plain": [
              "  NUM BOROUGH NEIGHBORHOOD  BUILDING.CLASS.CATEGORY                    \n",
              "1 4   1       ALPHABET CITY 07 RENTALS - WALKUP APARTMENTS             \n",
              "2 5   1       ALPHABET CITY 07 RENTALS - WALKUP APARTMENTS             \n",
              "  TAX.CLASS.AT.PRESENT BLOCK LOT EASE.MENT BUILDING.CLASS.AT.PRESENT\n",
              "1 2A                   392    6  NA        C2                       \n",
              "2 2                    399   26  NA        C7                       \n",
              "  ADDRESS               ⋯ RESIDENTIAL.UNITS COMMERCIAL.UNITS TOTAL.UNITS\n",
              "1 153 AVENUE B          ⋯  5                0                 5         \n",
              "2 234 EAST 4TH   STREET ⋯ 28                3                31         \n",
              "  LAND.SQUARE.FEET GROSS.SQUARE.FEET YEAR.BUILT TAX.CLASS.AT.TIME.OF.SALE\n",
              "1 1633             6440              1900       2                        \n",
              "2 4616             18690             1900       2                        \n",
              "  BUILDING.CLASS.AT.TIME.OF.SALE SALE.PRICE SALE.DATE      \n",
              "1 C2                             6625000    7/19/2017 0:00 \n",
              "2 C7                              -         12/14/2016 0:00"
            ],
            "text/latex": "A data.frame: 2 × 25\n\\begin{tabular}{r|lllllllllllllllllllll}\n  & NUM & BOROUGH & NEIGHBORHOOD & BUILDING.CLASS.CATEGORY & TAX.CLASS.AT.PRESENT & BLOCK & LOT & EASE.MENT & BUILDING.CLASS.AT.PRESENT & ADDRESS & ⋯ & RESIDENTIAL.UNITS & COMMERCIAL.UNITS & TOTAL.UNITS & LAND.SQUARE.FEET & GROSS.SQUARE.FEET & YEAR.BUILT & TAX.CLASS.AT.TIME.OF.SALE & BUILDING.CLASS.AT.TIME.OF.SALE & SALE.PRICE & SALE.DATE\\\\\n  & <int> & <int> & <chr> & <chr> & <chr> & <int> & <int> & <lgl> & <chr> & <chr> & ⋯ & <int> & <int> & <int> & <chr> & <chr> & <int> & <int> & <chr> & <chr> & <chr>\\\\\n\\hline\n\t1 & 4 & 1 & ALPHABET CITY & 07 RENTALS - WALKUP APARTMENTS              & 2A & 392 &  6 & NA & C2 & 153 AVENUE B          & ⋯ &  5 & 0 &  5 & 1633 & 6440  & 1900 & 2 & C2 & 6625000 & 7/19/2017 0:00 \\\\\n\t2 & 5 & 1 & ALPHABET CITY & 07 RENTALS - WALKUP APARTMENTS              & 2  & 399 & 26 & NA & C7 & 234 EAST 4TH   STREET & ⋯ & 28 & 3 & 31 & 4616 & 18690 & 1900 & 2 & C7 &  -      & 12/14/2016 0:00\\\\\n\\end{tabular}\n",
            "text/markdown": "\nA data.frame: 2 × 25\n\n| <!--/--> | NUM &lt;int&gt; | BOROUGH &lt;int&gt; | NEIGHBORHOOD &lt;chr&gt; | BUILDING.CLASS.CATEGORY &lt;chr&gt; | TAX.CLASS.AT.PRESENT &lt;chr&gt; | BLOCK &lt;int&gt; | LOT &lt;int&gt; | EASE.MENT &lt;lgl&gt; | BUILDING.CLASS.AT.PRESENT &lt;chr&gt; | ADDRESS &lt;chr&gt; | ⋯ ⋯ | RESIDENTIAL.UNITS &lt;int&gt; | COMMERCIAL.UNITS &lt;int&gt; | TOTAL.UNITS &lt;int&gt; | LAND.SQUARE.FEET &lt;chr&gt; | GROSS.SQUARE.FEET &lt;chr&gt; | YEAR.BUILT &lt;int&gt; | TAX.CLASS.AT.TIME.OF.SALE &lt;int&gt; | BUILDING.CLASS.AT.TIME.OF.SALE &lt;chr&gt; | SALE.PRICE &lt;chr&gt; | SALE.DATE &lt;chr&gt; |\n|---|---|---|---|---|---|---|---|---|---|---|---|---|---|---|---|---|---|---|---|---|---|\n| 1 | 4 | 1 | ALPHABET CITY | 07 RENTALS - WALKUP APARTMENTS              | 2A | 392 |  6 | NA | C2 | 153 AVENUE B          | ⋯ |  5 | 0 |  5 | 1633 | 6440  | 1900 | 2 | C2 | 6625000 | 7/19/2017 0:00  |\n| 2 | 5 | 1 | ALPHABET CITY | 07 RENTALS - WALKUP APARTMENTS              | 2  | 399 | 26 | NA | C7 | 234 EAST 4TH   STREET | ⋯ | 28 | 3 | 31 | 4616 | 18690 | 1900 | 2 | C7 |  -      | 12/14/2016 0:00 |\n\n",
            "text/html": [
              "<table>\n",
              "<caption>A data.frame: 2 × 25</caption>\n",
              "<thead>\n",
              "\t<tr><th></th><th scope=col>NUM</th><th scope=col>BOROUGH</th><th scope=col>NEIGHBORHOOD</th><th scope=col>BUILDING.CLASS.CATEGORY</th><th scope=col>TAX.CLASS.AT.PRESENT</th><th scope=col>BLOCK</th><th scope=col>LOT</th><th scope=col>EASE.MENT</th><th scope=col>BUILDING.CLASS.AT.PRESENT</th><th scope=col>ADDRESS</th><th scope=col>⋯</th><th scope=col>RESIDENTIAL.UNITS</th><th scope=col>COMMERCIAL.UNITS</th><th scope=col>TOTAL.UNITS</th><th scope=col>LAND.SQUARE.FEET</th><th scope=col>GROSS.SQUARE.FEET</th><th scope=col>YEAR.BUILT</th><th scope=col>TAX.CLASS.AT.TIME.OF.SALE</th><th scope=col>BUILDING.CLASS.AT.TIME.OF.SALE</th><th scope=col>SALE.PRICE</th><th scope=col>SALE.DATE</th></tr>\n",
              "\t<tr><th></th><th scope=col>&lt;int&gt;</th><th scope=col>&lt;int&gt;</th><th scope=col>&lt;chr&gt;</th><th scope=col>&lt;chr&gt;</th><th scope=col>&lt;chr&gt;</th><th scope=col>&lt;int&gt;</th><th scope=col>&lt;int&gt;</th><th scope=col>&lt;lgl&gt;</th><th scope=col>&lt;chr&gt;</th><th scope=col>&lt;chr&gt;</th><th scope=col>⋯</th><th scope=col>&lt;int&gt;</th><th scope=col>&lt;int&gt;</th><th scope=col>&lt;int&gt;</th><th scope=col>&lt;chr&gt;</th><th scope=col>&lt;chr&gt;</th><th scope=col>&lt;int&gt;</th><th scope=col>&lt;int&gt;</th><th scope=col>&lt;chr&gt;</th><th scope=col>&lt;chr&gt;</th><th scope=col>&lt;chr&gt;</th></tr>\n",
              "</thead>\n",
              "<tbody>\n",
              "\t<tr><th scope=row>1</th><td>4</td><td>1</td><td>ALPHABET CITY</td><td>07 RENTALS - WALKUP APARTMENTS             </td><td>2A</td><td>392</td><td> 6</td><td>NA</td><td>C2</td><td>153 AVENUE B         </td><td>⋯</td><td> 5</td><td>0</td><td> 5</td><td>1633</td><td>6440 </td><td>1900</td><td>2</td><td>C2</td><td>6625000</td><td>7/19/2017 0:00 </td></tr>\n",
              "\t<tr><th scope=row>2</th><td>5</td><td>1</td><td>ALPHABET CITY</td><td>07 RENTALS - WALKUP APARTMENTS             </td><td>2 </td><td>399</td><td>26</td><td>NA</td><td>C7</td><td>234 EAST 4TH   STREET</td><td>⋯</td><td>28</td><td>3</td><td>31</td><td>4616</td><td>18690</td><td>1900</td><td>2</td><td>C7</td><td> -     </td><td>12/14/2016 0:00</td></tr>\n",
              "</tbody>\n",
              "</table>\n"
            ]
          },
          "metadata": {
            "tags": []
          }
        }
      ]
    },
    {
      "cell_type": "markdown",
      "metadata": {
        "id": "BmRnO7PH1n3X"
      },
      "source": [
        "To further supplement information gathering, we observe how many predictors there are."
      ]
    },
    {
      "cell_type": "code",
      "metadata": {
        "id": "FSQHMJNJ1n3b"
      },
      "source": [
        "# Helper function to pretty print column names for a dataframe\n",
        "prettyPrintCols <- function(data.frame) {\n",
        "     print(colnames(data.frame) %<>% str_replace_all(\"\\\\s\", \"_\") %>% tolower())\n",
        "}"
      ],
      "execution_count": null,
      "outputs": []
    },
    {
      "cell_type": "code",
      "metadata": {
        "colab": {
          "base_uri": "https://localhost:8080/",
          "height": 264
        },
        "id": "y1DYIgsq8OPi",
        "outputId": "390fe865-fd69-4602-936d-fe20e69da6bc"
      },
      "source": [
        "# To further supplement information gathering, we observe how many predictors there are.\n",
        "sprintf(\"There are %s cols in nyc.data:\", ncol(nyc.data))\n",
        "prettyPrintCols(nyc.data)"
      ],
      "execution_count": null,
      "outputs": [
        {
          "output_type": "display_data",
          "data": {
            "text/plain": [
              "[1] \"There are 25 cols in nyc.data:\""
            ],
            "text/latex": "'There are 25 cols in nyc.data:'",
            "text/markdown": "'There are 25 cols in nyc.data:'",
            "text/html": [
              "'There are 25 cols in nyc.data:'"
            ]
          },
          "metadata": {
            "tags": []
          }
        },
        {
          "output_type": "stream",
          "text": [
            " [1] \"num\"                            \"borough\"                       \n",
            " [3] \"neighborhood\"                   \"building.class.category\"       \n",
            " [5] \"tax.class.at.present\"           \"block\"                         \n",
            " [7] \"lot\"                            \"ease.ment\"                     \n",
            " [9] \"building.class.at.present\"      \"address\"                       \n",
            "[11] \"street\"                         \"latitude\"                      \n",
            "[13] \"longitude\"                      \"apartment.number\"              \n",
            "[15] \"zip.code\"                       \"residential.units\"             \n",
            "[17] \"commercial.units\"               \"total.units\"                   \n",
            "[19] \"land.square.feet\"               \"gross.square.feet\"             \n",
            "[21] \"year.built\"                     \"tax.class.at.time.of.sale\"     \n",
            "[23] \"building.class.at.time.of.sale\" \"sale.price\"                    \n",
            "[25] \"sale.date\"                     \n"
          ],
          "name": "stdout"
        }
      ]
    },
    {
      "cell_type": "markdown",
      "metadata": {
        "id": "ANqWHGKX1n3j"
      },
      "source": [
        "Then, we observe the current structure:"
      ]
    },
    {
      "cell_type": "code",
      "metadata": {
        "colab": {
          "base_uri": "https://localhost:8080/"
        },
        "id": "nJNWv9mm1n3n",
        "scrolled": true,
        "outputId": "59fad4b7-1c7c-46be-9b38-a8f93e1660cf"
      },
      "source": [
        "str(nyc.data)"
      ],
      "execution_count": null,
      "outputs": [
        {
          "output_type": "stream",
          "text": [
            "'data.frame':\t84548 obs. of  25 variables:\n",
            " $ num                           : int  4 5 6 7 8 9 10 11 12 13 ...\n",
            " $ borough                       : int  1 1 1 1 1 1 1 1 1 1 ...\n",
            " $ neighborhood                  : chr  \"ALPHABET CITY\" \"ALPHABET CITY\" \"ALPHABET CITY\" \"ALPHABET CITY\" ...\n",
            " $ building.class.category       : chr  \"07 RENTALS - WALKUP APARTMENTS             \" \"07 RENTALS - WALKUP APARTMENTS             \" \"07 RENTALS - WALKUP APARTMENTS             \" \"07 RENTALS - WALKUP APARTMENTS             \" ...\n",
            " $ tax.class.at.present          : chr  \"2A\" \"2\" \"2\" \"2B\" ...\n",
            " $ block                         : int  392 399 399 402 404 405 406 407 379 387 ...\n",
            " $ lot                           : int  6 26 39 21 55 16 32 18 34 153 ...\n",
            " $ ease.ment                     : logi  NA NA NA NA NA NA ...\n",
            " $ building.class.at.present     : chr  \"C2\" \"C7\" \"C7\" \"C4\" ...\n",
            " $ address                       : chr  \"153 AVENUE B\" \"234 EAST 4TH   STREET\" \"197 EAST 3RD   STREET\" \"154 EAST 7TH STREET\" ...\n",
            " $ street                        : chr  \"AVENUE B \" \"EAST 4TH STREET \" \"EAST 3RD STREET \" \"EAST 7TH STREET \" ...\n",
            " $ latitude                      : num  NA 40.7 40.7 40.7 40.7 ...\n",
            " $ longitude                     : num  NA -74 -74 -74 -74 ...\n",
            " $ apartment.number              : chr  \" \" \" \" \" \" \" \" ...\n",
            " $ zip.code                      : int  10009 10009 10009 10009 10009 10009 10009 10009 10009 10009 ...\n",
            " $ residential.units             : int  5 28 16 10 6 20 8 44 15 24 ...\n",
            " $ commercial.units              : int  0 3 1 0 0 0 0 2 0 0 ...\n",
            " $ total.units                   : int  5 31 17 10 6 20 8 46 15 24 ...\n",
            " $ land.square.feet              : chr  \"1633\" \"4616\" \"2212\" \"2272\" ...\n",
            " $ gross.square.feet             : chr  \"6440\" \"18690\" \"7803\" \"6794\" ...\n",
            " $ year.built                    : int  1900 1900 1900 1913 1900 1900 1920 1900 1920 1920 ...\n",
            " $ tax.class.at.time.of.sale     : int  2 2 2 2 2 2 2 2 2 2 ...\n",
            " $ building.class.at.time.of.sale: chr  \"C2\" \"C7\" \"C7\" \"C4\" ...\n",
            " $ sale.price                    : chr  \"6625000\" \" -  \" \" -  \" \"3936272\" ...\n",
            " $ sale.date                     : chr  \"7/19/2017 0:00\" \"12/14/2016 0:00\" \"12/9/2016 0:00\" \"9/23/2016 0:00\" ...\n"
          ],
          "name": "stdout"
        }
      ]
    },
    {
      "cell_type": "markdown",
      "metadata": {
        "id": "iLmyx3wr1n3v"
      },
      "source": [
        "Based on manual observation and what we see in the data here, we observe the following:\n",
        "\n",
        "* `ease.ment` is 100% null.\n",
        "* `land.square.feet`, `gross.square.feet`, and `sale.price` are chars when they should be numeric vectors.\n",
        "\n",
        "So, we will clean the data in the next section."
      ]
    },
    {
      "cell_type": "markdown",
      "metadata": {
        "id": "HVHoUDnU8aOy"
      },
      "source": [
        "## Data Cleaning/Transformations in R"
      ]
    },
    {
      "cell_type": "markdown",
      "metadata": {
        "id": "RMCd5JxR1n3w"
      },
      "source": [
        "### Deep Copy\n",
        "\n",
        "To begin, we will no longer use `nyc.data` as the dataset for processing in R; we will use a copy to work over and retain the original."
      ]
    },
    {
      "cell_type": "code",
      "metadata": {
        "id": "7WH_QUph1n3x"
      },
      "source": [
        "# Begin with creating a deep copy of the nyc.data Dataframe for use onwards.\n",
        "\n",
        "df <- nyc.data\n",
        "\n",
        "#TODO: Be sure to split Y from the data BEFORE we boxcox/preprocess.\n",
        "# df <- subset(nyc.data, select = -c(sale.price))\n",
        "# df.y <- nyc.data$sale.price\n",
        "\n",
        "# Maintain an internal switch to use the STREET and LATLONG predictors.\n",
        "useStreet <- TRUE\n",
        "useLatLongs <- FALSE"
      ],
      "execution_count": null,
      "outputs": []
    },
    {
      "cell_type": "markdown",
      "metadata": {
        "id": "KFqkgC901n31"
      },
      "source": [
        "### Nulling unused predictors\n",
        "\n",
        "`ease.ment`, `apartment.number`, `sale.date` will not be used in the model because they either \n",
        "\n",
        "* Do not fit the purpose of the model, or\n",
        "* Do not have data that can contribute to the model.\n",
        "\n",
        "This will also NULL out any other predictors that will not be used in the model."
      ]
    },
    {
      "cell_type": "code",
      "metadata": {
        "colab": {
          "base_uri": "https://localhost:8080/"
        },
        "id": "x21QCrML1n32",
        "outputId": "dcce52fe-8857-4339-a6b2-2808e6bae52d"
      },
      "source": [
        "# ### Nulling unused predictors\n",
        "# `ease.ment`, `apartment.number`, `sale.date` will not be used in the model because they either \n",
        "# * Do not fit the purpose of the model, or\n",
        "# * Do not have data that can contribute to the model.\n",
        "# This will also NULL out any other predictors\" that will not be used in the model.\n",
        "\n",
        "df$ease.ment <- NULL\n",
        "df$apartment.number <- NULL\n",
        "df$sale.date <- NULL\n",
        "\n",
        "# This is a control function to allow usage of the STREET and\n",
        "# LATLONG predictors within the data set.\n",
        "if (!useStreet) {\n",
        "    print(\"UseStreet is DISABLED.\")\n",
        "    df$street <- NULL\n",
        "}\n",
        "\n",
        "if (!useLatLongs) {\n",
        "    print(\"UseLATLONGS is DISABLED.\")\n",
        "    df$latitude <- NULL\n",
        "    df$longitude <- NULL\n",
        "}\n",
        "prettyPrintCols(df)"
      ],
      "execution_count": null,
      "outputs": [
        {
          "output_type": "stream",
          "text": [
            "[1] \"UseLATLONGS is DISABLED.\"\n",
            " [1] \"num\"                            \"borough\"                       \n",
            " [3] \"neighborhood\"                   \"building.class.category\"       \n",
            " [5] \"tax.class.at.present\"           \"block\"                         \n",
            " [7] \"lot\"                            \"building.class.at.present\"     \n",
            " [9] \"address\"                        \"street\"                        \n",
            "[11] \"zip.code\"                       \"residential.units\"             \n",
            "[13] \"commercial.units\"               \"total.units\"                   \n",
            "[15] \"land.square.feet\"               \"gross.square.feet\"             \n",
            "[17] \"year.built\"                     \"tax.class.at.time.of.sale\"     \n",
            "[19] \"building.class.at.time.of.sale\" \"sale.price\"                    \n"
          ],
          "name": "stdout"
        }
      ]
    },
    {
      "cell_type": "markdown",
      "metadata": {
        "id": "Z-Sojkd91n39"
      },
      "source": [
        "### Recasting predictors"
      ]
    },
    {
      "cell_type": "markdown",
      "metadata": {
        "id": "lcoAab151n3-"
      },
      "source": [
        "#### Numerics\n",
        "`sale.price`, `land.square.feet`, and `gross.square.feet` were identified to have been malformed, so they will be re-cast as numeric vectors."
      ]
    },
    {
      "cell_type": "markdown",
      "metadata": {
        "id": "KYTNlHT91n3_"
      },
      "source": [
        "##### Price and Square Footage"
      ]
    },
    {
      "cell_type": "code",
      "metadata": {
        "colab": {
          "base_uri": "https://localhost:8080/"
        },
        "id": "m5rUkbgk1n3_",
        "outputId": "9a9367e0-674f-411f-ebb8-242c6846ed08"
      },
      "source": [
        "# #### Numerics\n",
        "# `sale.price`, `land.square.feet`, and `gross.square.feet` were identified to have been malformed, \n",
        "# so they will be re-cast as numeric vectors.\n",
        "\n",
        "##### Price and Square Footage\n",
        "df$sale.price <- as.numeric(as.character(df$sale.price))\n",
        "df$land.square.feet <- as.numeric(as.character(df$land.square.feet))\n",
        "df$gross.square.feet <- as.numeric(as.character(df$gross.square.feet))"
      ],
      "execution_count": null,
      "outputs": [
        {
          "output_type": "stream",
          "text": [
            "Warning message in eval(expr, envir, enclos):\n",
            "“NAs introduced by coercion”\n",
            "Warning message in eval(expr, envir, enclos):\n",
            "“NAs introduced by coercion”\n",
            "Warning message in eval(expr, envir, enclos):\n",
            "“NAs introduced by coercion”\n"
          ],
          "name": "stderr"
        }
      ]
    },
    {
      "cell_type": "markdown",
      "metadata": {
        "id": "X4hp1o4V1n4D"
      },
      "source": [
        "#### Factors\n",
        "The following predictors can be factorized (made into categories):"
      ]
    },
    {
      "cell_type": "code",
      "metadata": {
        "id": "nEMCZ7C51n4E"
      },
      "source": [
        "# #### Factors\n",
        "# The following predictors can be factorized (made into categories):\n",
        "df$borough <- as.factor(df$borough)\n",
        "df$neighborhood <- as.factor(df$neighborhood)\n",
        "df$building.class.category <- as.factor(df$building.class.category)\n",
        "\n",
        "# PRESENT CATEGORIES\n",
        "df$tax.class.at.present <- as.factor(df$tax.class.at.present)\n",
        "df$building.class.at.present <- as.factor(df$building.class.at.present)\n",
        "\n",
        "# TIME OF SALE\n",
        "df$tax.class.at.time.of.sale <- as.factor(df$tax.class.at.time.of.sale)\n",
        "df$building.class.at.time.of.sale <- as.factor(df$building.class.at.time.of.sale) \n",
        "\n",
        "# ZIP CODE\n",
        "df$zip.code <- as.factor(df$zip.code)\n",
        "\n",
        "# Logic to use Street; if so, then remove the Address since it has no \n",
        "# utility here.\n",
        "if (useStreet) {\n",
        "    df$street <- as.factor(df$street)\n",
        "    df$address <- NULL\n",
        "}"
      ],
      "execution_count": null,
      "outputs": []
    },
    {
      "cell_type": "markdown",
      "metadata": {
        "id": "FP3hdZvm1n4P"
      },
      "source": [
        "#### Factorizing building age\n",
        "\n",
        "There are a few options that we can do here with respect to the building's age:\n",
        "We can:\n",
        "1. Convert to `age` by subtracting from 2017\n",
        "2. Convert to intervals\n",
        "3. Convert to factor and leave as is\n",
        "\n",
        "**The team chooses option 3.**"
      ]
    },
    {
      "cell_type": "code",
      "metadata": {
        "id": "p-BY2Ptw1n4Q"
      },
      "source": [
        "#doing option 3\n",
        "df$year.built <- as.factor(df$year.built)\n",
        "# df$sale.price = as.numeric(df$sale.price) # ??? This seems redundant"
      ],
      "execution_count": null,
      "outputs": []
    },
    {
      "cell_type": "markdown",
      "metadata": {
        "id": "2HQZT9cY1n4V"
      },
      "source": [
        "#### Data Filtering"
      ]
    },
    {
      "cell_type": "code",
      "metadata": {
        "colab": {
          "base_uri": "https://localhost:8080/",
          "height": 436
        },
        "id": "K8ROkGeY1n4W",
        "outputId": "8e839fd2-6be7-4c5b-aa36-95a385dfdeba"
      },
      "source": [
        "missRow <- colSums(is.na(df))\n",
        "plot(missRow)"
      ],
      "execution_count": null,
      "outputs": [
        {
          "output_type": "display_data",
          "data": {
            "image/png": "[encoded data removed]",
            "text/plain": [
              "plot without title"
            ]
          },
          "metadata": {
            "tags": [],
            "image/png": {
              "width": 420,
              "height": 420
            }
          }
        }
      ]
    },
    {
      "cell_type": "markdown",
      "metadata": {
        "id": "kcu5Zt9O1n4h"
      },
      "source": [
        "##### Before Dropping Nulls\n",
        "\n",
        "We apply a filter to the dataset to do the following:\n",
        "* Remove observations with incomplete results (lack of dimensions + sale price)"
      ]
    },
    {
      "cell_type": "markdown",
      "metadata": {
        "id": "xMlilIiM1n4i"
      },
      "source": [
        "##### Applying filters\n",
        "The following filters are applied to the dataset:\n",
        "* Eliminate incomplete observations by dropping records with NULL values in square footage and sale price.\n",
        "* Reining in gross and land square feet to properties > 100 square feet.\n",
        " * This is done to remove records that are either too dirty or have no significant contribution with respect to real estate\n",
        "* Using only sale prices greater than \\\\$100,000\n",
        " * This is done because price per square foot *realistically* would be (extremely optimistically) $1000/sq. ft in NYC; a minimum"
      ]
    },
    {
      "cell_type": "code",
      "metadata": {
        "id": "-DaJms4w1n4i"
      },
      "source": [
        "# drop NA's that were created during the conversion from the \"-\" value\n",
        "df <- df %>% drop_na(c(gross.square.feet,land.square.feet, sale.price))\n",
        "\n",
        "# removing datapoints whose sqftage is less than 100\n",
        "# removing datapoints whose sale price is <100k. Since median price @nyc is around 1.8k\n",
        "df <- df %>% filter(land.square.feet>100) \n",
        "df <- df %>% filter(gross.square.feet >100)\n",
        "df <- df %>% filter(sale.price>100000)"
      ],
      "execution_count": null,
      "outputs": []
    },
    {
      "cell_type": "code",
      "metadata": {
        "colab": {
          "base_uri": "https://localhost:8080/"
        },
        "id": "ZiDzY38A1n4k",
        "outputId": "c24ef8a6-b624-4ad8-895f-964b8cbb8bcc"
      },
      "source": [
        "freq_dist_sale_price <- df %>% group_by(sale.price) %>% summarize(Freq = n())\n",
        "freq_dist_land_square_feet <- df %>% group_by(land.square.feet) %>% summarize(Freq = n())\n",
        "freq_dist_gross_square_feet <- df %>% group_by(gross.square.feet) %>% summarize(Freq = n())\n",
        "\n",
        "# TODO: Add additional filters here? As it is, data is heavily skewed towards commercial properties\n",
        "\n",
        "new_freq_dist_sale_price <- df %>% group_by(sale.price) %>% summarize(Freq = n())\n",
        "new_freq_dist_land_square_feet <- df %>% group_by(land.square.feet) %>% summarize(Freq = n())\n",
        "new_freq_dist_gross_square_feet <- df %>% group_by(gross.square.feet) %>% summarize(Freq = n())"
      ],
      "execution_count": null,
      "outputs": [
        {
          "output_type": "stream",
          "text": [
            "`summarise()` ungrouping output (override with `.groups` argument)\n",
            "\n",
            "`summarise()` ungrouping output (override with `.groups` argument)\n",
            "\n",
            "`summarise()` ungrouping output (override with `.groups` argument)\n",
            "\n",
            "`summarise()` ungrouping output (override with `.groups` argument)\n",
            "\n",
            "`summarise()` ungrouping output (override with `.groups` argument)\n",
            "\n",
            "`summarise()` ungrouping output (override with `.groups` argument)\n",
            "\n"
          ],
          "name": "stderr"
        }
      ]
    },
    {
      "cell_type": "code",
      "metadata": {
        "id": "sXOb86nE8Zf-"
      },
      "source": [
        "# df <- nyc.data\n",
        "# df$sale.price <- as.numeric(as.character(df$sale.price))\n",
        "# df$land.square.feet <- as.numeric(as.character(df$land.square.feet))\n",
        "# df$gross.square.feet <- as.numeric(as.character(df$gross.square.feet))\n",
        "\n",
        "# df$ease.ment = NULL\n",
        "# df$apartment.number = NULL\n",
        "# df$sale.date = NULL\n",
        "\n",
        "# df$borough = as.factor(df$borough)\n",
        "# df$neighborhood = as.factor(df$neighborhood)\n",
        "# df$building.class.category = as.factor(df$building.class.category)\n",
        "# df$tax.class.at.present = as.factor(df$tax.class.at.present )\n",
        "\n",
        "#block and lot\n",
        "\n",
        "# df$building.class.at.present = as.factor(df$building.class.at.present)\n",
        "\n",
        "#address needs to be feature engineered\n",
        "# avenue, broadway etc.\n",
        "\n",
        "# df$zip.code = as.factor(df$zip.code)\n",
        "\n",
        "#total units is a calculated field. can be ignored\n",
        "\n",
        "#convert sqftage to numeric\n",
        "# df$land.square.feet = as.numeric(df$land.square.feet)\n",
        "# df$gross.square.feet = as.numeric(df$gross.square.feet)\n",
        "\n",
        "#need to feature engineer year built- \n",
        "# option 1- convert to 'age' by subtracting from 2017\n",
        "# option 2- convert to intervals\n",
        "# option 3- convert to factor and leave as is\n",
        "\n",
        "#doing option 3\n",
        "# df$year.built <- as.factor(df$year.built)\n",
        "\n",
        "# df$tax.class.at.time.of.sale = as.factor(df$tax.class.at.time.of.sale)\n",
        "# df$building.class.at.time.of.sale = as.factor(df$building.class.at.time.of.sale)\n",
        "\n",
        "# df$sale.price = as.numeric(df$sale.price) \n",
        "\n",
        "# removed NA and keep only distinct records\n",
        "# df <- df %>% distinct() %>% drop_na(c(gross.square.feet,land.square.feet, sale.price))\n",
        "\n",
        "# #drop NA's that were created during the conversion from the \"-\" value\n",
        "# df <- df %>% drop_na(c(gross.square.feet,land.square.feet, sale.price))\n",
        "\n",
        "# freq_dist_sale_price <- df %>% group_by(sale.price) %>% summarize(Freq = n())\n",
        "# freq_dist_land_square_feet <- df %>% group_by(land.square.feet) %>% summarize(Freq = n())\n",
        "# freq_dist_gross_square_feet <- df %>% group_by(gross.square.feet) %>% summarize(Freq = n())\n",
        "\n",
        "# removing datapoints whose sqftage is less than 100\n",
        "# removing datapoints whose sale price is <100k. Since median price @nyc is around 1.8k\n",
        "\n",
        "# df <- df %>% filter(land.square.feet>100) \n",
        "# df <- df %>% filter(gross.square.feet >100)\n",
        "# df <- df %>% filter(sale.price>100000)\n",
        "\n",
        "# TODO: Add additional filters here? As it is, data is heavily skewed towards commercial properties\n",
        "\n",
        "# new_freq_dist_sale_price <- df %>% group_by(sale.price) %>% summarize(Freq = n())\n",
        "# new_freq_dist_land_square_feet <- df %>% group_by(land.square.feet) %>% summarize(Freq = n())\n",
        "# new_freq_dist_gross_square_feet <- df %>% group_by(gross.square.feet) %>% summarize(Freq = n())"
      ],
      "execution_count": null,
      "outputs": []
    },
    {
      "cell_type": "markdown",
      "metadata": {
        "id": "NdKX5jra9ALM"
      },
      "source": [
        "## Descriptive Stats for Price and Square Footage"
      ]
    },
    {
      "cell_type": "code",
      "metadata": {
        "colab": {
          "base_uri": "https://localhost:8080/",
          "height": 238
        },
        "id": "l1m4qEym84CP",
        "outputId": "255e763d-8628-4e95-bb52-ab82cd98a763"
      },
      "source": [
        "# Descriptive Stats\n",
        "print(\"For `sale.price`...\")\n",
        "max(df$sale.price)\n",
        "class(df$sale.price)\n",
        "max(df$sale.price)\n",
        "min(df$sale.price)\n",
        "\n",
        "cat(\"\\n\")\n",
        "print(\"For `gross.square.feet`...\")\n",
        "max(df$gross.square.feet)\n",
        "min(df$gross.square.feet)\n",
        "\n",
        "cat(\"\\n\")\n",
        "print(\"For `land.square.feet`...\")\n",
        "max(df$land.square.feet)\n",
        "min(df$land.square.feet)"
      ],
      "execution_count": null,
      "outputs": [
        {
          "output_type": "stream",
          "text": [
            "[1] \"For `sale.price`...\"\n"
          ],
          "name": "stdout"
        },
        {
          "output_type": "display_data",
          "data": {
            "text/plain": [
              "[1] 2.21e+09"
            ],
            "text/latex": "2.21e+09",
            "text/markdown": "2.21e+09",
            "text/html": [
              "2.21e+09"
            ]
          },
          "metadata": {
            "tags": []
          }
        },
        {
          "output_type": "display_data",
          "data": {
            "text/plain": [
              "[1] \"numeric\""
            ],
            "text/latex": "'numeric'",
            "text/markdown": "'numeric'",
            "text/html": [
              "'numeric'"
            ]
          },
          "metadata": {
            "tags": []
          }
        },
        {
          "output_type": "display_data",
          "data": {
            "text/plain": [
              "[1] 2.21e+09"
            ],
            "text/latex": "2.21e+09",
            "text/markdown": "2.21e+09",
            "text/html": [
              "2.21e+09"
            ]
          },
          "metadata": {
            "tags": []
          }
        },
        {
          "output_type": "display_data",
          "data": {
            "text/plain": [
              "[1] 100700"
            ],
            "text/latex": "100700",
            "text/markdown": "100700",
            "text/html": [
              "100700"
            ]
          },
          "metadata": {
            "tags": []
          }
        },
        {
          "output_type": "stream",
          "text": [
            "\n",
            "[1] \"For `gross.square.feet`...\"\n"
          ],
          "name": "stdout"
        },
        {
          "output_type": "display_data",
          "data": {
            "text/plain": [
              "[1] 3750565"
            ],
            "text/latex": "3750565",
            "text/markdown": "3750565",
            "text/html": [
              "3750565"
            ]
          },
          "metadata": {
            "tags": []
          }
        },
        {
          "output_type": "display_data",
          "data": {
            "text/plain": [
              "[1] 120"
            ],
            "text/latex": "120",
            "text/markdown": "120",
            "text/html": [
              "120"
            ]
          },
          "metadata": {
            "tags": []
          }
        },
        {
          "output_type": "stream",
          "text": [
            "\n",
            "[1] \"For `land.square.feet`...\"\n"
          ],
          "name": "stdout"
        },
        {
          "output_type": "display_data",
          "data": {
            "text/plain": [
              "[1] 4228300"
            ],
            "text/latex": "4228300",
            "text/markdown": "4228300",
            "text/html": [
              "4228300"
            ]
          },
          "metadata": {
            "tags": []
          }
        },
        {
          "output_type": "display_data",
          "data": {
            "text/plain": [
              "[1] 200"
            ],
            "text/latex": "200",
            "text/markdown": "200",
            "text/html": [
              "200"
            ]
          },
          "metadata": {
            "tags": []
          }
        }
      ]
    },
    {
      "cell_type": "markdown",
      "metadata": {
        "id": "HEgIwIDK9g07"
      },
      "source": [
        "## Adjusting the data for skewness\n",
        "\n",
        "To get an idea of the skewness of the data, we will produce a histogram.\n",
        "\n",
        "We choose `gross.square.feet` arbitrarily."
      ]
    },
    {
      "cell_type": "code",
      "metadata": {
        "colab": {
          "base_uri": "https://localhost:8080/",
          "height": 436
        },
        "id": "BSc2O-0E89EG",
        "outputId": "1b24d1c0-68a2-4ac3-92fb-b0f108dec71e"
      },
      "source": [
        "# hist(df$sale.price)\n",
        "hist(df$gross.square.feet)"
      ],
      "execution_count": null,
      "outputs": [
        {
          "output_type": "display_data",
          "data": {
            "image/png": "[encoded data removed]",
            "text/plain": [
              "Plot with title “Histogram of df$gross.square.feet”"
            ]
          },
          "metadata": {
            "tags": [],
            "image/png": {
              "width": 420,
              "height": 420
            }
          }
        }
      ]
    },
    {
      "cell_type": "markdown",
      "metadata": {
        "id": "YSjpow7i1n47"
      },
      "source": [
        "Based on the histogram above for gross square feet, we observed that the data was heavily skewed and can benefit from a Box Cox + Center/Scaling transformation for improved model performance.\n",
        "\n",
        "BEFORE we do that though, we will separate `sale.price` from the dataframe to prevent the same transformation from applying to the response."
      ]
    },
    {
      "cell_type": "code",
      "metadata": {
        "colab": {
          "base_uri": "https://localhost:8080/"
        },
        "id": "hqP_lVaT1n48",
        "outputId": "c42ef989-9900-4b89-c4d0-796452fc7daa"
      },
      "source": [
        "# Based on the histogram above for gross square feet, we observed that the data was heavily skewed and can benefit \n",
        "# from a Box Cox + Center/Scaling transformation for improved model performance.\n",
        "# BEFORE we do that though, we will separate `sale.price` from the dataframe to \n",
        "# prevent the same transformation from applying to the response.\n",
        "df.y <- as.data.frame(df$sale.price)\n",
        "colnames(df.y) <- c(\"sale.price\")\n",
        "\n",
        "df <- subset(df, select = -c(sale.price))\n",
        "\n",
        "# Validate that sale.price has been removed from the structure of the main data frame.\n",
        "prettyPrintCols(df)"
      ],
      "execution_count": null,
      "outputs": [
        {
          "output_type": "stream",
          "text": [
            " [1] \"num\"                            \"borough\"                       \n",
            " [3] \"neighborhood\"                   \"building.class.category\"       \n",
            " [5] \"tax.class.at.present\"           \"block\"                         \n",
            " [7] \"lot\"                            \"building.class.at.present\"     \n",
            " [9] \"street\"                         \"zip.code\"                      \n",
            "[11] \"residential.units\"              \"commercial.units\"              \n",
            "[13] \"total.units\"                    \"land.square.feet\"              \n",
            "[15] \"gross.square.feet\"              \"year.built\"                    \n",
            "[17] \"tax.class.at.time.of.sale\"      \"building.class.at.time.of.sale\"\n"
          ],
          "name": "stdout"
        }
      ]
    },
    {
      "cell_type": "markdown",
      "metadata": {
        "id": "WwlKhPMZ1n5D"
      },
      "source": [
        "### BoxCox / Centering / Scaling\n",
        "\n",
        "We use the `preProcess()` method to prep a boxcox /centering / scaling routine against the dataset."
      ]
    },
    {
      "cell_type": "code",
      "metadata": {
        "id": "AmCaMh6p1n5E"
      },
      "source": [
        "# Preload a preprocessing routine\n",
        "df.preProc <- preProcess(\n",
        "    df,\n",
        "    method = c(\"BoxCox\", \"center\", \"scale\")\n",
        ")"
      ],
      "execution_count": null,
      "outputs": []
    },
    {
      "cell_type": "code",
      "metadata": {
        "id": "1NhZCKN41n5G"
      },
      "source": [
        "## Apply the transformations\n",
        "df.trans <- predict(df.preProc, df)"
      ],
      "execution_count": null,
      "outputs": []
    },
    {
      "cell_type": "code",
      "metadata": {
        "colab": {
          "base_uri": "https://localhost:8080/",
          "height": 436
        },
        "id": "NbGfbgLQ1n5N",
        "outputId": "29a9a9de-f6a6-44d1-9e9f-62b367618822"
      },
      "source": [
        "hist(df.trans$gross.square.feet)"
      ],
      "execution_count": null,
      "outputs": [
        {
          "output_type": "display_data",
          "data": {
            "image/png": "[encoded data removed]",
            "text/plain": [
              "Plot with title “Histogram of df.trans$gross.square.feet”"
            ]
          },
          "metadata": {
            "tags": [],
            "image/png": {
              "width": 420,
              "height": 420
            }
          }
        }
      ]
    },
    {
      "cell_type": "markdown",
      "metadata": {
        "id": "ob3D_g92-IPe"
      },
      "source": [
        "## Multicollinearity Test"
      ]
    },
    {
      "cell_type": "code",
      "metadata": {
        "id": "yzCGkRa--Kw7"
      },
      "source": [
        "# # check multicollinearity\n",
        "# numericpredictors <- c('residential.units','commercial.units','total.units','land.square.feet','gross.square.feet','sale.price')\n",
        "# df_numpreds <- subset(df, select= numericpredictors)\n",
        "# corr <- cor(df_numpreds)\n",
        "# corr\n",
        "# corrplot(corr,method= \"number\",col=brewer.pal(n=8, name=\"PuOr\"))"
      ],
      "execution_count": null,
      "outputs": []
    },
    {
      "cell_type": "markdown",
      "metadata": {
        "id": "K9Rd0Zkt-PJR"
      },
      "source": [
        "## Data Culling"
      ]
    },
    {
      "cell_type": "code",
      "metadata": {
        "id": "D_d_Oskf-RU0"
      },
      "source": [
        "# #remove total units as a predictor since it is highly correlated to # of residential units and commercial units\n",
        "\n",
        "# # one hot encoding the categorical variables\n",
        "# # borough \n",
        "# # neighborhood\n",
        "# # building.class.category \n",
        "# # tax.class.at.present \n",
        "# # building.class.at.present\n",
        "# # zip.code\n",
        "# # year.built\n",
        "# # tax.class.at.time.of.sale\n",
        "# # building.class.at.time.of.sale\n",
        "\n",
        "# dmy <- dummyVars(\" ~ borough +\n",
        "# neighborhood +\n",
        "# building.class.category +\n",
        "# tax.class.at.present +\n",
        "# building.class.at.present +\n",
        "# zip.code +\n",
        "# year.built +\n",
        "# tax.class.at.time.of.sale +\n",
        "# building.class.at.time.of.sale\", data = df)\n",
        "# trsf <- data.frame(predict(dmy, newdata = df))\n",
        "# dim(trsf)\n",
        "\n",
        "# df_for_modeling <- cbind(trsf, df_numpreds)\n",
        "# dim(df_for_modeling)"
      ],
      "execution_count": null,
      "outputs": []
    },
    {
      "cell_type": "markdown",
      "metadata": {
        "id": "3yXZlZ2n-kYs"
      },
      "source": [
        "# Modeling"
      ]
    },
    {
      "cell_type": "markdown",
      "metadata": {
        "id": "lH3AtlNJ-wvX"
      },
      "source": [
        "### Data Partioning"
      ]
    },
    {
      "cell_type": "code",
      "metadata": {
        "id": "yF99F3xC-yLX"
      },
      "source": [
        "# #split data into train, validation and test\n",
        "# inTraining <- createDataPartition(df_for_modeling$sale.price, p = .70, list = FALSE)\n",
        "# trainset <- df_for_modeling[inTraining,]\n",
        "# testandvalidation  <- df_for_modeling[-inTraining,]\n",
        "\n",
        "# testid <- createDataPartition(testandvalidation$sale.price, p = .50, list = FALSE)\n",
        "# testset <- testandvalidation[testid,]\n",
        "# validationset <- testandvalidation[-testid,]\n",
        "\n",
        "# dim(trainset)\n",
        "# dim(validationset)\n",
        "# dim(testset)\n",
        "\n",
        "# # training various models\n",
        "\n",
        "# #Simple Linear Regression"
      ],
      "execution_count": null,
      "outputs": []
    },
    {
      "cell_type": "markdown",
      "metadata": {
        "id": "0tDf0QnbGRCN"
      },
      "source": [
        "## Partial Least Squares \n"
      ]
    },
    {
      "cell_type": "markdown",
      "metadata": {
        "id": "W3ckrmykg8Dw"
      },
      "source": [
        "### Data Partitioning\n"
      ]
    },
    {
      "cell_type": "code",
      "metadata": {
        "id": "SPSqwjLEZV9T"
      },
      "source": [
        "# Set seed\n",
        "# create a list of random number ranging from 1 to number of rows from actual data \n",
        "# and 70% of the data into training data\n",
        "\n",
        "df.shuffled <- sort(sample(nrow(df.trans), nrow(df.trans)*.7))\n",
        "\n",
        "\n",
        "# Create both training and test data sets by using the random ordering created \n",
        "# in the preceding executed line \n",
        "df.pls.train <- as.data.frame(df.trans[df.shuffled,])\n",
        "df.pls.test <- as.data.frame(df.trans[-df.shuffled,])\n",
        "\n",
        "df.y.pls.train <- as.data.frame(df.y[df.shuffled,])\n",
        "df.y.pls.test <- as.data.frame(df.y[-df.shuffled,])\n",
        "\n",
        "# Rename the columns to `sale.price` since that gets removed in the midst of indexing. \n",
        "colnames(df.y.pls.train) <- c(\"sale.price\")\n",
        "colnames(df.y.pls.test) <- c(\"sale.price\")"
      ],
      "execution_count": null,
      "outputs": []
    },
    {
      "cell_type": "markdown",
      "metadata": {
        "id": "xu6IlKaHnGzU"
      },
      "source": [
        "### Create control for PLS Model\n",
        "\n",
        "This is the `trainControl` method used for Partial Least Squares; this model will use Monte Carlo Cross Validation for model resampling.\n"
      ]
    },
    {
      "cell_type": "code",
      "metadata": {
        "id": "PuYenD0BnVGM"
      },
      "source": [
        "# create control\n",
        "pls.ctrl <- trainControl(method = \"cv\", number = 10)"
      ],
      "execution_count": null,
      "outputs": []
    },
    {
      "cell_type": "markdown",
      "metadata": {
        "id": "0yGjfnQNhg86"
      },
      "source": [
        "### Partial Least Squares"
      ]
    },
    {
      "cell_type": "code",
      "metadata": {
        "id": "605kDME8yqAd",
        "colab": {
          "base_uri": "https://localhost:8080/"
        },
        "outputId": "0d356fcd-3b8f-4d72-88eb-649ce9269e78"
      },
      "source": [
        "str(df.pls.train)"
      ],
      "execution_count": null,
      "outputs": [
        {
          "output_type": "stream",
          "text": [
            "'data.frame':\t19537 obs. of  18 variables:\n",
            " $ num                           : num  -2.52 -2.42 -2.11 -2.11 -2.1 ...\n",
            " $ borough                       : Factor w/ 5 levels \"1\",\"2\",\"3\",\"4\",..: 1 1 1 1 1 1 1 1 1 1 ...\n",
            " $ neighborhood                  : Factor w/ 254 levels \"AIRPORT LA GUARDIA\",..: 2 2 2 2 2 40 40 40 40 40 ...\n",
            " $ building.class.category       : Factor w/ 47 levels \"01 ONE FAMILY DWELLINGS                    \",..: 7 9 15 15 15 1 2 3 7 7 ...\n",
            " $ tax.class.at.present          : Factor w/ 11 levels \" \",\"1\",\"1A\",\"1B\",..: 7 6 7 7 7 2 2 2 8 7 ...\n",
            " $ block                         : num  -1.86 -1.89 -1.87 -1.87 -1.87 ...\n",
            " $ lot                           : num  0.432 -0.773 -0.504 -1.876 -1.68 ...\n",
            " $ building.class.at.present     : Factor w/ 167 levels \" \",\"A0\",\"A1\",..: 17 21 141 142 143 10 140 15 19 18 ...\n",
            " $ street                        : Factor w/ 8077 levels \"****** 95TH STREET \",..: 3296 3664 3703 1890 1890 7707 7696 7707 73 7733 ...\n",
            " $ zip.code                      : Factor w/ 186 levels \"0\",\"10001\",\"10002\",..: 9 9 9 9 9 11 11 11 2 11 ...\n",
            " $ residential.units             : num  0.148307 1.043238 -0.000848 0.04887 0.098589 ...\n",
            " $ commercial.units              : num  -0.0233 -0.0233 0.0463 0.0463 0.0463 ...\n",
            " $ total.units                   : num  0.1066 0.831 0.0262 0.0664 0.1066 ...\n",
            " $ land.square.feet              : num  -0.245 0.798 -1.261 -0.401 -0.88 ...\n",
            " $ gross.square.feet             : num  1.314 2.297 0.931 1.515 1.06 ...\n",
            " $ year.built                    : Factor w/ 158 levels \"0\",\"1111\",\"1680\",..: 41 69 51 41 51 42 61 42 42 51 ...\n",
            " $ tax.class.at.time.of.sale     : Factor w/ 4 levels \"1\",\"2\",\"3\",\"4\": 2 2 2 2 2 1 1 1 2 2 ...\n",
            " $ building.class.at.time.of.sale: Factor w/ 166 levels \"A0\",\"A1\",\"A2\",..: 16 20 140 141 142 9 139 14 18 17 ...\n"
          ],
          "name": "stdout"
        }
      ]
    },
    {
      "cell_type": "markdown",
      "metadata": {
        "id": "a0GI5nD9yqAe"
      },
      "source": [
        "#### Manual PLS\n",
        "\n",
        "We set the number of components to measure against as 10, then we will use the \n",
        "`plsr()` function to invoke the partial least squares regression."
      ]
    },
    {
      "cell_type": "code",
      "metadata": {
        "id": "mqskWtNjyqAe"
      },
      "source": [
        "numComponents <- 10\n",
        "plsFit.manual = plsr(df.y.pls.train$sale.price ~., data = df.pls.train, ncomp = numComponents)"
      ],
      "execution_count": null,
      "outputs": []
    },
    {
      "cell_type": "code",
      "metadata": {
        "id": "kwjsddvjyqAe",
        "colab": {
          "base_uri": "https://localhost:8080/"
        },
        "outputId": "3ab97890-fafa-49ac-e496-f6a32378fbb7"
      },
      "source": [
        "summary(plsFit.manual)"
      ],
      "execution_count": null,
      "outputs": [
        {
          "output_type": "stream",
          "text": [
            "Data: \tX dimension: 19537 9073 \n",
            "\tY dimension: 19537 1\n",
            "Fit method: kernelpls\n",
            "Number of components considered: 10\n",
            "TRAINING: % variance explained\n",
            "                           1 comps  2 comps  3 comps  4 comps  5 comps  6 comps\n",
            "X                           14.504   24.431   29.803   35.183   39.758   45.510\n",
            "df.y.pls.train$sale.price    3.192    3.932    5.084    6.336    7.873    9.559\n",
            "                           7 comps  8 comps  9 comps  10 comps\n",
            "X                            48.48    52.26    54.90     57.92\n",
            "df.y.pls.train$sale.price    13.74    17.32    20.77     22.60\n"
          ],
          "name": "stdout"
        }
      ]
    },
    {
      "cell_type": "code",
      "metadata": {
        "id": "xUrT2TYfyqAe"
      },
      "source": [
        "# try on the test data, and then evaluate the results.\n",
        "plsPred.manual = predict(plsFit.manual, df.pls.test, ncomp = numComponents)\n",
        "plsValue.manual = data.frame(obs = df.y.pls.test$sale.price, pred = plsPred.manual[,,1])"
      ],
      "execution_count": null,
      "outputs": []
    },
    {
      "cell_type": "code",
      "metadata": {
        "id": "jk6C87FIyqAe",
        "colab": {
          "base_uri": "https://localhost:8080/",
          "height": 68
        },
        "outputId": "316bb180-f16f-4d71-dc5c-04f025ecd088"
      },
      "source": [
        "cat(\"Partial Least Squares (Manual)\")\n",
        "defaultSummary(plsValue.manual)\n",
        "cat(\"\\n\")"
      ],
      "execution_count": null,
      "outputs": [
        {
          "output_type": "stream",
          "text": [
            "Partial Least Squares (Manual)"
          ],
          "name": "stdout"
        },
        {
          "output_type": "display_data",
          "data": {
            "text/plain": [
              "        RMSE     Rsquared          MAE \n",
              "9.770199e+06 1.704960e-01 3.647630e+06 "
            ],
            "text/latex": "\\begin{description*}\n\\item[RMSE] 9770198.81616611\n\\item[Rsquared] 0.170495995100436\n\\item[MAE] 3647630.20779787\n\\end{description*}\n",
            "text/markdown": "RMSE\n:   9770198.81616611Rsquared\n:   0.170495995100436MAE\n:   3647630.20779787\n\n",
            "text/html": [
              "<style>\n",
              ".dl-inline {width: auto; margin:0; padding: 0}\n",
              ".dl-inline>dt, .dl-inline>dd {float: none; width: auto; display: inline-block}\n",
              ".dl-inline>dt::after {content: \":\\0020\"; padding-right: .5ex}\n",
              ".dl-inline>dt:not(:first-of-type) {padding-left: .5ex}\n",
              "</style><dl class=dl-inline><dt>RMSE</dt><dd>9770198.81616611</dd><dt>Rsquared</dt><dd>0.170495995100436</dd><dt>MAE</dt><dd>3647630.20779787</dd></dl>\n"
            ]
          },
          "metadata": {
            "tags": []
          }
        },
        {
          "output_type": "stream",
          "text": [
            "\n"
          ],
          "name": "stdout"
        }
      ]
    },
    {
      "cell_type": "markdown",
      "metadata": {
        "id": "jmMM8d_GyqAe"
      },
      "source": [
        "Based on the results of the manual PLS model, we can see that $R^{2}\\,\\approx\\,0.17$, which indicates that the model was ill-suited to predict or observe a linear relationship between all of the predictors."
      ]
    },
    {
      "cell_type": "markdown",
      "metadata": {
        "id": "9pJ1jAyyyqAe"
      },
      "source": [
        "#### `TrainControl`-based PLS with 10-folds cross validation\n",
        "\n",
        "To verify/validate the results seen in the manual PLS model, we will use a `TrainControl` to automate a 10-fold cross validation of a PLS model. "
      ]
    },
    {
      "cell_type": "code",
      "metadata": {
        "id": "UR4gQ1twhh5f"
      },
      "source": [
        "# #### `TrainControl`-based PLS with 10-folds cross validation\n",
        "# To verify/validate the results seen in the manual PLS model, we will use a `TrainControl` \n",
        "# to automate a 10-fold cross validation of a PLS model. \n",
        "\n",
        "# Partial Least Squares - Automated\n",
        "plsFit.CV <- train(\n",
        "    x = df.pls.train, # select features/predictors\n",
        "    y = df.y.pls.train$sale.price, # select outcome\n",
        "    method = \"pls\",\n",
        "    tuneGrid = expand.grid(ncomp = numComponents),\n",
        "    trControl = pls.ctrl\n",
        ")"
      ],
      "execution_count": null,
      "outputs": []
    },
    {
      "cell_type": "code",
      "metadata": {
        "id": "enbhMg4QyqAe",
        "colab": {
          "base_uri": "https://localhost:8080/"
        },
        "outputId": "abdf8390-489c-4190-ca3c-2b849f4a49ca"
      },
      "source": [
        "summary(plsFit.CV)"
      ],
      "execution_count": null,
      "outputs": [
        {
          "output_type": "stream",
          "text": [
            "Data: \tX dimension: 19537 9073 \n",
            "\tY dimension: 19537 1\n",
            "Fit method: oscorespls\n",
            "Number of components considered: 10\n",
            "TRAINING: % variance explained\n",
            "          1 comps  2 comps  3 comps  4 comps  5 comps  6 comps  7 comps\n",
            "X          14.504   24.431   29.803   35.183   39.758   45.510    48.48\n",
            ".outcome    3.192    3.932    5.084    6.336    7.873    9.559    13.74\n",
            "          8 comps  9 comps  10 comps\n",
            "X           52.26    54.90     57.92\n",
            ".outcome    17.32    20.77     22.60\n"
          ],
          "name": "stdout"
        }
      ]
    },
    {
      "cell_type": "code",
      "metadata": {
        "id": "UX_pSeA_yqAe"
      },
      "source": [
        "plsPred.CV <- predict(plsFit.CV, df.pls.test)"
      ],
      "execution_count": null,
      "outputs": []
    },
    {
      "cell_type": "code",
      "metadata": {
        "id": "6p2J1AZZyqAe",
        "colab": {
          "base_uri": "https://localhost:8080/",
          "height": 33
        },
        "outputId": "4687ffd6-e99b-4515-dde9-e097872870b5"
      },
      "source": [
        "plsTest.CV <- data.frame(obs = df.y.pls.test$sale.price, pred = predict(plsFit.CV, df.pls.test))\n",
        "defaultSummary(plsTest.CV)"
      ],
      "execution_count": null,
      "outputs": [
        {
          "output_type": "display_data",
          "data": {
            "text/plain": [
              "        RMSE     Rsquared          MAE \n",
              "9.770199e+06 1.704960e-01 3.647630e+06 "
            ],
            "text/latex": "\\begin{description*}\n\\item[RMSE] 9770198.81616608\n\\item[Rsquared] 0.170495995100441\n\\item[MAE] 3647630.20779788\n\\end{description*}\n",
            "text/markdown": "RMSE\n:   9770198.81616608Rsquared\n:   0.170495995100441MAE\n:   3647630.20779788\n\n",
            "text/html": [
              "<style>\n",
              ".dl-inline {width: auto; margin:0; padding: 0}\n",
              ".dl-inline>dt, .dl-inline>dd {float: none; width: auto; display: inline-block}\n",
              ".dl-inline>dt::after {content: \":\\0020\"; padding-right: .5ex}\n",
              ".dl-inline>dt:not(:first-of-type) {padding-left: .5ex}\n",
              "</style><dl class=dl-inline><dt>RMSE</dt><dd>9770198.81616608</dd><dt>Rsquared</dt><dd>0.170495995100441</dd><dt>MAE</dt><dd>3647630.20779788</dd></dl>\n"
            ]
          },
          "metadata": {
            "tags": []
          }
        }
      ]
    },
    {
      "cell_type": "markdown",
      "metadata": {
        "id": "qia_Db0VyqAe"
      },
      "source": [
        "Based on the results seen above, the results are virtually indistinguishable from the manual PLS model."
      ]
    },
    {
      "cell_type": "markdown",
      "metadata": {
        "id": "wjlVL_rP18cF"
      },
      "source": [
        "## Tree Based Regression"
      ]
    },
    {
      "cell_type": "code",
      "metadata": {
        "colab": {
          "base_uri": "https://localhost:8080/",
          "height": 1000
        },
        "id": "H2gf_IG62UEn",
        "outputId": "fdd02469-432a-47aa-9480-02205dbb9ca6"
      },
      "source": [
        "# Setting the seed for our Regression Tree Model\n",
        "set.seed(4000)\n",
        "\n",
        "treebasedfit <- train(\n",
        "  x= df.pls.train, \n",
        "  y= df.y.pls.train$sale.price,\n",
        "  method = \"rpart2\",\n",
        "  tuneLength = 20,\n",
        "  trControl = trainControl(method = \"cv\")\n",
        ")\n",
        "\n",
        "treebasedfit\n",
        "plot(treebasedfit)"
      ],
      "execution_count": null,
      "outputs": [
        {
          "output_type": "stream",
          "text": [
            "Warning message in nominalTrainWorkflow(x = x, y = y, wts = weights, info = trainInfo, :\n",
            "“There were missing values in resampled performance measures.”\n"
          ],
          "name": "stderr"
        },
        {
          "output_type": "display_data",
          "data": {
            "text/plain": [
              "CART \n",
              "\n",
              "19537 samples\n",
              "   18 predictor\n",
              "\n",
              "No pre-processing\n",
              "Resampling: Cross-Validated (10 fold) \n",
              "Summary of sample sizes: 17583, 17583, 17584, 17583, 17584, 17582, ... \n",
              "Resampling results across tuning parameters:\n",
              "\n",
              "  maxdepth  RMSE      Rsquared   MAE    \n",
              "   1        14605194  0.4101510  1816832\n",
              "   2        13966576  0.3553016  1644289\n",
              "   3        14164527  0.3476492  1554154\n",
              "   5        14138563  0.3405936  1403653\n",
              "   6        14138563  0.3405936  1403653\n",
              "   7        14138563  0.3405936  1403653\n",
              "   8        14138563  0.3405936  1403653\n",
              "   9        14138563  0.3405936  1403653\n",
              "  10        14138563  0.3405936  1403653\n",
              "  11        14138563  0.3405936  1403653\n",
              "  12        14138563  0.3405936  1403653\n",
              "  13        14138563  0.3405936  1403653\n",
              "  14        14138563  0.3405936  1403653\n",
              "  15        14138563  0.3405936  1403653\n",
              "  16        14138563  0.3405936  1403653\n",
              "  17        14138563  0.3405936  1403653\n",
              "  18        14138563  0.3405936  1403653\n",
              "  19        14138563  0.3405936  1403653\n",
              "  21        14138563  0.3405936  1403653\n",
              "  22        14138563  0.3405936  1403653\n",
              "\n",
              "RMSE was used to select the optimal model using the smallest value.\n",
              "The final value used for the model was maxdepth = 2."
            ]
          },
          "metadata": {
            "tags": []
          }
        },
        {
          "output_type": "display_data",
          "data": {
            "image/png": "[encoded data removed]",
            "text/plain": [
              "plot without title"
            ]
          },
          "metadata": {
            "tags": [],
            "image/png": {
              "width": 420,
              "height": 420
            }
          }
        }
      ]
    },
    {
      "cell_type": "markdown",
      "metadata": {
        "id": "9kdL8Yq96bh4"
      },
      "source": [
        "## Random Forest"
      ]
    },
    {
      "cell_type": "code",
      "metadata": {
        "colab": {
          "base_uri": "https://localhost:8080/",
          "height": 203
        },
        "id": "18xbKrBU6iZP",
        "outputId": "7efe7a63-347d-46c1-cdf9-e3c70639d888"
      },
      "source": [
        "# Random Forest\n",
        "rftfit <- randomForest(\n",
        "  x=df.pls.train, \n",
        "  y=df.y.pls.train$sale.price,\n",
        "  importance = TRUE,\n",
        "  ntrees = 1000\n",
        ")\n",
        "\n",
        "rftfit\n",
        "plot(rftfit)"
      ],
      "execution_count": null,
      "outputs": [
        {
          "output_type": "error",
          "ename": "ERROR",
          "evalue": "ignored",
          "traceback": [
            "Error in randomForest.default(x = df.pls.train, y = df.y.pls.train$sale.price, : Can not handle categorical predictors with more than 53 categories.\nTraceback:\n",
            "1. randomForest(x = df.pls.train, y = df.y.pls.train$sale.price, \n .     importance = TRUE, ntrees = 1000)",
            "2. randomForest.default(x = df.pls.train, y = df.y.pls.train$sale.price, \n .     importance = TRUE, ntrees = 1000)",
            "3. stop(\"Can not handle categorical predictors with more than 53 categories.\")"
          ]
        }
      ]
    },
    {
      "cell_type": "markdown",
      "metadata": {
        "id": "931onhs2-3Nf"
      },
      "source": [
        "# RAW CODE - GK"
      ]
    },
    {
      "cell_type": "code",
      "metadata": {
        "id": "_W5_ZWTT9zzd",
        "colab": {
          "base_uri": "https://localhost:8080/",
          "height": 132
        },
        "outputId": "33424b7a-77ab-4558-9691-8a4fe1133809"
      },
      "source": [
        "head(nycdata)\n",
        "\n",
        "colnames(nycdata) %<>% str_replace_all(\"\\\\s\", \"_\") %>% tolower()\n",
        "colnames(nycdata)\n",
        "\n",
        "str(nycdata)\n",
        "\n",
        "df <- nycdata\n",
        "df$sale.price <- as.numeric(as.character(df$sale.price))\n",
        "df$land.square.feet <- as.numeric(as.character(df$land.square.feet))\n",
        "df$gross.square.feet <- as.numeric(as.character(df$gross.square.feet))\n",
        "\n",
        "df$ease.ment = NULL\n",
        "df$apartment.number = NULL\n",
        "df$sale.date = NULL\n",
        "\n",
        "df$borough = as.factor(df$borough)\n",
        "df$neighborhood = as.factor(df$neighborhood)\n",
        "df$building.class.category = as.factor(df$building.class.category)\n",
        "df$tax.class.at.present = as.factor(df$tax.class.at.present )\n",
        "\n",
        "#block and lot\n",
        "\n",
        "df$building.class.at.present = as.factor(df$building.class.at.present)\n",
        "\n",
        "#address needs to be feature engineered\n",
        "# avenue, broadway etc.\n",
        "\n",
        "df$zip.code = as.factor(df$zip.code)\n",
        "\n",
        "#total units is a calculated field. can be ignored\n",
        "\n",
        "#convert sqftage to numeric\n",
        "df$land.square.feet = as.numeric(df$land.square.feet)\n",
        "df$gross.square.feet = as.numeric(df$gross.square.feet)\n",
        "\n",
        "#need to feature engineer year built- \n",
        "# option 1- convert to 'age' by subtracting from 2017\n",
        "# option 2- convert to intervals\n",
        "# option 3- convert to factor and leave as is\n",
        "\n",
        "#doing option 3\n",
        "df$year.built <- as.factor(df$year.built)\n",
        "\n",
        "df$tax.class.at.time.of.sale = as.factor(df$tax.class.at.time.of.sale)\n",
        "df$building.class.at.time.of.sale = as.factor(df$building.class.at.time.of.sale)\n",
        "\n",
        "df$sale.price = as.numeric(df$sale.price)\n",
        "\n",
        "# removed NA and keep only distinct records\n",
        "df <- df %>% distinct() %>% drop_na(c(gross.square.feet,land.square.feet, sale.price))\n",
        "\n",
        "#drop NA's that were created during the conversion from the \"-\" value\n",
        "df <- df %>% drop_na(c(gross.square.feet,land.square.feet, sale.price))\n",
        "\n",
        "freq_dist_sale_price <- df %>% group_by(sale.price) %>% summarize(Freq = n())\n",
        "freq_dist_land_square_feet <- df %>% group_by(land.square.feet) %>% summarize(Freq = n())\n",
        "freq_dist_gross_square_feet <- df %>% group_by(gross.square.feet) %>% summarize(Freq = n())\n",
        "\n",
        "freq_dist_sale_price\n",
        "freq_dist_land_square_feet\n",
        "freq_dist_gross_square_feet\n",
        "\n",
        "# removing datapoints whose sqftage is less than 100\n",
        "# removing datapoints whose sale price is <100k. Since median price @nyc is around 1.8k\n",
        "\n",
        "df <-df%>% filter(land.square.feet>100) \n",
        "df<- df %>% filter(gross.square.feet >100)\n",
        "df<- df %>% filter(sale.price>100000)\n",
        "\n",
        "new_freq_dist_sale_price <- df %>% group_by(sale.price) %>% summarize(Freq = n())\n",
        "new_freq_dist_land_square_feet <- df %>% group_by(land.square.feet) %>% summarize(Freq = n())\n",
        "new_freq_dist_gross_square_feet <- df %>% group_by(gross.square.feet) %>% summarize(Freq = n())\n",
        "\n",
        "max(nycdata$sale.price)\n",
        "class(nycdata$sale.price)\n",
        "max(df$sale.price)\n",
        "min(df$sale.price)\n",
        "\n",
        "max(df$gross.square.feet)\n",
        "min(df$gross.square.feet)\n",
        "\n",
        "max(df$land.square.feet)\n",
        "min(df$land.square.feet)\n",
        "\n",
        "hist(df$sale.price)\n",
        "hist(df$gross.square.feet)\n",
        "\n",
        "# check multicollinearity\n",
        "install.packages(\"corrplot\")\n",
        "library(corrplot)\n",
        "library(RColorBrewer)\n",
        "numericpredictors <- c('residential.units','commercial.units','total.units','land.square.feet','gross.square.feet','sale.price')\n",
        "df_numpreds <- subset(df, select= numericpredictors)\n",
        "corr <- cor(df_numpreds)\n",
        "corr\n",
        "corrplot(corr,method= \"number\",col=brewer.pal(n=8, name=\"PuOr\"))\n",
        "\n",
        "#remove total units as a predictor since it is highly correlated to # of residential units and commercial units\n",
        "\n",
        "# one hot encoding the categorical variables\n",
        "# borough \n",
        "# neighborhood\n",
        "# building.class.category \n",
        "# tax.class.at.present \n",
        "# building.class.at.present\n",
        "# zip.code\n",
        "# year.built\n",
        "# tax.class.at.time.of.sale\n",
        "# building.class.at.time.of.sale\n",
        "\n",
        "dmy <- dummyVars(\" ~ borough +\n",
        "neighborhood +\n",
        "building.class.category +\n",
        "tax.class.at.present +\n",
        "building.class.at.present +\n",
        "zip.code +\n",
        "year.built +\n",
        "tax.class.at.time.of.sale +\n",
        "building.class.at.time.of.sale\", data = df)\n",
        "trsf <- data.frame(predict(dmy, newdata = df))\n",
        "dim(trsf)\n",
        "\n",
        "df_for_modeling <- cbind(trsf, df_numpreds)\n",
        "dim(df_for_modeling)\n",
        "\n",
        "#split data into train, validation and test\n",
        "inTraining <- createDataPartition(df_for_modeling$sale.price, p = .70, list = FALSE)\n",
        "trainset <- df_for_modeling[ inTraining,]\n",
        "testandvalidation  <- df_for_modeling[-inTraining,]\n",
        "\n",
        "testid <- createDataPartition(testandvalidation$sale.price, p = .50, list = FALSE)\n",
        "testset <- testandvalidation[testid,]\n",
        "validationset <- testandvalidation[-testid,]\n",
        "\n",
        "dim(trainset)\n",
        "dim(validationset)\n",
        "dim(testset)\n",
        "\n",
        "# training various models\n",
        "\n",
        "#Simple Linear Regression"
      ],
      "execution_count": null,
      "outputs": [
        {
          "output_type": "error",
          "ename": "ERROR",
          "evalue": "ignored",
          "traceback": [
            "Error in head(nycdata): object 'nycdata' not found\nTraceback:\n",
            "1. head(nycdata)"
          ]
        }
      ]
    },
    {
      "cell_type": "code",
      "metadata": {
        "id": "sODDyMkzRMbh"
      },
      "source": [
        "plot(nycdata[2],main = colnames(nycdata[2]))\n",
        "plot(nycdata[3],main = colnames(nycdata[3]))\n",
        "plot(nycdata[4],main = colnames(nycdata[4]))\n",
        "plot(nycdata[5],main = colnames(nycdata[5]))\n",
        "plot(nycdata[6],main = colnames(nycdata[6]))\n",
        "plot(nycdata[7],main = colnames(nycdata[7]))\n",
        "plot(nycdata[8],main = colnames(nycdata[8]))\n",
        "#plot(nyc.data[9],main = colnames(nyc.data[9])) Address not done\n",
        "# library(hexbin)\n",
        "#hexbinplot(latitude~longitude, data=nycdata)\n",
        "#plot(nyc.data[10],main = colnames(nyc.data[10]))\n",
        "#plot(nyc.data[11],main = colnames(nyc.data[11]))\n",
        "#plot(nyc.data[12],main = colnames(nyc.data[12])) Apt number not done\n",
        "plot(nyc.data[13],main = colnames(nycdata[13]))\n",
        "histogram(nycdata$residential.units)\n",
        "histogram(nycdata$commercial.units)\n",
        "histogram(nycdata$total.units)\n",
        "histogram(nycdata$land.square.feet)\n",
        "histogram(nycdata$gross.square.feet)\n",
        "histogram(nycdata$year.built)\n",
        "plot(nyc.data[20],main = colnames(nycdata[20]))\n",
        "plot(nyc.data[21],main = colnames(nycdata[21]))\n",
        "histogram(nycdata$sale.price)"
      ],
      "execution_count": null,
      "outputs": []
    },
    {
      "cell_type": "code",
      "metadata": {
        "id": "bj9jSckz592o"
      },
      "source": [
        "nyc.data2 <- nyc.data\n",
        "nyc.data2 <- nyc.data2[which(nyc.data$LATITUDE <= 41),]\n",
        "nyc.data2 <- nyc.data2[which(nyc.data2$LATITUDE >= 40),]\n",
        "nyc.data2 <- nyc.data2[which(nyc.data2$LONGITUDE <= -73.6),]\n",
        "hexbinplot(LATITUDE~LONGITUDE, data=nyc.data2)\n",
        "nyc.data2 <- nyc.data2[which(nyc.data2$LAND.SQUARE.FEET <= 1000000),]\n",
        "nyc.data2 <- nyc.data2[which(nyc.data2$LAND.SQUARE.FEET >= 100),]\n",
        "nyc.data2 <- nyc.data2[which(nyc.data2$GROSS.SQUARE.FEET >= 100),]\n",
        "nyc.data2 <- nyc.data2[which(nyc.data2$SALE.PRICE >= 100000),]\n",
        "nyc.data2 <- nyc.data2[which(nyc.data2$YEAR.BUILT >= 1500),]"
      ],
      "execution_count": null,
      "outputs": []
    },
    {
      "cell_type": "code",
      "metadata": {
        "id": "g0bZNEx6_D9D"
      },
      "source": [
        ""
      ],
      "execution_count": null,
      "outputs": []
    }
  ]
}