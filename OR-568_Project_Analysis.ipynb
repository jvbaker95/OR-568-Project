{
  "nbformat": 4,
  "nbformat_minor": 0,
  "metadata": {
    "colab": {
      "name": "OR-568_Project_Analysis.ipynb",
      "provenance": [],
      "collapsed_sections": [],
      "toc_visible": true
    },
    "kernelspec": {
      "display_name": "R",
      "language": "R",
      "name": "ir"
    },
    "language_info": {
      "codemirror_mode": "r",
      "file_extension": ".r",
      "mimetype": "text/x-r-source",
      "name": "R",
      "pygments_lexer": "r",
      "version": "4.0.2"
    }
  },
  "cells": [
    {
      "cell_type": "markdown",
      "metadata": {
        "id": "gdH9IFA9k9ZM"
      },
      "source": [
        "# OR 568 - Rogers Rangers\n",
        "## NYC Rolling Sales Dataset\n",
        "\n",
        "James Baker\n",
        "\n",
        "Arturo Davila-Andino\n",
        "\n",
        "Gridihar Kaushik Ramachandran (GK)\n",
        "\n",
        "Andrew So"
      ]
    },
    {
      "cell_type": "markdown",
      "metadata": {
        "id": "cnbbh4XKk9ZO"
      },
      "source": [
        "## Developer Notes\n",
        "\n",
        "*James B*: For tables, I generally build them in excel and then convert them into Markdown tables at these two links:\n",
        "* https://tableconvert.com/\n",
        "* https://www.tablesgenerator.com/markdown_tables"
      ]
    },
    {
      "cell_type": "markdown",
      "metadata": {
        "id": "vQN3hhBXk9ZO"
      },
      "source": [
        "# Initial Setup / Package Imports"
      ]
    },
    {
      "cell_type": "code",
      "metadata": {
        "colab": {
          "base_uri": "https://localhost:8080/"
        },
        "id": "XOUWagt-k9ZP",
        "scrolled": true,
        "outputId": "3b7dda3d-57ad-4b38-d20e-f79e5b27f849"
      },
      "source": [
        "# ipak function: install and load multiple R packages.\n",
        "# check to see if packages are installed. Install them if they are not, then load them into the R session.\n",
        "ipak <- function(pkg){\n",
        "    new.pkg <- pkg[!(pkg %in% installed.packages()[, \"Package\"])]\n",
        "    if (length(new.pkg)) \n",
        "        install.packages(new.pkg, dependencies = TRUE)\n",
        "    sapply(pkg, require, character.only = TRUE)\n",
        "}\n",
        "\n",
        "# usage\n",
        "packages <- c(\n",
        "    \"ggplot2\", \n",
        "    \"plyr\", \n",
        "    \"mlbench\", \n",
        "    \"e1071\", \n",
        "    \"dplyr\", \n",
        "    \"caret\", #  Contains functions to streamline the model training process for complex regression and classification problems\n",
        "    \"pls\", # For Partial Least Squares \n",
        "    \"lars\", # For Penalized Models \n",
        "    \"elasticnet\", # For Penalized Models\n",
        "    \"AppliedPredictiveModeling\",\n",
        "    \"tidyr\",\n",
        "    \"magrittr\",\n",
        "    \"stringr\",\n",
        "    \"readr\",\n",
        "    \"nortest\",\n",
        "    \"epiDisplay\",\n",
        "    \"corrplot\",\n",
        "    \"RColorBrewer\", \n",
        "    \"bestNormalize\",\n",
        "    \"randomForest\",\n",
        "    \"earth\", # For MARS\n",
        "    \"plotmo\", # For MARS\n",
        "    \"plotrix\", # For MARS\n",
        "    \"TeachingDemos\" # For MARS\n",
        ")\n",
        "ipak(packages)"
      ],
      "execution_count": null,
      "outputs": [
        {
          "output_type": "stream",
          "text": [
            "Installing packages into ‘/usr/local/lib/R/site-library’\n",
            "(as ‘lib’ is unspecified)\n",
            "\n",
            "Warning message:\n",
            "“dependency ‘R2wd’ is not available”\n",
            "also installing the dependencies ‘R.oo’, ‘R.utils’, ‘R.cache’, ‘caTools’, ‘lava’, ‘miniUI’, ‘styler’, ‘classInt’, ‘gplots’, ‘matrixStats’, ‘multcomp’, ‘RcppParallel’, ‘fastmatch’, ‘httpuv’, ‘sourcetools’, ‘fastmap’, ‘webshot’, ‘data.table’, ‘gower’, ‘timeDate’, ‘brglm’, ‘gtools’, ‘lme4’, ‘qvcalc’, ‘prodlim’, ‘combinat’, ‘questionr’, ‘ROCR’, ‘mvtnorm’, ‘modeltools’, ‘strucchange’, ‘coin’, ‘zoo’, ‘sandwich’, ‘ISwR’, ‘corpcor’, ‘lamW’, ‘rngtools’, ‘shape’, ‘ParamHelpers’, ‘BBmisc’, ‘checkmate’, ‘parallelMap’, ‘XML’, ‘Deriv’, ‘libcoin’, ‘inum’, ‘MatrixModels’, ‘shiny’, ‘manipulateWidget’, ‘mathjaxr’, ‘sp’, ‘abind’, ‘doParallel’, ‘foreach’, ‘iterators’, ‘itertools’, ‘SparseM’, ‘xtable’, ‘slam’, ‘ModelMetrics’, ‘reshape2’, ‘recipes’, ‘pROC’, ‘BradleyTerry2’, ‘fastICA’, ‘gam’, ‘ipred’, ‘kernlab’, ‘klaR’, ‘ellipse’, ‘mda’, ‘MLmetrics’, ‘party’, ‘proxy’, ‘RANN’, ‘spls’, ‘subselect’, ‘pamr’, ‘superpc’, ‘Cubist’, ‘Rmpi’, ‘RUnit’, ‘CORElearn’, ‘LambertW’, ‘doRNG’, ‘Formula’, ‘C50’, ‘gbm’, ‘glmnet’, ‘glmnetUtils’, ‘mlr’, ‘neuralnet’, ‘partykit’, ‘pre’, ‘rpart.plot’, ‘tkrplot’, ‘rgl’, ‘tcltk2’, ‘png’, ‘logspline’, ‘maptools’, ‘manipulate’\n",
            "\n",
            "\n",
            "Warning message in install.packages(new.pkg, dependencies = TRUE):\n",
            "“installation of package ‘matrixStats’ had non-zero exit status”\n"
          ],
          "name": "stderr"
        }
      ]
    },
    {
      "cell_type": "markdown",
      "metadata": {
        "id": "bDiPAe3Hk9ZV"
      },
      "source": [
        "## Dataset Import\n",
        "Dataset found at: https://www.kaggle.com/new-york-city/nyc-property-sales#\n",
        "\n",
        "\n",
        "We use a a try-catch block in an attempt to find the NYC Rolling Sales data locally; if it doesn't exist, then read it from the hardcoded Google Drive link."
      ]
    },
    {
      "cell_type": "markdown",
      "metadata": {
        "id": "LGpj8MnC1n3B"
      },
      "source": [
        "**Note** We used a variety of both manual and automated methods to massage the data before it hits the R pipeline:\n",
        "\n",
        "* We used a web-facing API called [Geocod.io](https://www.geocod.io/) to add associated latitude/longitudal data for potential use in the model.\n",
        "\n",
        "* In addition, we used a PowerShell Script `Process-Address.ps1` in an attempt to strip house numbers from the address in an attempt to categorize records by street name (e.g., properties on Broadway, 5th Avenue, 1st Street, etc.)\n",
        "\n",
        "**These changes resulted in our using a new dataset called `nyc-rolling-sales-latlong-streets.csv`, which the project will attempt to source locally (if it exists) or via an open endpoint on the Team's Google Drive.**"
      ]
    },
    {
      "cell_type": "code",
      "metadata": {
        "id": "PYQ57dgIk9ZW"
      },
      "source": [
        "# The filepath on Google Drive.\n",
        "drive.fileID <- \"1E8NdpOww8IKdN1Kw0NcDPQxycU__hsVu\" \n",
        "drive.filePath <- sprintf(\"https://drive.google.com/uc?id=%s\",drive.fileID)\n",
        "file.name <- \"nyc-rolling-sales-latlong-streets.csv\"\n",
        "\n",
        "# This is a try-catch block in an attempt to find the NYC Rolling Sales data\n",
        "# locally; if it doesn't exist, then read it from the hardcoded Google Drive link.\n",
        "nyc.data <- tryCatch(\n",
        "    # Try\n",
        "    {\n",
        "      message(sprintf(\"Attempting to read `%s` locally...\",file.name))\n",
        "      read.csv(file.name)\n",
        "    },\n",
        "    # Catch\n",
        "    error = function(cond) {\n",
        "      message(sprintf(\"Will use Google Drive Version instead at %s...\", drive.filePath))\n",
        "      return( read.csv(drive.filePath) )\n",
        "    },\n",
        "    # Finally\n",
        "    finally = function(cond) {\n",
        "      return(message(\"Unknown error occured!\"))\n",
        "    }\n",
        ")\n",
        "\n",
        "cat(\"Number of Rows: \",nrow(nyc.data), \"\\nNumber of Cols: \", ncol(nyc.data),\"\\nShowing first 2 rows...\")\n",
        "head(nyc.data, 2)"
      ],
      "execution_count": null,
      "outputs": []
    },
    {
      "cell_type": "markdown",
      "metadata": {
        "id": "4eWXG6eJk9Za"
      },
      "source": [
        "## Data Dictionary\n",
        "\n",
        "https://www1.nyc.gov/assets/finance/downloads/pdf/07pdf/glossary_rsf071607.pdf"
      ]
    },
    {
      "cell_type": "markdown",
      "metadata": {
        "id": "3FozwOjNvAU6"
      },
      "source": [
        "|    <br>         \t|    <br>Field                                          \t|    <br>Description                                                                                                                                                                                                                                                                                                                                                                                                                                                                                                                                                                                                                                                                                                                                                                                                                                                                                                                                                                                        \t|\n",
        "|-----------------\t|-------------------------------------------------------\t|-----------------------------------------------------------------------------------------------------------------------------------------------------------------------------------------------------------------------------------------------------------------------------------------------------------------------------------------------------------------------------------------------------------------------------------------------------------------------------------------------------------------------------------------------------------------------------------------------------------------------------------------------------------------------------------------------------------------------------------------------------------------------------------------------------------------------------------------------------------------------------------------------------------------------------------------------------------------------------------------------------------\t|\n",
        "|    <br>1        \t|    <br>ADDRESS                                        \t|    <br>The street   address of the property as listed on the Sales File. Coop sales include the   apartment number in the address field.                                                                                                                                                                                                                                                                                                                                                                                                                                                                                                                                                                                                                                                                                                                                                                                                                                                                  \t|\n",
        "|    <br>2        \t|    <br>APARTMENT NUMBER                               \t|    <br>The apartment   number of the property (if applicable)                                                                                                                                                                                                                                                                                                                                                                                                                                                                                                                                                                                                                                                                                                                                                                                                                                                                                                                                             \t|\n",
        "|    <br>3        \t|    <br>BLOCK                                          \t|    <br>The   block number (up to 5 digits)                                                                                                                                                                                                                                                                                                                                                                                                                                                                                                                                                                                                                                                                                                                                                                                                                                                                                                                                                                \t|\n",
        "|    <br>4        \t|    <br>BOROUGH                                        \t|    <br>A   digit code for the borough the property is located in.<br>   In order, these are:<br>   (1) Manhattan,<br>   (2) Bronx,<br>   (3) Brooklyn,<br>   (4) Queens, and<br>   (5) Staten Island.                                                                                                                                                                                                                                                                                                                                                                                                                                                                                                                                                                                                                                                                                                                                                                                                     \t|\n",
        "|    <br>5/6      \t|    <br>BUILDING CLASS (AT PRESENT/ TIME   OF SALE)    \t|    <br>The   Building Classification is used to describe a property’s constructive use.   The first position of the Building Class is a letter that is used to describe   a general class of properties (for example “A” signifies one-family homes,   “O” signifies office buildings. “R” signifies condominiums). The second   position, a number, adds more specific information about the property’s use   or construction style (using our previous examples “A0” is a Cape Cod style   one family home, “O4” is a tower type office building and “R5” is a   commercial condominium unit). The term ‘Building Class’ as used by the   Department of Finance is interchangeable with the term Building Code as used   by the Department of Buildings.<br>   <br> <br>   <br>Refer   to code here:<br>   https://www1.nyc.gov/assets/finance/jump/hlpbldgcode.html                                                                                                                                    \t|\n",
        "|    <br>7        \t|    <br>BUILDING CLASS CATEGORY                        \t|    <br>Refer   to code here:<br>   https://www1.nyc.gov/assets/finance/jump/hlpbldgcode.html                                                                                                                                                                                                                                                                                                                                                                                                                                                                                                                                                                                                                                                                                                                                                                                                                                                                                                              \t|\n",
        "|    <br>8        \t|    <br>COMMERCIAL UNITS                               \t|    <br>The number   of commercial units at the listed property.                                                                                                                                                                                                                                                                                                                                                                                                                                                                                                                                                                                                                                                                                                                                                                                                                                                                                                                                           \t|\n",
        "|    <br>9        \t|    <br>EASE-MENT                                      \t|    <br>An   easement is a right, such as a right of way, which allows an entity to make   limited use of another’s real property. For example: MTA railroad tracks that   run across a portion of another property.                                                                                                                                                                                                                                                                                                                                                                                                                                                                                                                                                                                                                                                                                                                                                                                       \t|\n",
        "|    <br>10       \t|    <br>GROSS SQUARE FEET                              \t|    <br>The total   area of all the floors of a building as measured from the exterior surfaces   of the outside walls of the building, including the land area and space   within any building or structure on the property.                                                                                                                                                                                                                                                                                                                                                                                                                                                                                                                                                                                                                                                                                                                                                                              \t|\n",
        "|    <br>11       \t|    <br>LAND SQUARE FEET                               \t|    <br>The land   area of the property listed in square feet.                                                                                                                                                                                                                                                                                                                                                                                                                                                                                                                                                                                                                                                                                                                                                                                                                                                                                                                                             \t|\n",
        "|    <br>12       \t|    <br>LOT                                            \t|    <br>The   lot number (up to 4 digits)                                                                                                                                                                                                                                                                                                                                                                                                                                                                                                                                                                                                                                                                                                                                                                                                                                                                                                                                                                  \t|\n",
        "|    <br>13       \t|    <br>NEIGHBORHOOD                                   \t|    <br>Department   of Finance assessors determine the neighborhood name in the course of valuing   properties. The common name of the neighborhood is generally the same as the   name Finance designates. However, there may be slight differences in   neighborhood boundary lines and some sub-neighborhoods may not be included                                                                                                                                                                                                                                                                                                                                                                                                                                                                                                                                                                                                                                                                      \t|\n",
        "|    <br>14       \t|    <br>RESIDENTIAL UNITS                              \t|    <br>The   number of houses/apartments intended for use as a place of residence at the   address.<br>   (https://www.lawinsider.com/dictionary/residential-unit)                                                                                                                                                                                                                                                                                                                                                                                                                                                                                                                                                                                                                                                                                                                                                                                                                                        \t|\n",
        "|    <br>15       \t|    <br>SALE DATE                                      \t|    <br>Date the   property sold.                                                                                                                                                                                                                                                                                                                                                                                                                                                                                                                                                                                                                                                                                                                                                                                                                                                                                                                                                                          \t|\n",
        "|    <br>16       \t|    <br>SALE PRICE                                     \t|    <br>Price paid   for the property.                                                                                                                                                                                                                                                                                                                                                                                                                                                                                                                                                                                                                                                                                                                                                                                                                                                                                                                                                                     \t|\n",
        "|    <br>17/18    \t|    <br>TAX CLASS (AT PRESENT/TIME OF   SALE)          \t|    <br>Property   in NYC is divided into 4 classes:<br>   Class 1: Most residential property of up to three units<br>   (family homes and small stores or offices with one or two apartments   attached),<br>   and most condominiums that are not more than three stories.<br>   <br>   Class 2: All other property that is not in Class 1 and is primarily   residential<br>   (rentals, cooperatives and condominiums). Class 2 includes:<br>   • Sub-Class 2a (4 - 6 unit rental building);<br>   • Sub-Class 2b (7 - 10 unit rental building);<br>   • Sub-Class 2c (2 - 10 unit cooperative or condominium); and<br>   • Class 2 (11 units or more).<br>   <br>   Class 3: Most utility property.<br>   <br>   Class 4: All commercial and industrial properties, such as office, retail,<br>   factory buildings and all other properties not included in tax classes 1, 2   or 3.<br>   <br>   SOURCE:   https://www1.nyc.gov/site/finance/taxes/definitions-of-property-assessment-terms.page    \t|"
      ]
    },
    {
      "cell_type": "markdown",
      "metadata": {
        "id": "8us7lG8gMRNQ"
      },
      "source": [
        "# Data Processing"
      ]
    },
    {
      "cell_type": "markdown",
      "metadata": {
        "id": "68QLTxGT8So8"
      },
      "source": [
        "## Initial Exploration"
      ]
    },
    {
      "cell_type": "markdown",
      "metadata": {
        "id": "JnysmMU61n3P"
      },
      "source": [
        "First, we examine the head of the data to get an idea of the structure."
      ]
    },
    {
      "cell_type": "code",
      "metadata": {
        "id": "ktqZoiu91n3Q"
      },
      "source": [
        "# First, we examine the head of the data to get an idea of the structure.\n",
        "head(nyc.data,2)\n",
        "\n",
        "# Make all columns lowercase for consistency's sake\n",
        "colnames(nyc.data) %<>% str_replace_all(\"\\\\s\", \"_\") %>% tolower()"
      ],
      "execution_count": null,
      "outputs": []
    },
    {
      "cell_type": "markdown",
      "metadata": {
        "id": "BmRnO7PH1n3X"
      },
      "source": [
        "To further supplement information gathering, we observe how many predictors there are."
      ]
    },
    {
      "cell_type": "code",
      "metadata": {
        "id": "FSQHMJNJ1n3b"
      },
      "source": [
        "# Helper function to pretty print column names for a dataframe\n",
        "prettyPrintCols <- function(data.frame) {\n",
        "     print(colnames(data.frame) %<>% str_replace_all(\"\\\\s\", \"_\") %>% tolower())\n",
        "}"
      ],
      "execution_count": null,
      "outputs": []
    },
    {
      "cell_type": "code",
      "metadata": {
        "id": "y1DYIgsq8OPi"
      },
      "source": [
        "# To further supplement information gathering, we observe how many predictors there are.\n",
        "sprintf(\"There are %s cols in nyc.data:\", ncol(nyc.data))\n",
        "prettyPrintCols(nyc.data)"
      ],
      "execution_count": null,
      "outputs": []
    },
    {
      "cell_type": "markdown",
      "metadata": {
        "id": "ANqWHGKX1n3j"
      },
      "source": [
        "Then, we observe the current structure:"
      ]
    },
    {
      "cell_type": "code",
      "metadata": {
        "id": "nJNWv9mm1n3n",
        "scrolled": true
      },
      "source": [
        "str(nyc.data)"
      ],
      "execution_count": null,
      "outputs": []
    },
    {
      "cell_type": "markdown",
      "metadata": {
        "id": "iLmyx3wr1n3v"
      },
      "source": [
        "Based on manual observation and what we see in the data here, we observe the following:\n",
        "\n",
        "* `ease.ment` is 100% null.\n",
        "* `land.square.feet`, `gross.square.feet`, and `sale.price` are chars when they should be numeric vectors.\n",
        "\n",
        "So, we will clean the data in the next section."
      ]
    },
    {
      "cell_type": "markdown",
      "metadata": {
        "id": "HVHoUDnU8aOy"
      },
      "source": [
        "## Data Cleaning/Transformations in R"
      ]
    },
    {
      "cell_type": "markdown",
      "metadata": {
        "id": "RMCd5JxR1n3w"
      },
      "source": [
        "### Deep Copy\n",
        "\n",
        "To begin, we will no longer use `nyc.data` as the dataset for processing in R; we will use a copy to work over and retain the original."
      ]
    },
    {
      "cell_type": "code",
      "metadata": {
        "id": "7WH_QUph1n3x"
      },
      "source": [
        "# Begin with creating a deep copy of the nyc.data Dataframe for use onwards.\n",
        "\n",
        "df <- nyc.data\n",
        "\n",
        "#TODO: Be sure to split Y from the data BEFORE we boxcox/preprocess.\n",
        "# df <- subset(nyc.data, select = -c(sale.price))\n",
        "# df.y <- nyc.data$sale.price\n",
        "\n",
        "# Maintain an internal switch to use the STREET and LATLONG predictors.\n",
        "useStreet <- TRUE\n",
        "useLatLongs <- FALSE"
      ],
      "execution_count": null,
      "outputs": []
    },
    {
      "cell_type": "markdown",
      "metadata": {
        "id": "KFqkgC901n31"
      },
      "source": [
        "### Nulling unused predictors\n",
        "\n",
        "`ease.ment`, `apartment.number`, `sale.date` will not be used in the model because they either \n",
        "\n",
        "* Do not fit the purpose of the model, or\n",
        "* Do not have data that can contribute to the model.\n",
        "\n",
        "This will also NULL out any other predictors that will not be used in the model."
      ]
    },
    {
      "cell_type": "code",
      "metadata": {
        "id": "x21QCrML1n32"
      },
      "source": [
        "# ### Nulling unused predictors\n",
        "# `ease.ment`, `apartment.number`, `sale.date` will not be used in the model because they either \n",
        "# * Do not fit the purpose of the model, or\n",
        "# * Do not have data that can contribute to the model.\n",
        "# This will also NULL out any other predictors\" that will not be used in the model.\n",
        "\n",
        "df$ease.ment <- NULL\n",
        "df$apartment.number <- NULL\n",
        "df$sale.date <- NULL\n",
        "\n",
        "# This is a control function to allow usage of the STREET and\n",
        "# LATLONG predictors within the data set.\n",
        "if (!useStreet) {\n",
        "    print(\"UseStreet is DISABLED.\")\n",
        "    df$street <- NULL\n",
        "}\n",
        "\n",
        "if (!useLatLongs) {\n",
        "    print(\"UseLATLONGS is DISABLED.\")\n",
        "    df$latitude <- NULL\n",
        "    df$longitude <- NULL\n",
        "}\n",
        "prettyPrintCols(df)"
      ],
      "execution_count": null,
      "outputs": []
    },
    {
      "cell_type": "markdown",
      "metadata": {
        "id": "Z-Sojkd91n39"
      },
      "source": [
        "### Recasting predictors"
      ]
    },
    {
      "cell_type": "markdown",
      "metadata": {
        "id": "lcoAab151n3-"
      },
      "source": [
        "#### Numerics\n",
        "`sale.price`, `land.square.feet`, and `gross.square.feet` were identified to have been malformed, so they will be re-cast as numeric vectors."
      ]
    },
    {
      "cell_type": "markdown",
      "metadata": {
        "id": "KYTNlHT91n3_"
      },
      "source": [
        "##### Price and Square Footage"
      ]
    },
    {
      "cell_type": "code",
      "metadata": {
        "id": "m5rUkbgk1n3_"
      },
      "source": [
        "# #### Numerics\n",
        "# `sale.price`, `land.square.feet`, and `gross.square.feet` were identified to have been malformed, \n",
        "# so they will be re-cast as numeric vectors.\n",
        "\n",
        "##### Price and Square Footage\n",
        "df$sale.price <- as.numeric(as.character(df$sale.price))\n",
        "df$land.square.feet <- as.numeric(as.character(df$land.square.feet))\n",
        "df$gross.square.feet <- as.numeric(as.character(df$gross.square.feet))"
      ],
      "execution_count": null,
      "outputs": []
    },
    {
      "cell_type": "markdown",
      "metadata": {
        "id": "X4hp1o4V1n4D"
      },
      "source": [
        "#### Factors\n",
        "The following predictors can be factorized (made into categories):"
      ]
    },
    {
      "cell_type": "code",
      "metadata": {
        "id": "nEMCZ7C51n4E"
      },
      "source": [
        "# #### Factors\n",
        "# The following predictors can be factorized (made into categories):\n",
        "df$borough <- as.factor(df$borough)\n",
        "df$neighborhood <- as.factor(df$neighborhood)\n",
        "df$building.class.category <- as.factor(df$building.class.category)\n",
        "\n",
        "# PRESENT CATEGORIES\n",
        "df$tax.class.at.present <- as.factor(df$tax.class.at.present)\n",
        "df$building.class.at.present <- as.factor(df$building.class.at.present)\n",
        "\n",
        "# TIME OF SALE\n",
        "df$tax.class.at.time.of.sale <- as.factor(df$tax.class.at.time.of.sale)\n",
        "df$building.class.at.time.of.sale <- as.factor(df$building.class.at.time.of.sale) \n",
        "\n",
        "# ZIP CODE\n",
        "df$zip.code <- as.factor(df$zip.code)\n",
        "\n",
        "# Logic to use Street; if so, then remove the Address since it has no \n",
        "# utility here.\n",
        "if (useStreet) {\n",
        "    df$street <- as.factor(df$street)\n",
        "    df$address <- NULL\n",
        "}"
      ],
      "execution_count": null,
      "outputs": []
    },
    {
      "cell_type": "markdown",
      "metadata": {
        "id": "FP3hdZvm1n4P"
      },
      "source": [
        "#### Factorizing building age\n",
        "\n",
        "There are a few options that we can do here with respect to the building's age:\n",
        "We can:\n",
        "1. Convert to `age` by subtracting from 2017\n",
        "2. Convert to intervals\n",
        "3. Convert to factor and leave as is\n",
        "\n",
        "**The team chooses option 3.**"
      ]
    },
    {
      "cell_type": "code",
      "metadata": {
        "id": "p-BY2Ptw1n4Q"
      },
      "source": [
        "#doing option 3\n",
        "df$year.built <- as.factor(df$year.built)\n",
        "# df$sale.price = as.numeric(df$sale.price) # ??? This seems redundant"
      ],
      "execution_count": null,
      "outputs": []
    },
    {
      "cell_type": "markdown",
      "metadata": {
        "id": "2HQZT9cY1n4V"
      },
      "source": [
        "#### Data Filtering"
      ]
    },
    {
      "cell_type": "code",
      "metadata": {
        "id": "K8ROkGeY1n4W"
      },
      "source": [
        "missRow <- colSums(is.na(df))\n",
        "plot(missRow)"
      ],
      "execution_count": null,
      "outputs": []
    },
    {
      "cell_type": "markdown",
      "metadata": {
        "id": "kcu5Zt9O1n4h"
      },
      "source": [
        "##### Before Dropping Nulls\n",
        "\n",
        "We apply a filter to the dataset to do the following:\n",
        "* Remove observations with incomplete results (lack of dimensions + sale price)"
      ]
    },
    {
      "cell_type": "markdown",
      "metadata": {
        "id": "xMlilIiM1n4i"
      },
      "source": [
        "##### Applying filters\n",
        "The following filters are applied to the dataset:\n",
        "* Eliminate incomplete observations by dropping records with NULL values in square footage and sale price.\n",
        "* Reining in gross and land square feet to properties > 100 square feet.\n",
        " * This is done to remove records that are either too dirty or have no significant contribution with respect to real estate\n",
        "* Using only sale prices greater than \\\\$100,000\n",
        " * This is done because price per square foot *realistically* would be (extremely optimistically) $1000/sq. ft in NYC; a minimum"
      ]
    },
    {
      "cell_type": "code",
      "metadata": {
        "id": "-DaJms4w1n4i"
      },
      "source": [
        "# drop NA's that were created during the conversion from the \"-\" value\n",
        "df <- df %>% drop_na(c(gross.square.feet,land.square.feet, sale.price))\n",
        "\n",
        "# removing datapoints whose sqftage is less than 100\n",
        "# removing datapoints whose sale price is <100k. Since median price @nyc is around 1.8k\n",
        "df <- df %>% filter(land.square.feet>100) \n",
        "df <- df %>% filter(gross.square.feet >100)\n",
        "df <- df %>% filter(sale.price>100000)"
      ],
      "execution_count": null,
      "outputs": []
    },
    {
      "cell_type": "code",
      "metadata": {
        "id": "ZiDzY38A1n4k"
      },
      "source": [
        "freq_dist_sale_price <- df %>% group_by(sale.price) %>% summarize(Freq = n())\n",
        "freq_dist_land_square_feet <- df %>% group_by(land.square.feet) %>% summarize(Freq = n())\n",
        "freq_dist_gross_square_feet <- df %>% group_by(gross.square.feet) %>% summarize(Freq = n())\n",
        "\n",
        "# TODO: Add additional filters here? As it is, data is heavily skewed towards commercial properties\n",
        "\n",
        "new_freq_dist_sale_price <- df %>% group_by(sale.price) %>% summarize(Freq = n())\n",
        "new_freq_dist_land_square_feet <- df %>% group_by(land.square.feet) %>% summarize(Freq = n())\n",
        "new_freq_dist_gross_square_feet <- df %>% group_by(gross.square.feet) %>% summarize(Freq = n())"
      ],
      "execution_count": null,
      "outputs": []
    },
    {
      "cell_type": "code",
      "metadata": {
        "id": "sXOb86nE8Zf-"
      },
      "source": [
        "# df <- nyc.data\n",
        "# df$sale.price <- as.numeric(as.character(df$sale.price))\n",
        "# df$land.square.feet <- as.numeric(as.character(df$land.square.feet))\n",
        "# df$gross.square.feet <- as.numeric(as.character(df$gross.square.feet))\n",
        "\n",
        "# df$ease.ment = NULL\n",
        "# df$apartment.number = NULL\n",
        "# df$sale.date = NULL\n",
        "\n",
        "# df$borough = as.factor(df$borough)\n",
        "# df$neighborhood = as.factor(df$neighborhood)\n",
        "# df$building.class.category = as.factor(df$building.class.category)\n",
        "# df$tax.class.at.present = as.factor(df$tax.class.at.present )\n",
        "\n",
        "#block and lot\n",
        "\n",
        "# df$building.class.at.present = as.factor(df$building.class.at.present)\n",
        "\n",
        "#address needs to be feature engineered\n",
        "# avenue, broadway etc.\n",
        "\n",
        "# df$zip.code = as.factor(df$zip.code)\n",
        "\n",
        "#total units is a calculated field. can be ignored\n",
        "\n",
        "#convert sqftage to numeric\n",
        "# df$land.square.feet = as.numeric(df$land.square.feet)\n",
        "# df$gross.square.feet = as.numeric(df$gross.square.feet)\n",
        "\n",
        "#need to feature engineer year built- \n",
        "# option 1- convert to 'age' by subtracting from 2017\n",
        "# option 2- convert to intervals\n",
        "# option 3- convert to factor and leave as is\n",
        "\n",
        "#doing option 3\n",
        "# df$year.built <- as.factor(df$year.built)\n",
        "\n",
        "# df$tax.class.at.time.of.sale = as.factor(df$tax.class.at.time.of.sale)\n",
        "# df$building.class.at.time.of.sale = as.factor(df$building.class.at.time.of.sale)\n",
        "\n",
        "# df$sale.price = as.numeric(df$sale.price) \n",
        "\n",
        "# removed NA and keep only distinct records\n",
        "# df <- df %>% distinct() %>% drop_na(c(gross.square.feet,land.square.feet, sale.price))\n",
        "\n",
        "# #drop NA's that were created during the conversion from the \"-\" value\n",
        "# df <- df %>% drop_na(c(gross.square.feet,land.square.feet, sale.price))\n",
        "\n",
        "# freq_dist_sale_price <- df %>% group_by(sale.price) %>% summarize(Freq = n())\n",
        "# freq_dist_land_square_feet <- df %>% group_by(land.square.feet) %>% summarize(Freq = n())\n",
        "# freq_dist_gross_square_feet <- df %>% group_by(gross.square.feet) %>% summarize(Freq = n())\n",
        "\n",
        "# removing datapoints whose sqftage is less than 100\n",
        "# removing datapoints whose sale price is <100k. Since median price @nyc is around 1.8k\n",
        "\n",
        "# df <- df %>% filter(land.square.feet>100) \n",
        "# df <- df %>% filter(gross.square.feet >100)\n",
        "# df <- df %>% filter(sale.price>100000)\n",
        "\n",
        "# TODO: Add additional filters here? As it is, data is heavily skewed towards commercial properties\n",
        "\n",
        "# new_freq_dist_sale_price <- df %>% group_by(sale.price) %>% summarize(Freq = n())\n",
        "# new_freq_dist_land_square_feet <- df %>% group_by(land.square.feet) %>% summarize(Freq = n())\n",
        "# new_freq_dist_gross_square_feet <- df %>% group_by(gross.square.feet) %>% summarize(Freq = n())"
      ],
      "execution_count": null,
      "outputs": []
    },
    {
      "cell_type": "markdown",
      "metadata": {
        "id": "NdKX5jra9ALM"
      },
      "source": [
        "## Descriptive Stats for Price and Square Footage"
      ]
    },
    {
      "cell_type": "code",
      "metadata": {
        "id": "l1m4qEym84CP"
      },
      "source": [
        "# Descriptive Stats\n",
        "print(\"For `sale.price`...\")\n",
        "max(df$sale.price)\n",
        "class(df$sale.price)\n",
        "max(df$sale.price)\n",
        "min(df$sale.price)\n",
        "\n",
        "cat(\"\\n\")\n",
        "print(\"For `gross.square.feet`...\")\n",
        "max(df$gross.square.feet)\n",
        "min(df$gross.square.feet)\n",
        "\n",
        "cat(\"\\n\")\n",
        "print(\"For `land.square.feet`...\")\n",
        "max(df$land.square.feet)\n",
        "min(df$land.square.feet)"
      ],
      "execution_count": null,
      "outputs": []
    },
    {
      "cell_type": "markdown",
      "metadata": {
        "id": "HEgIwIDK9g07"
      },
      "source": [
        "## Adjusting the data for skewness\n",
        "\n",
        "To get an idea of the skewness of the data, we will produce a histogram.\n",
        "\n",
        "We choose `gross.square.feet` arbitrarily."
      ]
    },
    {
      "cell_type": "code",
      "metadata": {
        "id": "BSc2O-0E89EG"
      },
      "source": [
        "# hist(df$sale.price)\n",
        "hist(df$gross.square.feet)"
      ],
      "execution_count": null,
      "outputs": []
    },
    {
      "cell_type": "markdown",
      "metadata": {
        "id": "YSjpow7i1n47"
      },
      "source": [
        "Based on the histogram above for gross square feet, we observed that the data was heavily skewed and can benefit from a Box Cox + Center/Scaling transformation for improved model performance.\n",
        "\n",
        "BEFORE we do that though, we will separate `sale.price` from the dataframe to prevent the same transformation from applying to the response."
      ]
    },
    {
      "cell_type": "code",
      "metadata": {
        "id": "hqP_lVaT1n48"
      },
      "source": [
        "# Based on the histogram above for gross square feet, we observed that the data was heavily skewed and can benefit \n",
        "# from a Box Cox + Center/Scaling transformation for improved model performance.\n",
        "# BEFORE we do that though, we will separate `sale.price` from the dataframe to \n",
        "# prevent the same transformation from applying to the response.\n",
        "df.y <- as.data.frame(df$sale.price)\n",
        "colnames(df.y) <- c(\"sale.price\")\n",
        "\n",
        "df <- subset(df, select = -c(sale.price))\n",
        "\n",
        "# Validate that sale.price has been removed from the structure of the main data frame.\n",
        "prettyPrintCols(df)"
      ],
      "execution_count": null,
      "outputs": []
    },
    {
      "cell_type": "markdown",
      "metadata": {
        "id": "WwlKhPMZ1n5D"
      },
      "source": [
        "### BoxCox / Centering / Scaling\n",
        "\n",
        "We use the `preProcess()` method to prep a boxcox /centering / scaling routine against the dataset."
      ]
    },
    {
      "cell_type": "code",
      "metadata": {
        "id": "AmCaMh6p1n5E"
      },
      "source": [
        "# Preload a preprocessing routine\n",
        "df.preProc <- preProcess(\n",
        "    df,\n",
        "    method = c(\"BoxCox\", \"center\", \"scale\")\n",
        ")"
      ],
      "execution_count": null,
      "outputs": []
    },
    {
      "cell_type": "code",
      "metadata": {
        "id": "1NhZCKN41n5G"
      },
      "source": [
        "## Apply the transformations\n",
        "df.trans <- predict(df.preProc, df)"
      ],
      "execution_count": null,
      "outputs": []
    },
    {
      "cell_type": "code",
      "metadata": {
        "id": "NbGfbgLQ1n5N"
      },
      "source": [
        "hist(df.trans$gross.square.feet)"
      ],
      "execution_count": null,
      "outputs": []
    },
    {
      "cell_type": "markdown",
      "metadata": {
        "id": "ob3D_g92-IPe"
      },
      "source": [
        "## Multicollinearity Test"
      ]
    },
    {
      "cell_type": "code",
      "metadata": {
        "id": "yzCGkRa--Kw7"
      },
      "source": [
        "# # check multicollinearity\n",
        "# numericpredictors <- c('residential.units','commercial.units','total.units','land.square.feet','gross.square.feet','sale.price')\n",
        "# df_numpreds <- subset(df, select= numericpredictors)\n",
        "# corr <- cor(df_numpreds)\n",
        "# corr\n",
        "# corrplot(corr,method= \"number\",col=brewer.pal(n=8, name=\"PuOr\"))"
      ],
      "execution_count": null,
      "outputs": []
    },
    {
      "cell_type": "markdown",
      "metadata": {
        "id": "K9Rd0Zkt-PJR"
      },
      "source": [
        "## Data Culling"
      ]
    },
    {
      "cell_type": "code",
      "metadata": {
        "id": "D_d_Oskf-RU0"
      },
      "source": [
        "# #remove total units as a predictor since it is highly correlated to # of residential units and commercial units\n",
        "\n",
        "# # one hot encoding the categorical variables\n",
        "# # borough \n",
        "# # neighborhood\n",
        "# # building.class.category \n",
        "# # tax.class.at.present \n",
        "# # building.class.at.present\n",
        "# # zip.code\n",
        "# # year.built\n",
        "# # tax.class.at.time.of.sale\n",
        "# # building.class.at.time.of.sale\n",
        "\n",
        "# dmy <- dummyVars(\" ~ borough +\n",
        "# neighborhood +\n",
        "# building.class.category +\n",
        "# tax.class.at.present +\n",
        "# building.class.at.present +\n",
        "# zip.code +\n",
        "# year.built +\n",
        "# tax.class.at.time.of.sale +\n",
        "# building.class.at.time.of.sale\", data = df)\n",
        "# trsf <- data.frame(predict(dmy, newdata = df))\n",
        "# dim(trsf)\n",
        "\n",
        "# df_for_modeling <- cbind(trsf, df_numpreds)\n",
        "# dim(df_for_modeling)"
      ],
      "execution_count": null,
      "outputs": []
    },
    {
      "cell_type": "markdown",
      "metadata": {
        "id": "3yXZlZ2n-kYs"
      },
      "source": [
        "# Modeling"
      ]
    },
    {
      "cell_type": "markdown",
      "metadata": {
        "id": "0tDf0QnbGRCN"
      },
      "source": [
        "## Partial Least Squares \n"
      ]
    },
    {
      "cell_type": "markdown",
      "metadata": {
        "id": "W3ckrmykg8Dw"
      },
      "source": [
        "### Data Partitioning\n"
      ]
    },
    {
      "cell_type": "code",
      "metadata": {
        "id": "SPSqwjLEZV9T"
      },
      "source": [
        "# Set seed\n",
        "# create a list of random number ranging from 1 to number of rows from actual data \n",
        "# and 70% of the data into training data\n",
        "set.seed(824452)\n",
        "df.shuffled <- sort(sample(nrow(df.trans), nrow(df.trans)*.7))\n",
        "\n",
        "# Create both training and test data sets by using the random ordering created \n",
        "# in the preceding executed line \n",
        "df.pls.train <- as.data.frame(df.trans[df.shuffled,])\n",
        "df.pls.test <- as.data.frame(df.trans[-df.shuffled,])\n",
        "\n",
        "df.y.pls.train <- as.data.frame(df.y[df.shuffled,])\n",
        "df.y.pls.test <- as.data.frame(df.y[-df.shuffled,])\n",
        "\n",
        "# Rename the columns to `sale.price` since that gets removed in the midst of indexing. \n",
        "colnames(df.y.pls.train) <- c(\"sale.price\")\n",
        "colnames(df.y.pls.test) <- c(\"sale.price\")"
      ],
      "execution_count": null,
      "outputs": []
    },
    {
      "cell_type": "markdown",
      "metadata": {
        "id": "4hNUjvO4vt86"
      },
      "source": [
        "## Ordinary Least squares and Robust Linear regression"
      ]
    },
    {
      "cell_type": "code",
      "metadata": {
        "id": "FJnqboUlv3ae"
      },
      "source": [
        "df.lm.train <- df.pls.train\n",
        "df.lm.tree.train <- df.y.pls.train\n",
        "df.lm.test <- df.pls.test\n",
        "\n",
        "linearmodel = lm(df.lm.train$sale.price ~ .,df.lm.train)\n",
        "lm_prediction <- predict(linearmodel,df.lm.test)"
      ],
      "execution_count": null,
      "outputs": []
    },
    {
      "cell_type": "code",
      "metadata": {
        "id": "tk_-Qcgv0cVY"
      },
      "source": [
        "#Robust linear regression\n",
        "robust_linearmodel = rlm(df.lm.train$sale.price ~ .,df.lm.train)\n",
        "rlm_prediction = predict(robust_linearmodel,df.lm.test)\n"
      ],
      "execution_count": null,
      "outputs": []
    },
    {
      "cell_type": "markdown",
      "metadata": {
        "id": "xu6IlKaHnGzU"
      },
      "source": [
        "### Create control for PLS Model\n",
        "\n",
        "This is the `trainControl` method used for Partial Least Squares; this model will use 10-folds Cross Validation for model resampling.\n"
      ]
    },
    {
      "cell_type": "code",
      "metadata": {
        "id": "PuYenD0BnVGM"
      },
      "source": [
        "# create control\n",
        "pls.ctrl <- trainControl(method = \"cv\", number = 10)"
      ],
      "execution_count": null,
      "outputs": []
    },
    {
      "cell_type": "markdown",
      "metadata": {
        "id": "0yGjfnQNhg86"
      },
      "source": [
        "### Partial Least Squares"
      ]
    },
    {
      "cell_type": "code",
      "metadata": {
        "id": "605kDME8yqAd"
      },
      "source": [
        "str(df.pls.train)"
      ],
      "execution_count": null,
      "outputs": []
    },
    {
      "cell_type": "markdown",
      "metadata": {
        "id": "a0GI5nD9yqAe"
      },
      "source": [
        "#### Manual PLS\n",
        "\n",
        "We set the number of components to measure against as 10, then we will use the \n",
        "`plsr()` function to invoke the partial least squares regression."
      ]
    },
    {
      "cell_type": "code",
      "metadata": {
        "id": "mqskWtNjyqAe"
      },
      "source": [
        "numComponents <- 10\n",
        "plsFit.manual = plsr(df.y.pls.train$sale.price ~., data = df.pls.train, ncomp = numComponents)"
      ],
      "execution_count": null,
      "outputs": []
    },
    {
      "cell_type": "code",
      "metadata": {
        "id": "kwjsddvjyqAe"
      },
      "source": [
        "summary(plsFit.manual)"
      ],
      "execution_count": null,
      "outputs": []
    },
    {
      "cell_type": "code",
      "metadata": {
        "id": "xUrT2TYfyqAe"
      },
      "source": [
        "# try on the test data, and then evaluate the results.\n",
        "plsPred.manual = predict(plsFit.manual, df.pls.test, ncomp = numComponents)\n",
        "plsValue.manual = data.frame(obs = df.y.pls.test$sale.price, pred = plsPred.manual[,,1])"
      ],
      "execution_count": null,
      "outputs": []
    },
    {
      "cell_type": "code",
      "metadata": {
        "id": "jk6C87FIyqAe"
      },
      "source": [
        "cat(\"Partial Least Squares (Manual)\")\n",
        "defaultSummary(plsValue.manual)\n",
        "cat(\"\\n\")"
      ],
      "execution_count": null,
      "outputs": []
    },
    {
      "cell_type": "markdown",
      "metadata": {
        "id": "jmMM8d_GyqAe"
      },
      "source": [
        "Based on the results of the manual PLS model, we can see that $R^{2}\\,\\approx\\,0.17$, which indicates that the model was ill-suited to predict or observe a linear relationship between all of the predictors."
      ]
    },
    {
      "cell_type": "markdown",
      "metadata": {
        "id": "9pJ1jAyyyqAe"
      },
      "source": [
        "#### `TrainControl`-based PLS with 10-folds cross validation\n",
        "\n",
        "To verify/validate the results seen in the manual PLS model, we will use a `TrainControl` to automate a 10-fold cross validation of a PLS model. "
      ]
    },
    {
      "cell_type": "code",
      "metadata": {
        "id": "UR4gQ1twhh5f"
      },
      "source": [
        "# #### `TrainControl`-based PLS with 10-folds cross validation\n",
        "# To verify/validate the results seen in the manual PLS model, we will use a `TrainControl` \n",
        "# to automate a 10-fold cross validation of a PLS model. \n",
        "\n",
        "# Partial Least Squares - Automated\n",
        "plsFit.CV <- train(\n",
        "    x = df.pls.train, # select features/predictors\n",
        "    y = df.y.pls.train$sale.price, # select outcome\n",
        "    method = \"pls\",\n",
        "    tuneGrid = expand.grid(ncomp = numComponents),\n",
        "    trControl = pls.ctrl\n",
        ")"
      ],
      "execution_count": null,
      "outputs": []
    },
    {
      "cell_type": "code",
      "metadata": {
        "id": "enbhMg4QyqAe"
      },
      "source": [
        "summary(plsFit.CV)"
      ],
      "execution_count": null,
      "outputs": []
    },
    {
      "cell_type": "code",
      "metadata": {
        "id": "UX_pSeA_yqAe"
      },
      "source": [
        "plsPred.CV <- predict(plsFit.CV, df.pls.test)"
      ],
      "execution_count": null,
      "outputs": []
    },
    {
      "cell_type": "code",
      "metadata": {
        "id": "6p2J1AZZyqAe"
      },
      "source": [
        "plsTest.CV <- data.frame(obs = df.y.pls.test$sale.price, pred = predict(plsFit.CV, df.pls.test))\n",
        "defaultSummary(plsTest.CV)"
      ],
      "execution_count": null,
      "outputs": []
    },
    {
      "cell_type": "markdown",
      "metadata": {
        "id": "qia_Db0VyqAe"
      },
      "source": [
        "Based on the results seen above, the results are virtually indistinguishable from the manual PLS model."
      ]
    },
    {
      "cell_type": "markdown",
      "metadata": {
        "id": "wjlVL_rP18cF"
      },
      "source": [
        "## Tree Based Regression"
      ]
    },
    {
      "cell_type": "markdown",
      "metadata": {
        "id": "1fy8LHYrlX4N"
      },
      "source": [
        "We will use the same partitioned data from the Partial Least Squares Section."
      ]
    },
    {
      "cell_type": "code",
      "metadata": {
        "id": "Vbe5fIf574OD"
      },
      "source": [
        "df.tree.train <- df.pls.train\n",
        "df.y.tree.train <- df.y.pls.train"
      ],
      "execution_count": null,
      "outputs": []
    },
    {
      "cell_type": "code",
      "metadata": {
        "id": "H2gf_IG62UEn"
      },
      "source": [
        "# Setting the seed for our Regression Tree Model\n",
        "set.seed(4000)\n",
        "\n",
        "treebasedfit <- train(\n",
        "  x= df.tree.train, \n",
        "  y= df.y.tree.train$sale.price,\n",
        "  method = \"rpart2\",\n",
        "  tuneLength = 20,\n",
        "  trControl = trainControl(method = \"cv\")\n",
        ")\n",
        "\n",
        "treebasedfit\n",
        "plot(treebasedfit)"
      ],
      "execution_count": null,
      "outputs": []
    },
    {
      "cell_type": "markdown",
      "metadata": {
        "id": "lgGh5IqF-T2V"
      },
      "source": [
        "## Elastic Net"
      ]
    },
    {
      "cell_type": "code",
      "metadata": {
        "id": "wNcuOcjozhfT"
      },
      "source": [
        "# GK's Code to convert to binary predictors\n",
        "numericpredictors <- c('residential.units','commercial.units','total.units','land.square.feet','gross.square.feet')\n",
        "df_numpreds <- subset(df, select= numericpredictors)\n",
        "\n",
        "dmy <- dummyVars(\" ~ borough +\n",
        "neighborhood +\n",
        "building.class.category +\n",
        "tax.class.at.present +\n",
        "building.class.at.present +\n",
        "zip.code +\n",
        "year.built +\n",
        "tax.class.at.time.of.sale +\n",
        "building.class.at.time.of.sale\", data = df)\n",
        "trsf <- data.frame(predict(dmy, newdata = df))\n",
        "dim(trsf)\n",
        "\n",
        "df_for_modeling <- cbind(trsf, df_numpreds)\n",
        "dim(df_for_modeling)\n",
        "\n",
        "# Partition Data\n",
        "nearZeroVar(df_for_modeling)\n",
        "df.enet.train <- df_for_modeling[df.shuffled,-nearZeroVar(df_for_modeling)]\n",
        "df.enet.test <- df_for_modeling[-df.shuffled,-nearZeroVar(df_for_modeling)]\n",
        "\n",
        "df.y.enet.train <- df.y[df.shuffled,]\n",
        "df.y.enet.test <- df.y[-df.shuffled,]\n",
        "\n",
        "# Train Control\n",
        "enet.ctrl <- trainControl(\"LGOCV\")\n",
        "\n",
        "# Tune Grid\n",
        "k=10\n",
        "\n",
        "\n",
        "# Train Model\n",
        "enetFit.MC <- train(x = df.enet.train, # select features/predictors\n",
        "                   y = df.y.enet.train, # select outcome\n",
        "                   method = \"enet\",\n",
        "                   tuneGrid = expand.grid(.fraction = .2*(1:k)/k, .lambda=.001*(1:k)/k),\n",
        "                   trControl = enet.ctrl,\n",
        "                   preProc = c(\"center\", \"scale\"))\n",
        "\n",
        "# Summary\n",
        "summary(enetFit.MC)\n",
        "enetFit.MC$bestTune\n",
        "plot(enetFit.MC)\n",
        "\n",
        "#Preditction\n",
        "enetPred.MC <- predict(enetFit.MC, df.enet.test)\n",
        "\n",
        "enetTest.MC <- data.frame(obs = df.y.enet.test, pred = predict(enetFit.MC, df.enet.test))\n",
        "defaultSummary(enetTest.MC)\n"
      ],
      "execution_count": null,
      "outputs": []
    },
    {
      "cell_type": "markdown",
      "metadata": {
        "id": "vaYxMkCE-ayP"
      },
      "source": [
        "## MARS"
      ]
    },
    {
      "cell_type": "code",
      "metadata": {
        "id": "QfInQKYMadqH"
      },
      "source": [
        "# Partition Data\n",
        "df.mars.train <- df.pls.train\n",
        "df.mars.test <- df.pls.test\n",
        "\n",
        "df.y.mars.train <- df.y[df.shuffled,]\n",
        "df.y.mars.test <- df.y[-df.shuffled,]\n",
        "\n",
        "# Train Control\n",
        "mars.ctrl <- trainControl(\"LGOCV\")\n",
        "\n",
        "# Tune Grid\n",
        "marsGrid = expand.grid(.degree=1:3, .nprune=2:15)\n",
        "\n",
        "# Train Model Packages must be loaded prior \n",
        "marsFit.MC <- train(x = df.mars.test, # select features/predictors\n",
        "                   y = df.y.mars.test, # select outcome\n",
        "                   method = \"earth\",\n",
        "                   tuneGrid = marsGrid,\n",
        "                   trControl = mars.ctrl)\n",
        "\n",
        "warnings()\n",
        "\n",
        "# Summary\n",
        "summary(marsFit.MC)\n",
        "marsFit.MC$bestTune\n",
        "plot(marsFit.MC)\n",
        "\n",
        "#Prediction\n",
        "marsPred.MC <- predict(marsFit.MC, df.mars.test)\n",
        "\n",
        "marsTest.MC <- data.frame(obs = df.y.mars.test, pred = predict(marsFit.MC, df.mars.test))\n",
        "defaultSummary(marsTest.MC)"
      ],
      "execution_count": null,
      "outputs": []
    },
    {
      "cell_type": "markdown",
      "metadata": {
        "id": "931onhs2-3Nf"
      },
      "source": [
        "# RAW CODE - GK"
      ]
    },
    {
      "cell_type": "code",
      "metadata": {
        "id": "_W5_ZWTT9zzd"
      },
      "source": [
        "# head(nycdata)\n",
        "\n",
        "# colnames(nycdata) %<>% str_replace_all(\"\\\\s\", \"_\") %>% tolower()\n",
        "# colnames(nycdata)\n",
        "\n",
        "# str(nycdata)\n",
        "\n",
        "# df <- nycdata\n",
        "# df$sale.price <- as.numeric(as.character(df$sale.price))\n",
        "# df$land.square.feet <- as.numeric(as.character(df$land.square.feet))\n",
        "# df$gross.square.feet <- as.numeric(as.character(df$gross.square.feet))\n",
        "\n",
        "# df$ease.ment = NULL\n",
        "# df$apartment.number = NULL\n",
        "# df$sale.date = NULL\n",
        "\n",
        "# df$borough = as.factor(df$borough)\n",
        "# df$neighborhood = as.factor(df$neighborhood)\n",
        "# df$building.class.category = as.factor(df$building.class.category)\n",
        "# df$tax.class.at.present = as.factor(df$tax.class.at.present )\n",
        "\n",
        "# #block and lot\n",
        "\n",
        "# df$building.class.at.present = as.factor(df$building.class.at.present)\n",
        "\n",
        "# #address needs to be feature engineered\n",
        "# # avenue, broadway etc.\n",
        "\n",
        "# df$zip.code = as.factor(df$zip.code)\n",
        "\n",
        "# #total units is a calculated field. can be ignored\n",
        "\n",
        "# #convert sqftage to numeric\n",
        "# df$land.square.feet = as.numeric(df$land.square.feet)\n",
        "# df$gross.square.feet = as.numeric(df$gross.square.feet)\n",
        "\n",
        "# #need to feature engineer year built- \n",
        "# # option 1- convert to 'age' by subtracting from 2017\n",
        "# # option 2- convert to intervals\n",
        "# # option 3- convert to factor and leave as is\n",
        "\n",
        "# #doing option 3\n",
        "# df$year.built <- as.factor(df$year.built)\n",
        "\n",
        "# df$tax.class.at.time.of.sale = as.factor(df$tax.class.at.time.of.sale)\n",
        "# df$building.class.at.time.of.sale = as.factor(df$building.class.at.time.of.sale)\n",
        "\n",
        "# df$sale.price = as.numeric(df$sale.price)\n",
        "\n",
        "# # removed NA and keep only distinct records\n",
        "# df <- df %>% distinct() %>% drop_na(c(gross.square.feet,land.square.feet, sale.price))\n",
        "\n",
        "# #drop NA's that were created during the conversion from the \"-\" value\n",
        "# df <- df %>% drop_na(c(gross.square.feet,land.square.feet, sale.price))\n",
        "\n",
        "# freq_dist_sale_price <- df %>% group_by(sale.price) %>% summarize(Freq = n())\n",
        "# freq_dist_land_square_feet <- df %>% group_by(land.square.feet) %>% summarize(Freq = n())\n",
        "# freq_dist_gross_square_feet <- df %>% group_by(gross.square.feet) %>% summarize(Freq = n())\n",
        "\n",
        "# freq_dist_sale_price\n",
        "# freq_dist_land_square_feet\n",
        "# freq_dist_gross_square_feet\n",
        "\n",
        "# # removing datapoints whose sqftage is less than 100\n",
        "# # removing datapoints whose sale price is <100k. Since median price @nyc is around 1.8k\n",
        "\n",
        "# df <-df%>% filter(land.square.feet>100) \n",
        "# df<- df %>% filter(gross.square.feet >100)\n",
        "# df<- df %>% filter(sale.price>100000)\n",
        "\n",
        "# new_freq_dist_sale_price <- df %>% group_by(sale.price) %>% summarize(Freq = n())\n",
        "# new_freq_dist_land_square_feet <- df %>% group_by(land.square.feet) %>% summarize(Freq = n())\n",
        "# new_freq_dist_gross_square_feet <- df %>% group_by(gross.square.feet) %>% summarize(Freq = n())\n",
        "\n",
        "# max(nycdata$sale.price)\n",
        "# class(nycdata$sale.price)\n",
        "# max(df$sale.price)\n",
        "# min(df$sale.price)\n",
        "\n",
        "# max(df$gross.square.feet)\n",
        "# min(df$gross.square.feet)\n",
        "\n",
        "# max(df$land.square.feet)\n",
        "# min(df$land.square.feet)\n",
        "\n",
        "# hist(df$sale.price)\n",
        "# hist(df$gross.square.feet)\n",
        "\n",
        "# # check multicollinearity\n",
        "# install.packages(\"corrplot\")\n",
        "# library(corrplot)\n",
        "# library(RColorBrewer)\n",
        "# numericpredictors <- c('residential.units','commercial.units','total.units','land.square.feet','gross.square.feet','sale.price')\n",
        "# df_numpreds <- subset(df, select= numericpredictors)\n",
        "# corr <- cor(df_numpreds)\n",
        "# corr\n",
        "# corrplot(corr,method= \"number\",col=brewer.pal(n=8, name=\"PuOr\"))\n",
        "\n",
        "# #remove total units as a predictor since it is highly correlated to # of residential units and commercial units\n",
        "\n",
        "# # one hot encoding the categorical variables\n",
        "# # borough \n",
        "# # neighborhood\n",
        "# # building.class.category \n",
        "# # tax.class.at.present \n",
        "# # building.class.at.present\n",
        "# # zip.code\n",
        "# # year.built\n",
        "# # tax.class.at.time.of.sale\n",
        "# # building.class.at.time.of.sale\n",
        "\n",
        "# dmy <- dummyVars(\" ~ borough +\n",
        "# neighborhood +\n",
        "# building.class.category +\n",
        "# tax.class.at.present +\n",
        "# building.class.at.present +\n",
        "# zip.code +\n",
        "# year.built +\n",
        "# tax.class.at.time.of.sale +\n",
        "# building.class.at.time.of.sale\", data = df)\n",
        "# trsf <- data.frame(predict(dmy, newdata = df))\n",
        "# dim(trsf)\n",
        "\n",
        "# df_for_modeling <- cbind(trsf, df_numpreds)\n",
        "# dim(df_for_modeling)\n",
        "\n",
        "# #split data into train, validation and test\n",
        "# inTraining <- createDataPartition(df_for_modeling$sale.price, p = .70, list = FALSE)\n",
        "# trainset <- df_for_modeling[ inTraining,]\n",
        "# testandvalidation  <- df_for_modeling[-inTraining,]\n",
        "\n",
        "# testid <- createDataPartition(testandvalidation$sale.price, p = .50, list = FALSE)\n",
        "# testset <- testandvalidation[testid,]\n",
        "# validationset <- testandvalidation[-testid,]\n",
        "\n",
        "# dim(trainset)\n",
        "# dim(validationset)\n",
        "# dim(testset)\n",
        "\n",
        "# # training various models\n",
        "\n",
        "# #Simple Linear Regression"
      ],
      "execution_count": null,
      "outputs": []
    },
    {
      "cell_type": "code",
      "metadata": {
        "id": "sODDyMkzRMbh"
      },
      "source": [
        "plot(nycdata[2],main = colnames(nycdata[2]))\n",
        "plot(nycdata[3],main = colnames(nycdata[3]))\n",
        "plot(nycdata[4],main = colnames(nycdata[4]))\n",
        "plot(nycdata[5],main = colnames(nycdata[5]))\n",
        "plot(nycdata[6],main = colnames(nycdata[6]))\n",
        "plot(nycdata[7],main = colnames(nycdata[7]))\n",
        "plot(nycdata[8],main = colnames(nycdata[8]))\n",
        "#plot(nyc.data[9],main = colnames(nyc.data[9])) Address not done\n",
        "# library(hexbin)\n",
        "#hexbinplot(latitude~longitude, data=nycdata)\n",
        "#plot(nyc.data[10],main = colnames(nyc.data[10]))\n",
        "#plot(nyc.data[11],main = colnames(nyc.data[11]))\n",
        "#plot(nyc.data[12],main = colnames(nyc.data[12])) Apt number not done\n",
        "plot(nyc.data[13],main = colnames(nycdata[13]))\n",
        "histogram(nycdata$residential.units)\n",
        "histogram(nycdata$commercial.units)\n",
        "histogram(nycdata$total.units)\n",
        "histogram(nycdata$land.square.feet)\n",
        "histogram(nycdata$gross.square.feet)\n",
        "histogram(nycdata$year.built)\n",
        "plot(nyc.data[20],main = colnames(nycdata[20]))\n",
        "plot(nyc.data[21],main = colnames(nycdata[21]))\n",
        "histogram(nycdata$sale.price)"
      ],
      "execution_count": null,
      "outputs": []
    },
    {
      "cell_type": "code",
      "metadata": {
        "id": "bj9jSckz592o"
      },
      "source": [
        "nyc.data2 <- nyc.data\n",
        "nyc.data2 <- nyc.data2[which(nyc.data$LATITUDE <= 41),]\n",
        "nyc.data2 <- nyc.data2[which(nyc.data2$LATITUDE >= 40),]\n",
        "nyc.data2 <- nyc.data2[which(nyc.data2$LONGITUDE <= -73.6),]\n",
        "hexbinplot(LATITUDE~LONGITUDE, data=nyc.data2)\n",
        "nyc.data2 <- nyc.data2[which(nyc.data2$LAND.SQUARE.FEET <= 1000000),]\n",
        "nyc.data2 <- nyc.data2[which(nyc.data2$LAND.SQUARE.FEET >= 100),]\n",
        "nyc.data2 <- nyc.data2[which(nyc.data2$GROSS.SQUARE.FEET >= 100),]\n",
        "nyc.data2 <- nyc.data2[which(nyc.data2$SALE.PRICE >= 100000),]\n",
        "nyc.data2 <- nyc.data2[which(nyc.data2$YEAR.BUILT >= 1500),]"
      ],
      "execution_count": null,
      "outputs": []
    },
    {
      "cell_type": "code",
      "metadata": {
        "id": "g0bZNEx6_D9D"
      },
      "source": [
        ""
      ],
      "execution_count": null,
      "outputs": []
    }
  ]
}